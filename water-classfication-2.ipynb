{
 "cells": [
  {
   "cell_type": "code",
   "execution_count": 1,
   "id": "60abfb42",
   "metadata": {
    "_cell_guid": "b1076dfc-b9ad-4769-8c92-a6c4dae69d19",
    "_uuid": "8f2839f25d086af736a60e9eeb907d3b93b6e0e5",
    "execution": {
     "iopub.execute_input": "2022-03-06T10:09:24.120973Z",
     "iopub.status.busy": "2022-03-06T10:09:24.116234Z",
     "iopub.status.idle": "2022-03-06T10:09:24.137796Z",
     "shell.execute_reply": "2022-03-06T10:09:24.137128Z",
     "shell.execute_reply.started": "2022-03-06T10:05:27.456764Z"
    },
    "papermill": {
     "duration": 0.087588,
     "end_time": "2022-03-06T10:09:24.137948",
     "exception": false,
     "start_time": "2022-03-06T10:09:24.050360",
     "status": "completed"
    },
    "tags": []
   },
   "outputs": [
    {
     "name": "stdout",
     "output_type": "stream",
     "text": [
      "/kaggle/input/water-potability/water_potability.csv\n"
     ]
    }
   ],
   "source": [
    "# This Python 3 environment comes with many helpful analytics libraries installed\n",
    "# It is defined by the kaggle/python Docker image: https://github.com/kaggle/docker-python\n",
    "# For example, here's several helpful packages to load\n",
    "\n",
    "import numpy as np # linear algebra\n",
    "import pandas as pd # data processing, CSV file I/O (e.g. pd.read_csv)\n",
    "\n",
    "# Input data files are available in the read-only \"../input/\" directory\n",
    "# For example, running this (by clicking run or pressing Shift+Enter) will list all files under the input directory\n",
    "\n",
    "import os\n",
    "for dirname, _, filenames in os.walk('/kaggle/input'):\n",
    "    for filename in filenames:\n",
    "        print(os.path.join(dirname, filename))\n",
    "\n",
    "# You can write up to 20GB to the current directory (/kaggle/working/) that gets preserved as output when you create a version using \"Save & Run All\" \n",
    "# You can also write temporary files to /kaggle/temp/, but they won't be saved outside of the current session"
   ]
  },
  {
   "cell_type": "code",
   "execution_count": 2,
   "id": "8f9c10d7",
   "metadata": {
    "execution": {
     "iopub.execute_input": "2022-03-06T10:09:24.238856Z",
     "iopub.status.busy": "2022-03-06T10:09:24.238256Z",
     "iopub.status.idle": "2022-03-06T10:09:24.282143Z",
     "shell.execute_reply": "2022-03-06T10:09:24.281564Z",
     "shell.execute_reply.started": "2022-03-06T10:05:27.490829Z"
    },
    "papermill": {
     "duration": 0.094929,
     "end_time": "2022-03-06T10:09:24.282281",
     "exception": false,
     "start_time": "2022-03-06T10:09:24.187352",
     "status": "completed"
    },
    "tags": []
   },
   "outputs": [],
   "source": [
    "data = pd.read_csv('../input/water-potability/water_potability.csv')"
   ]
  },
  {
   "cell_type": "code",
   "execution_count": 3,
   "id": "651792fe",
   "metadata": {
    "execution": {
     "iopub.execute_input": "2022-03-06T10:09:24.397646Z",
     "iopub.status.busy": "2022-03-06T10:09:24.397096Z",
     "iopub.status.idle": "2022-03-06T10:09:24.401704Z",
     "shell.execute_reply": "2022-03-06T10:09:24.402266Z",
     "shell.execute_reply.started": "2022-03-06T09:01:18.221569Z"
    },
    "papermill": {
     "duration": 0.060107,
     "end_time": "2022-03-06T10:09:24.402428",
     "exception": false,
     "start_time": "2022-03-06T10:09:24.342321",
     "status": "completed"
    },
    "tags": []
   },
   "outputs": [
    {
     "data": {
      "text/plain": [
       "(3276, 10)"
      ]
     },
     "execution_count": 3,
     "metadata": {},
     "output_type": "execute_result"
    }
   ],
   "source": [
    "data.shape"
   ]
  },
  {
   "cell_type": "code",
   "execution_count": 4,
   "id": "9bc4f679",
   "metadata": {
    "execution": {
     "iopub.execute_input": "2022-03-06T10:09:24.508839Z",
     "iopub.status.busy": "2022-03-06T10:09:24.508253Z",
     "iopub.status.idle": "2022-03-06T10:09:24.530273Z",
     "shell.execute_reply": "2022-03-06T10:09:24.530696Z",
     "shell.execute_reply.started": "2022-03-06T09:01:21.979357Z"
    },
    "papermill": {
     "duration": 0.079157,
     "end_time": "2022-03-06T10:09:24.530860",
     "exception": false,
     "start_time": "2022-03-06T10:09:24.451703",
     "status": "completed"
    },
    "tags": []
   },
   "outputs": [
    {
     "data": {
      "text/html": [
       "<div>\n",
       "<style scoped>\n",
       "    .dataframe tbody tr th:only-of-type {\n",
       "        vertical-align: middle;\n",
       "    }\n",
       "\n",
       "    .dataframe tbody tr th {\n",
       "        vertical-align: top;\n",
       "    }\n",
       "\n",
       "    .dataframe thead th {\n",
       "        text-align: right;\n",
       "    }\n",
       "</style>\n",
       "<table border=\"1\" class=\"dataframe\">\n",
       "  <thead>\n",
       "    <tr style=\"text-align: right;\">\n",
       "      <th></th>\n",
       "      <th>ph</th>\n",
       "      <th>Hardness</th>\n",
       "      <th>Solids</th>\n",
       "      <th>Chloramines</th>\n",
       "      <th>Sulfate</th>\n",
       "      <th>Conductivity</th>\n",
       "      <th>Organic_carbon</th>\n",
       "      <th>Trihalomethanes</th>\n",
       "      <th>Turbidity</th>\n",
       "      <th>Potability</th>\n",
       "    </tr>\n",
       "  </thead>\n",
       "  <tbody>\n",
       "    <tr>\n",
       "      <th>0</th>\n",
       "      <td>NaN</td>\n",
       "      <td>204.890455</td>\n",
       "      <td>20791.318981</td>\n",
       "      <td>7.300212</td>\n",
       "      <td>368.516441</td>\n",
       "      <td>564.308654</td>\n",
       "      <td>10.379783</td>\n",
       "      <td>86.990970</td>\n",
       "      <td>2.963135</td>\n",
       "      <td>0</td>\n",
       "    </tr>\n",
       "    <tr>\n",
       "      <th>1</th>\n",
       "      <td>3.716080</td>\n",
       "      <td>129.422921</td>\n",
       "      <td>18630.057858</td>\n",
       "      <td>6.635246</td>\n",
       "      <td>NaN</td>\n",
       "      <td>592.885359</td>\n",
       "      <td>15.180013</td>\n",
       "      <td>56.329076</td>\n",
       "      <td>4.500656</td>\n",
       "      <td>0</td>\n",
       "    </tr>\n",
       "    <tr>\n",
       "      <th>2</th>\n",
       "      <td>8.099124</td>\n",
       "      <td>224.236259</td>\n",
       "      <td>19909.541732</td>\n",
       "      <td>9.275884</td>\n",
       "      <td>NaN</td>\n",
       "      <td>418.606213</td>\n",
       "      <td>16.868637</td>\n",
       "      <td>66.420093</td>\n",
       "      <td>3.055934</td>\n",
       "      <td>0</td>\n",
       "    </tr>\n",
       "    <tr>\n",
       "      <th>3</th>\n",
       "      <td>8.316766</td>\n",
       "      <td>214.373394</td>\n",
       "      <td>22018.417441</td>\n",
       "      <td>8.059332</td>\n",
       "      <td>356.886136</td>\n",
       "      <td>363.266516</td>\n",
       "      <td>18.436524</td>\n",
       "      <td>100.341674</td>\n",
       "      <td>4.628771</td>\n",
       "      <td>0</td>\n",
       "    </tr>\n",
       "    <tr>\n",
       "      <th>4</th>\n",
       "      <td>9.092223</td>\n",
       "      <td>181.101509</td>\n",
       "      <td>17978.986339</td>\n",
       "      <td>6.546600</td>\n",
       "      <td>310.135738</td>\n",
       "      <td>398.410813</td>\n",
       "      <td>11.558279</td>\n",
       "      <td>31.997993</td>\n",
       "      <td>4.075075</td>\n",
       "      <td>0</td>\n",
       "    </tr>\n",
       "  </tbody>\n",
       "</table>\n",
       "</div>"
      ],
      "text/plain": [
       "         ph    Hardness        Solids  Chloramines     Sulfate  Conductivity  \\\n",
       "0       NaN  204.890455  20791.318981     7.300212  368.516441    564.308654   \n",
       "1  3.716080  129.422921  18630.057858     6.635246         NaN    592.885359   \n",
       "2  8.099124  224.236259  19909.541732     9.275884         NaN    418.606213   \n",
       "3  8.316766  214.373394  22018.417441     8.059332  356.886136    363.266516   \n",
       "4  9.092223  181.101509  17978.986339     6.546600  310.135738    398.410813   \n",
       "\n",
       "   Organic_carbon  Trihalomethanes  Turbidity  Potability  \n",
       "0       10.379783        86.990970   2.963135           0  \n",
       "1       15.180013        56.329076   4.500656           0  \n",
       "2       16.868637        66.420093   3.055934           0  \n",
       "3       18.436524       100.341674   4.628771           0  \n",
       "4       11.558279        31.997993   4.075075           0  "
      ]
     },
     "execution_count": 4,
     "metadata": {},
     "output_type": "execute_result"
    }
   ],
   "source": [
    "data.head()"
   ]
  },
  {
   "cell_type": "code",
   "execution_count": 5,
   "id": "9f0f3979",
   "metadata": {
    "execution": {
     "iopub.execute_input": "2022-03-06T10:09:24.630813Z",
     "iopub.status.busy": "2022-03-06T10:09:24.629015Z",
     "iopub.status.idle": "2022-03-06T10:09:24.657590Z",
     "shell.execute_reply": "2022-03-06T10:09:24.658101Z",
     "shell.execute_reply.started": "2022-03-06T09:01:25.220862Z"
    },
    "papermill": {
     "duration": 0.079768,
     "end_time": "2022-03-06T10:09:24.658255",
     "exception": false,
     "start_time": "2022-03-06T10:09:24.578487",
     "status": "completed"
    },
    "tags": []
   },
   "outputs": [
    {
     "name": "stdout",
     "output_type": "stream",
     "text": [
      "<class 'pandas.core.frame.DataFrame'>\n",
      "RangeIndex: 3276 entries, 0 to 3275\n",
      "Data columns (total 10 columns):\n",
      " #   Column           Non-Null Count  Dtype  \n",
      "---  ------           --------------  -----  \n",
      " 0   ph               2785 non-null   float64\n",
      " 1   Hardness         3276 non-null   float64\n",
      " 2   Solids           3276 non-null   float64\n",
      " 3   Chloramines      3276 non-null   float64\n",
      " 4   Sulfate          2495 non-null   float64\n",
      " 5   Conductivity     3276 non-null   float64\n",
      " 6   Organic_carbon   3276 non-null   float64\n",
      " 7   Trihalomethanes  3114 non-null   float64\n",
      " 8   Turbidity        3276 non-null   float64\n",
      " 9   Potability       3276 non-null   int64  \n",
      "dtypes: float64(9), int64(1)\n",
      "memory usage: 256.1 KB\n"
     ]
    }
   ],
   "source": [
    "data.info()"
   ]
  },
  {
   "cell_type": "code",
   "execution_count": 6,
   "id": "3fc45e0c",
   "metadata": {
    "execution": {
     "iopub.execute_input": "2022-03-06T10:09:24.757296Z",
     "iopub.status.busy": "2022-03-06T10:09:24.756699Z",
     "iopub.status.idle": "2022-03-06T10:09:24.765713Z",
     "shell.execute_reply": "2022-03-06T10:09:24.766144Z",
     "shell.execute_reply.started": "2022-03-06T09:01:36.702569Z"
    },
    "papermill": {
     "duration": 0.059834,
     "end_time": "2022-03-06T10:09:24.766312",
     "exception": false,
     "start_time": "2022-03-06T10:09:24.706478",
     "status": "completed"
    },
    "tags": []
   },
   "outputs": [
    {
     "data": {
      "text/plain": [
       "ph                 491\n",
       "Hardness             0\n",
       "Solids               0\n",
       "Chloramines          0\n",
       "Sulfate            781\n",
       "Conductivity         0\n",
       "Organic_carbon       0\n",
       "Trihalomethanes    162\n",
       "Turbidity            0\n",
       "Potability           0\n",
       "dtype: int64"
      ]
     },
     "execution_count": 6,
     "metadata": {},
     "output_type": "execute_result"
    }
   ],
   "source": [
    "data.isna().sum()"
   ]
  },
  {
   "cell_type": "code",
   "execution_count": null,
   "id": "f5263dee",
   "metadata": {
    "papermill": {
     "duration": 0.046207,
     "end_time": "2022-03-06T10:09:24.859369",
     "exception": false,
     "start_time": "2022-03-06T10:09:24.813162",
     "status": "completed"
    },
    "tags": []
   },
   "outputs": [],
   "source": []
  },
  {
   "cell_type": "code",
   "execution_count": 7,
   "id": "04565930",
   "metadata": {
    "execution": {
     "iopub.execute_input": "2022-03-06T10:09:24.956870Z",
     "iopub.status.busy": "2022-03-06T10:09:24.956295Z",
     "iopub.status.idle": "2022-03-06T10:09:24.960193Z",
     "shell.execute_reply": "2022-03-06T10:09:24.960606Z",
     "shell.execute_reply.started": "2022-03-06T09:07:15.569807Z"
    },
    "papermill": {
     "duration": 0.055064,
     "end_time": "2022-03-06T10:09:24.960776",
     "exception": false,
     "start_time": "2022-03-06T10:09:24.905712",
     "status": "completed"
    },
    "tags": []
   },
   "outputs": [],
   "source": [
    "y = data['Potability']"
   ]
  },
  {
   "cell_type": "code",
   "execution_count": 8,
   "id": "d002a216",
   "metadata": {
    "execution": {
     "iopub.execute_input": "2022-03-06T10:09:25.068630Z",
     "iopub.status.busy": "2022-03-06T10:09:25.068125Z",
     "iopub.status.idle": "2022-03-06T10:09:25.075365Z",
     "shell.execute_reply": "2022-03-06T10:09:25.075800Z",
     "shell.execute_reply.started": "2022-03-06T09:07:39.561042Z"
    },
    "papermill": {
     "duration": 0.066632,
     "end_time": "2022-03-06T10:09:25.075956",
     "exception": false,
     "start_time": "2022-03-06T10:09:25.009324",
     "status": "completed"
    },
    "tags": []
   },
   "outputs": [],
   "source": [
    "x = data.drop('Potability', axis=1)"
   ]
  },
  {
   "cell_type": "code",
   "execution_count": 9,
   "id": "e492e068",
   "metadata": {
    "execution": {
     "iopub.execute_input": "2022-03-06T10:09:25.180536Z",
     "iopub.status.busy": "2022-03-06T10:09:25.179935Z",
     "iopub.status.idle": "2022-03-06T10:09:25.185832Z",
     "shell.execute_reply": "2022-03-06T10:09:25.186267Z",
     "shell.execute_reply.started": "2022-03-06T09:07:48.749940Z"
    },
    "papermill": {
     "duration": 0.06358,
     "end_time": "2022-03-06T10:09:25.186426",
     "exception": false,
     "start_time": "2022-03-06T10:09:25.122846",
     "status": "completed"
    },
    "tags": []
   },
   "outputs": [
    {
     "data": {
      "text/html": [
       "<div>\n",
       "<style scoped>\n",
       "    .dataframe tbody tr th:only-of-type {\n",
       "        vertical-align: middle;\n",
       "    }\n",
       "\n",
       "    .dataframe tbody tr th {\n",
       "        vertical-align: top;\n",
       "    }\n",
       "\n",
       "    .dataframe thead th {\n",
       "        text-align: right;\n",
       "    }\n",
       "</style>\n",
       "<table border=\"1\" class=\"dataframe\">\n",
       "  <thead>\n",
       "    <tr style=\"text-align: right;\">\n",
       "      <th></th>\n",
       "      <th>ph</th>\n",
       "      <th>Hardness</th>\n",
       "      <th>Solids</th>\n",
       "      <th>Chloramines</th>\n",
       "      <th>Sulfate</th>\n",
       "      <th>Conductivity</th>\n",
       "      <th>Organic_carbon</th>\n",
       "      <th>Trihalomethanes</th>\n",
       "      <th>Turbidity</th>\n",
       "    </tr>\n",
       "  </thead>\n",
       "  <tbody>\n",
       "    <tr>\n",
       "      <th>0</th>\n",
       "      <td>NaN</td>\n",
       "      <td>204.890455</td>\n",
       "      <td>20791.318981</td>\n",
       "      <td>7.300212</td>\n",
       "      <td>368.516441</td>\n",
       "      <td>564.308654</td>\n",
       "      <td>10.379783</td>\n",
       "      <td>86.990970</td>\n",
       "      <td>2.963135</td>\n",
       "    </tr>\n",
       "    <tr>\n",
       "      <th>1</th>\n",
       "      <td>3.716080</td>\n",
       "      <td>129.422921</td>\n",
       "      <td>18630.057858</td>\n",
       "      <td>6.635246</td>\n",
       "      <td>NaN</td>\n",
       "      <td>592.885359</td>\n",
       "      <td>15.180013</td>\n",
       "      <td>56.329076</td>\n",
       "      <td>4.500656</td>\n",
       "    </tr>\n",
       "    <tr>\n",
       "      <th>2</th>\n",
       "      <td>8.099124</td>\n",
       "      <td>224.236259</td>\n",
       "      <td>19909.541732</td>\n",
       "      <td>9.275884</td>\n",
       "      <td>NaN</td>\n",
       "      <td>418.606213</td>\n",
       "      <td>16.868637</td>\n",
       "      <td>66.420093</td>\n",
       "      <td>3.055934</td>\n",
       "    </tr>\n",
       "    <tr>\n",
       "      <th>3</th>\n",
       "      <td>8.316766</td>\n",
       "      <td>214.373394</td>\n",
       "      <td>22018.417441</td>\n",
       "      <td>8.059332</td>\n",
       "      <td>356.886136</td>\n",
       "      <td>363.266516</td>\n",
       "      <td>18.436524</td>\n",
       "      <td>100.341674</td>\n",
       "      <td>4.628771</td>\n",
       "    </tr>\n",
       "    <tr>\n",
       "      <th>4</th>\n",
       "      <td>9.092223</td>\n",
       "      <td>181.101509</td>\n",
       "      <td>17978.986339</td>\n",
       "      <td>6.546600</td>\n",
       "      <td>310.135738</td>\n",
       "      <td>398.410813</td>\n",
       "      <td>11.558279</td>\n",
       "      <td>31.997993</td>\n",
       "      <td>4.075075</td>\n",
       "    </tr>\n",
       "  </tbody>\n",
       "</table>\n",
       "</div>"
      ],
      "text/plain": [
       "         ph    Hardness        Solids  Chloramines     Sulfate  Conductivity  \\\n",
       "0       NaN  204.890455  20791.318981     7.300212  368.516441    564.308654   \n",
       "1  3.716080  129.422921  18630.057858     6.635246         NaN    592.885359   \n",
       "2  8.099124  224.236259  19909.541732     9.275884         NaN    418.606213   \n",
       "3  8.316766  214.373394  22018.417441     8.059332  356.886136    363.266516   \n",
       "4  9.092223  181.101509  17978.986339     6.546600  310.135738    398.410813   \n",
       "\n",
       "   Organic_carbon  Trihalomethanes  Turbidity  \n",
       "0       10.379783        86.990970   2.963135  \n",
       "1       15.180013        56.329076   4.500656  \n",
       "2       16.868637        66.420093   3.055934  \n",
       "3       18.436524       100.341674   4.628771  \n",
       "4       11.558279        31.997993   4.075075  "
      ]
     },
     "execution_count": 9,
     "metadata": {},
     "output_type": "execute_result"
    }
   ],
   "source": [
    "x.head()"
   ]
  },
  {
   "cell_type": "markdown",
   "id": "8adb3c1a",
   "metadata": {
    "papermill": {
     "duration": 0.046975,
     "end_time": "2022-03-06T10:09:25.280656",
     "exception": false,
     "start_time": "2022-03-06T10:09:25.233681",
     "status": "completed"
    },
    "tags": []
   },
   "source": [
    "### This is my second approach\n",
    "#### I will try to fill the null value using the column's median and without scaling proccess, the data will used directly for the DTC model"
   ]
  },
  {
   "cell_type": "code",
   "execution_count": 10,
   "id": "9289e78c",
   "metadata": {
    "execution": {
     "iopub.execute_input": "2022-03-06T10:09:25.378273Z",
     "iopub.status.busy": "2022-03-06T10:09:25.377633Z",
     "iopub.status.idle": "2022-03-06T10:09:27.123728Z",
     "shell.execute_reply": "2022-03-06T10:09:27.123083Z",
     "shell.execute_reply.started": "2022-03-06T09:05:07.170373Z"
    },
    "papermill": {
     "duration": 1.796962,
     "end_time": "2022-03-06T10:09:27.123872",
     "exception": false,
     "start_time": "2022-03-06T10:09:25.326910",
     "status": "completed"
    },
    "tags": []
   },
   "outputs": [],
   "source": [
    "from sklearn.impute import SimpleImputer"
   ]
  },
  {
   "cell_type": "code",
   "execution_count": 11,
   "id": "1f377099",
   "metadata": {
    "execution": {
     "iopub.execute_input": "2022-03-06T10:09:27.224499Z",
     "iopub.status.busy": "2022-03-06T10:09:27.223928Z",
     "iopub.status.idle": "2022-03-06T10:09:27.227222Z",
     "shell.execute_reply": "2022-03-06T10:09:27.226749Z",
     "shell.execute_reply.started": "2022-03-06T09:06:00.058814Z"
    },
    "papermill": {
     "duration": 0.055652,
     "end_time": "2022-03-06T10:09:27.227353",
     "exception": false,
     "start_time": "2022-03-06T10:09:27.171701",
     "status": "completed"
    },
    "tags": []
   },
   "outputs": [],
   "source": [
    "imp = SimpleImputer(strategy='median')"
   ]
  },
  {
   "cell_type": "code",
   "execution_count": 12,
   "id": "3b441745",
   "metadata": {
    "execution": {
     "iopub.execute_input": "2022-03-06T10:09:27.330932Z",
     "iopub.status.busy": "2022-03-06T10:09:27.330193Z",
     "iopub.status.idle": "2022-03-06T10:09:27.345373Z",
     "shell.execute_reply": "2022-03-06T10:09:27.345893Z",
     "shell.execute_reply.started": "2022-03-06T09:08:06.830126Z"
    },
    "papermill": {
     "duration": 0.070213,
     "end_time": "2022-03-06T10:09:27.346065",
     "exception": false,
     "start_time": "2022-03-06T10:09:27.275852",
     "status": "completed"
    },
    "tags": []
   },
   "outputs": [
    {
     "data": {
      "text/plain": [
       "SimpleImputer(strategy='median')"
      ]
     },
     "execution_count": 12,
     "metadata": {},
     "output_type": "execute_result"
    }
   ],
   "source": [
    "imp.fit(x)"
   ]
  },
  {
   "cell_type": "code",
   "execution_count": 13,
   "id": "ac3c32bc",
   "metadata": {
    "execution": {
     "iopub.execute_input": "2022-03-06T10:09:27.447566Z",
     "iopub.status.busy": "2022-03-06T10:09:27.447010Z",
     "iopub.status.idle": "2022-03-06T10:09:27.451688Z",
     "shell.execute_reply": "2022-03-06T10:09:27.451187Z",
     "shell.execute_reply.started": "2022-03-06T09:08:27.268773Z"
    },
    "papermill": {
     "duration": 0.059528,
     "end_time": "2022-03-06T10:09:27.451827",
     "exception": false,
     "start_time": "2022-03-06T10:09:27.392299",
     "status": "completed"
    },
    "tags": []
   },
   "outputs": [],
   "source": [
    "x_filled = imp.transform(x)"
   ]
  },
  {
   "cell_type": "code",
   "execution_count": 14,
   "id": "e8f9ef96",
   "metadata": {
    "execution": {
     "iopub.execute_input": "2022-03-06T10:09:27.550536Z",
     "iopub.status.busy": "2022-03-06T10:09:27.549972Z",
     "iopub.status.idle": "2022-03-06T10:09:27.556355Z",
     "shell.execute_reply": "2022-03-06T10:09:27.556806Z",
     "shell.execute_reply.started": "2022-03-06T09:08:47.099875Z"
    },
    "papermill": {
     "duration": 0.05646,
     "end_time": "2022-03-06T10:09:27.556968",
     "exception": false,
     "start_time": "2022-03-06T10:09:27.500508",
     "status": "completed"
    },
    "tags": []
   },
   "outputs": [
    {
     "data": {
      "text/plain": [
       "array([7.03675210e+00, 2.04890455e+02, 2.07913190e+04, 7.30021187e+00,\n",
       "       3.68516441e+02, 5.64308654e+02, 1.03797831e+01, 8.69909705e+01,\n",
       "       2.96313538e+00])"
      ]
     },
     "execution_count": 14,
     "metadata": {},
     "output_type": "execute_result"
    }
   ],
   "source": [
    "x_filled[0]"
   ]
  },
  {
   "cell_type": "code",
   "execution_count": null,
   "id": "f47ac6b3",
   "metadata": {
    "papermill": {
     "duration": 0.047957,
     "end_time": "2022-03-06T10:09:27.652747",
     "exception": false,
     "start_time": "2022-03-06T10:09:27.604790",
     "status": "completed"
    },
    "tags": []
   },
   "outputs": [],
   "source": []
  },
  {
   "cell_type": "markdown",
   "id": "20cb8412",
   "metadata": {
    "papermill": {
     "duration": 0.04768,
     "end_time": "2022-03-06T10:09:27.750263",
     "exception": false,
     "start_time": "2022-03-06T10:09:27.702583",
     "status": "completed"
    },
    "tags": []
   },
   "source": [
    "#### Split the data"
   ]
  },
  {
   "cell_type": "code",
   "execution_count": 15,
   "id": "74635e84",
   "metadata": {
    "execution": {
     "iopub.execute_input": "2022-03-06T10:09:27.853373Z",
     "iopub.status.busy": "2022-03-06T10:09:27.852813Z",
     "iopub.status.idle": "2022-03-06T10:09:27.856961Z",
     "shell.execute_reply": "2022-03-06T10:09:27.856492Z",
     "shell.execute_reply.started": "2022-03-06T09:10:27.506769Z"
    },
    "papermill": {
     "duration": 0.057531,
     "end_time": "2022-03-06T10:09:27.857109",
     "exception": false,
     "start_time": "2022-03-06T10:09:27.799578",
     "status": "completed"
    },
    "tags": []
   },
   "outputs": [],
   "source": [
    "from sklearn.model_selection import train_test_split"
   ]
  },
  {
   "cell_type": "code",
   "execution_count": 16,
   "id": "8e7833a1",
   "metadata": {
    "execution": {
     "iopub.execute_input": "2022-03-06T10:09:27.957648Z",
     "iopub.status.busy": "2022-03-06T10:09:27.957037Z",
     "iopub.status.idle": "2022-03-06T10:09:27.960419Z",
     "shell.execute_reply": "2022-03-06T10:09:27.959928Z",
     "shell.execute_reply.started": "2022-03-06T09:10:45.227405Z"
    },
    "papermill": {
     "duration": 0.056117,
     "end_time": "2022-03-06T10:09:27.960536",
     "exception": false,
     "start_time": "2022-03-06T10:09:27.904419",
     "status": "completed"
    },
    "tags": []
   },
   "outputs": [],
   "source": [
    "train_x, test_x, train_y, test_y  = train_test_split(x_filled, y, test_size=0.2, random_state=42)"
   ]
  },
  {
   "cell_type": "code",
   "execution_count": 17,
   "id": "4abfae0b",
   "metadata": {
    "execution": {
     "iopub.execute_input": "2022-03-06T10:09:28.056915Z",
     "iopub.status.busy": "2022-03-06T10:09:28.056402Z",
     "iopub.status.idle": "2022-03-06T10:09:28.063122Z",
     "shell.execute_reply": "2022-03-06T10:09:28.063517Z",
     "shell.execute_reply.started": "2022-03-06T09:11:03.199953Z"
    },
    "papermill": {
     "duration": 0.057278,
     "end_time": "2022-03-06T10:09:28.063738",
     "exception": false,
     "start_time": "2022-03-06T10:09:28.006460",
     "status": "completed"
    },
    "tags": []
   },
   "outputs": [
    {
     "data": {
      "text/plain": [
       "(2620, 9)"
      ]
     },
     "execution_count": 17,
     "metadata": {},
     "output_type": "execute_result"
    }
   ],
   "source": [
    "train_x.shape"
   ]
  },
  {
   "cell_type": "code",
   "execution_count": 18,
   "id": "4194bb8a",
   "metadata": {
    "execution": {
     "iopub.execute_input": "2022-03-06T10:09:28.162979Z",
     "iopub.status.busy": "2022-03-06T10:09:28.162479Z",
     "iopub.status.idle": "2022-03-06T10:09:28.168049Z",
     "shell.execute_reply": "2022-03-06T10:09:28.168452Z",
     "shell.execute_reply.started": "2022-03-06T09:11:23.990408Z"
    },
    "papermill": {
     "duration": 0.057386,
     "end_time": "2022-03-06T10:09:28.168621",
     "exception": false,
     "start_time": "2022-03-06T10:09:28.111235",
     "status": "completed"
    },
    "tags": []
   },
   "outputs": [
    {
     "data": {
      "text/plain": [
       "(656, 9)"
      ]
     },
     "execution_count": 18,
     "metadata": {},
     "output_type": "execute_result"
    }
   ],
   "source": [
    "test_x.shape"
   ]
  },
  {
   "cell_type": "markdown",
   "id": "c65d8e8b",
   "metadata": {
    "papermill": {
     "duration": 0.048116,
     "end_time": "2022-03-06T10:09:28.265586",
     "exception": false,
     "start_time": "2022-03-06T10:09:28.217470",
     "status": "completed"
    },
    "tags": []
   },
   "source": [
    "### Models"
   ]
  },
  {
   "cell_type": "code",
   "execution_count": 19,
   "id": "b72c0601",
   "metadata": {
    "execution": {
     "iopub.execute_input": "2022-03-06T10:09:28.366656Z",
     "iopub.status.busy": "2022-03-06T10:09:28.366082Z",
     "iopub.status.idle": "2022-03-06T10:09:28.413295Z",
     "shell.execute_reply": "2022-03-06T10:09:28.412709Z",
     "shell.execute_reply.started": "2022-03-06T09:09:27.068883Z"
    },
    "papermill": {
     "duration": 0.099158,
     "end_time": "2022-03-06T10:09:28.413422",
     "exception": false,
     "start_time": "2022-03-06T10:09:28.314264",
     "status": "completed"
    },
    "tags": []
   },
   "outputs": [],
   "source": [
    "from sklearn.tree import DecisionTreeClassifier"
   ]
  },
  {
   "cell_type": "code",
   "execution_count": 20,
   "id": "85c3aaa4",
   "metadata": {
    "execution": {
     "iopub.execute_input": "2022-03-06T10:09:28.518579Z",
     "iopub.status.busy": "2022-03-06T10:09:28.517979Z",
     "iopub.status.idle": "2022-03-06T10:09:28.520265Z",
     "shell.execute_reply": "2022-03-06T10:09:28.519830Z",
     "shell.execute_reply.started": "2022-03-06T09:11:46.983336Z"
    },
    "papermill": {
     "duration": 0.055304,
     "end_time": "2022-03-06T10:09:28.520381",
     "exception": false,
     "start_time": "2022-03-06T10:09:28.465077",
     "status": "completed"
    },
    "tags": []
   },
   "outputs": [],
   "source": [
    "dtc = DecisionTreeClassifier(random_state=0)"
   ]
  },
  {
   "cell_type": "code",
   "execution_count": 21,
   "id": "3740faa1",
   "metadata": {
    "execution": {
     "iopub.execute_input": "2022-03-06T10:09:28.646510Z",
     "iopub.status.busy": "2022-03-06T10:09:28.645760Z",
     "iopub.status.idle": "2022-03-06T10:09:28.696299Z",
     "shell.execute_reply": "2022-03-06T10:09:28.696918Z",
     "shell.execute_reply.started": "2022-03-06T09:12:34.034036Z"
    },
    "papermill": {
     "duration": 0.128799,
     "end_time": "2022-03-06T10:09:28.697145",
     "exception": false,
     "start_time": "2022-03-06T10:09:28.568346",
     "status": "completed"
    },
    "tags": []
   },
   "outputs": [
    {
     "data": {
      "text/plain": [
       "DecisionTreeClassifier(random_state=0)"
      ]
     },
     "execution_count": 21,
     "metadata": {},
     "output_type": "execute_result"
    }
   ],
   "source": [
    "dtc.fit(train_x, train_y)"
   ]
  },
  {
   "cell_type": "code",
   "execution_count": null,
   "id": "749d0b3a",
   "metadata": {
    "papermill": {
     "duration": 0.073482,
     "end_time": "2022-03-06T10:09:28.845553",
     "exception": false,
     "start_time": "2022-03-06T10:09:28.772071",
     "status": "completed"
    },
    "tags": []
   },
   "outputs": [],
   "source": []
  },
  {
   "cell_type": "markdown",
   "id": "0174984b",
   "metadata": {
    "papermill": {
     "duration": 0.073019,
     "end_time": "2022-03-06T10:09:28.993457",
     "exception": false,
     "start_time": "2022-03-06T10:09:28.920438",
     "status": "completed"
    },
    "tags": []
   },
   "source": [
    "### Evaluation"
   ]
  },
  {
   "cell_type": "code",
   "execution_count": 22,
   "id": "c0a3aad3",
   "metadata": {
    "execution": {
     "iopub.execute_input": "2022-03-06T10:09:29.154398Z",
     "iopub.status.busy": "2022-03-06T10:09:29.153506Z",
     "iopub.status.idle": "2022-03-06T10:09:29.156473Z",
     "shell.execute_reply": "2022-03-06T10:09:29.156896Z",
     "shell.execute_reply.started": "2022-03-06T09:13:07.998964Z"
    },
    "papermill": {
     "duration": 0.086498,
     "end_time": "2022-03-06T10:09:29.157106",
     "exception": false,
     "start_time": "2022-03-06T10:09:29.070608",
     "status": "completed"
    },
    "tags": []
   },
   "outputs": [],
   "source": [
    "predictions = dtc.predict(test_x)"
   ]
  },
  {
   "cell_type": "code",
   "execution_count": 23,
   "id": "754e2eb5",
   "metadata": {
    "execution": {
     "iopub.execute_input": "2022-03-06T10:09:29.262249Z",
     "iopub.status.busy": "2022-03-06T10:09:29.261675Z",
     "iopub.status.idle": "2022-03-06T10:09:29.268476Z",
     "shell.execute_reply": "2022-03-06T10:09:29.268937Z",
     "shell.execute_reply.started": "2022-03-06T09:13:13.448544Z"
    },
    "papermill": {
     "duration": 0.061988,
     "end_time": "2022-03-06T10:09:29.269124",
     "exception": false,
     "start_time": "2022-03-06T10:09:29.207136",
     "status": "completed"
    },
    "tags": []
   },
   "outputs": [
    {
     "data": {
      "text/plain": [
       "array([0, 0, 1, 0, 0, 1, 0, 1, 0, 0, 0, 0, 0, 0, 1, 0, 0, 1, 1, 0, 1, 1,\n",
       "       0, 0, 0, 1, 0, 1, 0, 1, 0, 1, 0, 0, 0, 1, 1, 1, 0, 1, 1, 1, 1, 1,\n",
       "       1, 1, 1, 0, 1, 1, 0, 0, 1, 1, 1, 1, 1, 1, 1, 1, 0, 0, 1, 1, 0, 0,\n",
       "       1, 1, 0, 1, 0, 0, 1, 0, 0, 1, 1, 0, 1, 0, 0, 0, 0, 0, 1, 0, 0, 1,\n",
       "       0, 0, 1, 0, 1, 1, 0, 0, 0, 0, 0, 0, 1, 0, 0, 1, 0, 0, 1, 0, 0, 1,\n",
       "       1, 1, 0, 0, 0, 0, 0, 0, 0, 0, 0, 0, 0, 0, 1, 1, 1, 1, 0, 1, 1, 1,\n",
       "       1, 0, 1, 0, 0, 0, 0, 1, 0, 1, 0, 1, 1, 0, 0, 0, 0, 0, 1, 0, 0, 0,\n",
       "       1, 0, 1, 0, 1, 0, 1, 0, 1, 0, 1, 0, 1, 1, 0, 0, 0, 0, 1, 1, 0, 1,\n",
       "       1, 0, 0, 1, 1, 0, 0, 0, 0, 0, 1, 0, 0, 0, 1, 1, 1, 1, 1, 1, 0, 0,\n",
       "       1, 0, 1, 0, 0, 0, 0, 1, 0, 0, 0, 1, 0, 1, 1, 0, 0, 1, 1, 0, 1, 1,\n",
       "       1, 1, 0, 1, 0, 0, 1, 0, 0, 1, 0, 0, 0, 0, 0, 0, 0, 0, 0, 0, 0, 0,\n",
       "       0, 0, 1, 0, 1, 1, 0, 0, 0, 0, 1, 1, 0, 1, 0, 0, 0, 0, 1, 0, 1, 1,\n",
       "       1, 0, 1, 1, 0, 1, 0, 0, 0, 1, 0, 1, 0, 1, 0, 0, 0, 0, 1, 1, 0, 0,\n",
       "       0, 0, 0, 0, 0, 1, 0, 0, 0, 0, 0, 1, 0, 1, 0, 0, 0, 1, 1, 1, 0, 0,\n",
       "       0, 0, 0, 1, 1, 0, 1, 0, 0, 1, 0, 1, 0, 0, 0, 0, 0, 1, 1, 0, 1, 0,\n",
       "       0, 0, 0, 0, 0, 1, 1, 0, 1, 0, 0, 1, 1, 1, 1, 1, 1, 0, 0, 1, 1, 1,\n",
       "       1, 0, 0, 0, 1, 1, 1, 0, 0, 1, 1, 0, 0, 1, 0, 0, 1, 0, 0, 1, 0, 1,\n",
       "       0, 1, 1, 0, 0, 1, 1, 1, 1, 0, 1, 0, 0, 0, 0, 0, 0, 0, 0, 0, 1, 0,\n",
       "       0, 1, 1, 0, 0, 1, 0, 1, 1, 0, 1, 1, 0, 1, 1, 1, 1, 1, 0, 0, 0, 1,\n",
       "       1, 1, 0, 0, 0, 0, 1, 0, 0, 1, 1, 0, 0, 1, 1, 0, 1, 0, 0, 0, 1, 0,\n",
       "       0, 0, 0, 1, 0, 0, 1, 1, 0, 1, 1, 0, 1, 1, 0, 1, 1, 1, 0, 0, 0, 1,\n",
       "       1, 0, 0, 1, 1, 0, 0, 0, 0, 0, 0, 0, 1, 1, 0, 1, 1, 1, 0, 1, 0, 1,\n",
       "       0, 0, 1, 0, 0, 0, 1, 1, 1, 0, 1, 0, 0, 0, 1, 0, 1, 1, 0, 1, 0, 0,\n",
       "       0, 0, 0, 0, 0, 0, 0, 1, 1, 1, 0, 1, 0, 0, 0, 0, 0, 0, 1, 1, 1, 0,\n",
       "       0, 1, 1, 0, 0, 0, 0, 0, 0, 0, 1, 1, 0, 0, 1, 1, 1, 1, 1, 0, 0, 0,\n",
       "       0, 0, 0, 0, 0, 0, 0, 0, 0, 0, 0, 1, 0, 0, 0, 0, 1, 0, 1, 0, 0, 1,\n",
       "       0, 1, 0, 0, 1, 0, 0, 1, 1, 1, 0, 0, 0, 1, 1, 0, 0, 0, 0, 0, 0, 0,\n",
       "       1, 1, 1, 0, 0, 1, 0, 0, 1, 1, 1, 0, 1, 0, 0, 0, 1, 0, 1, 0, 0, 0,\n",
       "       1, 1, 1, 0, 1, 0, 0, 0, 0, 0, 1, 0, 1, 0, 0, 0, 0, 1, 0, 0, 0, 0,\n",
       "       0, 0, 1, 1, 0, 0, 0, 0, 0, 1, 0, 1, 0, 1, 0, 1, 1, 0])"
      ]
     },
     "execution_count": 23,
     "metadata": {},
     "output_type": "execute_result"
    }
   ],
   "source": [
    "predictions"
   ]
  },
  {
   "cell_type": "code",
   "execution_count": 24,
   "id": "86ab5aa2",
   "metadata": {
    "execution": {
     "iopub.execute_input": "2022-03-06T10:09:29.375916Z",
     "iopub.status.busy": "2022-03-06T10:09:29.375403Z",
     "iopub.status.idle": "2022-03-06T10:09:29.378369Z",
     "shell.execute_reply": "2022-03-06T10:09:29.378785Z",
     "shell.execute_reply.started": "2022-03-06T09:13:34.269373Z"
    },
    "papermill": {
     "duration": 0.058032,
     "end_time": "2022-03-06T10:09:29.378926",
     "exception": false,
     "start_time": "2022-03-06T10:09:29.320894",
     "status": "completed"
    },
    "tags": []
   },
   "outputs": [],
   "source": [
    "from sklearn.metrics import confusion_matrix, classification_report"
   ]
  },
  {
   "cell_type": "code",
   "execution_count": 25,
   "id": "1f02a952",
   "metadata": {
    "execution": {
     "iopub.execute_input": "2022-03-06T10:09:29.482289Z",
     "iopub.status.busy": "2022-03-06T10:09:29.481715Z",
     "iopub.status.idle": "2022-03-06T10:09:29.488118Z",
     "shell.execute_reply": "2022-03-06T10:09:29.488535Z",
     "shell.execute_reply.started": "2022-03-06T09:16:10.449591Z"
    },
    "papermill": {
     "duration": 0.060903,
     "end_time": "2022-03-06T10:09:29.488706",
     "exception": false,
     "start_time": "2022-03-06T10:09:29.427803",
     "status": "completed"
    },
    "tags": []
   },
   "outputs": [],
   "source": [
    "metric_matrix = confusion_matrix(test_y, predictions)"
   ]
  },
  {
   "cell_type": "code",
   "execution_count": 26,
   "id": "ebeaee38",
   "metadata": {
    "execution": {
     "iopub.execute_input": "2022-03-06T10:09:29.594786Z",
     "iopub.status.busy": "2022-03-06T10:09:29.594051Z",
     "iopub.status.idle": "2022-03-06T10:09:29.831431Z",
     "shell.execute_reply": "2022-03-06T10:09:29.830906Z",
     "shell.execute_reply.started": "2022-03-06T09:17:23.448958Z"
    },
    "papermill": {
     "duration": 0.291676,
     "end_time": "2022-03-06T10:09:29.831567",
     "exception": false,
     "start_time": "2022-03-06T10:09:29.539891",
     "status": "completed"
    },
    "tags": []
   },
   "outputs": [],
   "source": [
    "import matplotlib.pyplot as plt\n",
    "import seaborn as sns\n",
    "%matplotlib inline"
   ]
  },
  {
   "cell_type": "code",
   "execution_count": 27,
   "id": "a9f794a0",
   "metadata": {
    "execution": {
     "iopub.execute_input": "2022-03-06T10:09:29.953207Z",
     "iopub.status.busy": "2022-03-06T10:09:29.952608Z",
     "iopub.status.idle": "2022-03-06T10:09:30.242398Z",
     "shell.execute_reply": "2022-03-06T10:09:30.241893Z",
     "shell.execute_reply.started": "2022-03-06T09:23:08.172584Z"
    },
    "papermill": {
     "duration": 0.35766,
     "end_time": "2022-03-06T10:09:30.242543",
     "exception": false,
     "start_time": "2022-03-06T10:09:29.884883",
     "status": "completed"
    },
    "tags": []
   },
   "outputs": [
    {
     "data": {
      "text/plain": [
       "<AxesSubplot:xlabel='Predicted', ylabel='Actual'>"
      ]
     },
     "execution_count": 27,
     "metadata": {},
     "output_type": "execute_result"
    },
    {
     "data": {
      "image/png": "[encoded data removed]",
      "text/plain": [
       "<Figure size 432x288 with 2 Axes>"
      ]
     },
     "metadata": {
      "needs_background": "light"
     },
     "output_type": "display_data"
    }
   ],
   "source": [
    "df_cm = pd.DataFrame(metric_matrix, columns=np.unique(test_y), index = np.unique(test_y))\n",
    "df_cm.index.name = 'Actual'\n",
    "df_cm.columns.name = 'Predicted'\n",
    "sns.heatmap(df_cm, cmap=\"Blues\", annot=True, fmt='g')"
   ]
  },
  {
   "cell_type": "code",
   "execution_count": 28,
   "id": "848dcd19",
   "metadata": {
    "execution": {
     "iopub.execute_input": "2022-03-06T10:09:30.356554Z",
     "iopub.status.busy": "2022-03-06T10:09:30.355930Z",
     "iopub.status.idle": "2022-03-06T10:09:30.368165Z",
     "shell.execute_reply": "2022-03-06T10:09:30.368752Z",
     "shell.execute_reply.started": "2022-03-06T09:23:39.601429Z"
    },
    "papermill": {
     "duration": 0.074372,
     "end_time": "2022-03-06T10:09:30.368968",
     "exception": false,
     "start_time": "2022-03-06T10:09:30.294596",
     "status": "completed"
    },
    "tags": []
   },
   "outputs": [
    {
     "name": "stdout",
     "output_type": "stream",
     "text": [
      "              precision    recall  f1-score   support\n",
      "\n",
      "           0       0.68      0.64      0.66       412\n",
      "           1       0.45      0.50      0.47       244\n",
      "\n",
      "    accuracy                           0.59       656\n",
      "   macro avg       0.57      0.57      0.57       656\n",
      "weighted avg       0.60      0.59      0.59       656\n",
      "\n"
     ]
    }
   ],
   "source": [
    "print(classification_report(test_y, predictions))"
   ]
  },
  {
   "cell_type": "code",
   "execution_count": null,
   "id": "bf1974dd",
   "metadata": {
    "papermill": {
     "duration": 0.085462,
     "end_time": "2022-03-06T10:09:30.538413",
     "exception": false,
     "start_time": "2022-03-06T10:09:30.452951",
     "status": "completed"
    },
    "tags": []
   },
   "outputs": [],
   "source": []
  },
  {
   "cell_type": "code",
   "execution_count": null,
   "id": "02066f29",
   "metadata": {
    "papermill": {
     "duration": 0.081101,
     "end_time": "2022-03-06T10:09:30.700309",
     "exception": false,
     "start_time": "2022-03-06T10:09:30.619208",
     "status": "completed"
    },
    "tags": []
   },
   "outputs": [],
   "source": []
  },
  {
   "cell_type": "markdown",
   "id": "f281e275",
   "metadata": {
    "papermill": {
     "duration": 0.077373,
     "end_time": "2022-03-06T10:09:30.856292",
     "exception": false,
     "start_time": "2022-03-06T10:09:30.778919",
     "status": "completed"
    },
    "tags": []
   },
   "source": [
    "### Same data, but with Standardization"
   ]
  },
  {
   "cell_type": "code",
   "execution_count": 29,
   "id": "1d94644d",
   "metadata": {
    "execution": {
     "iopub.execute_input": "2022-03-06T10:09:31.017310Z",
     "iopub.status.busy": "2022-03-06T10:09:31.016427Z",
     "iopub.status.idle": "2022-03-06T10:09:31.020141Z",
     "shell.execute_reply": "2022-03-06T10:09:31.019303Z",
     "shell.execute_reply.started": "2022-03-06T09:25:38.269934Z"
    },
    "papermill": {
     "duration": 0.085931,
     "end_time": "2022-03-06T10:09:31.020306",
     "exception": false,
     "start_time": "2022-03-06T10:09:30.934375",
     "status": "completed"
    },
    "tags": []
   },
   "outputs": [],
   "source": [
    "from sklearn.preprocessing import StandardScaler\n",
    "scl = StandardScaler()"
   ]
  },
  {
   "cell_type": "code",
   "execution_count": 30,
   "id": "b5ea6578",
   "metadata": {
    "execution": {
     "iopub.execute_input": "2022-03-06T10:09:31.182689Z",
     "iopub.status.busy": "2022-03-06T10:09:31.181836Z",
     "iopub.status.idle": "2022-03-06T10:09:31.186574Z",
     "shell.execute_reply": "2022-03-06T10:09:31.185856Z",
     "shell.execute_reply.started": "2022-03-06T09:25:58.473325Z"
    },
    "papermill": {
     "duration": 0.087782,
     "end_time": "2022-03-06T10:09:31.186733",
     "exception": false,
     "start_time": "2022-03-06T10:09:31.098951",
     "status": "completed"
    },
    "tags": []
   },
   "outputs": [
    {
     "data": {
      "text/plain": [
       "StandardScaler()"
      ]
     },
     "execution_count": 30,
     "metadata": {},
     "output_type": "execute_result"
    }
   ],
   "source": [
    "scl.fit(train_x)"
   ]
  },
  {
   "cell_type": "code",
   "execution_count": 31,
   "id": "bc487ee3",
   "metadata": {
    "execution": {
     "iopub.execute_input": "2022-03-06T10:09:31.347857Z",
     "iopub.status.busy": "2022-03-06T10:09:31.347111Z",
     "iopub.status.idle": "2022-03-06T10:09:31.350255Z",
     "shell.execute_reply": "2022-03-06T10:09:31.349553Z",
     "shell.execute_reply.started": "2022-03-06T09:26:51.953179Z"
    },
    "papermill": {
     "duration": 0.086257,
     "end_time": "2022-03-06T10:09:31.350408",
     "exception": false,
     "start_time": "2022-03-06T10:09:31.264151",
     "status": "completed"
    },
    "tags": []
   },
   "outputs": [],
   "source": [
    "train_x_scl = scl.transform(train_x)\n",
    "test_x_scl = scl.transform(test_x)"
   ]
  },
  {
   "cell_type": "code",
   "execution_count": 32,
   "id": "39e14d08",
   "metadata": {
    "execution": {
     "iopub.execute_input": "2022-03-06T10:09:31.516814Z",
     "iopub.status.busy": "2022-03-06T10:09:31.516160Z",
     "iopub.status.idle": "2022-03-06T10:09:31.519075Z",
     "shell.execute_reply": "2022-03-06T10:09:31.518503Z",
     "shell.execute_reply.started": "2022-03-06T09:27:40.948296Z"
    },
    "papermill": {
     "duration": 0.090948,
     "end_time": "2022-03-06T10:09:31.519205",
     "exception": false,
     "start_time": "2022-03-06T10:09:31.428257",
     "status": "completed"
    },
    "tags": []
   },
   "outputs": [],
   "source": [
    "dcl_scl = DecisionTreeClassifier(random_state=0)"
   ]
  },
  {
   "cell_type": "code",
   "execution_count": 33,
   "id": "2f1817d2",
   "metadata": {
    "execution": {
     "iopub.execute_input": "2022-03-06T10:09:31.664043Z",
     "iopub.status.busy": "2022-03-06T10:09:31.663297Z",
     "iopub.status.idle": "2022-03-06T10:09:31.720679Z",
     "shell.execute_reply": "2022-03-06T10:09:31.720148Z",
     "shell.execute_reply.started": "2022-03-06T09:27:55.670509Z"
    },
    "papermill": {
     "duration": 0.146719,
     "end_time": "2022-03-06T10:09:31.720818",
     "exception": false,
     "start_time": "2022-03-06T10:09:31.574099",
     "status": "completed"
    },
    "tags": []
   },
   "outputs": [
    {
     "data": {
      "text/plain": [
       "DecisionTreeClassifier(random_state=0)"
      ]
     },
     "execution_count": 33,
     "metadata": {},
     "output_type": "execute_result"
    }
   ],
   "source": [
    "dcl_scl.fit(train_x_scl, train_y)"
   ]
  },
  {
   "cell_type": "code",
   "execution_count": 34,
   "id": "eef80220",
   "metadata": {
    "execution": {
     "iopub.execute_input": "2022-03-06T10:09:31.842354Z",
     "iopub.status.busy": "2022-03-06T10:09:31.841744Z",
     "iopub.status.idle": "2022-03-06T10:09:31.847425Z",
     "shell.execute_reply": "2022-03-06T10:09:31.846608Z",
     "shell.execute_reply.started": "2022-03-06T09:28:17.530599Z"
    },
    "papermill": {
     "duration": 0.068643,
     "end_time": "2022-03-06T10:09:31.847856",
     "exception": false,
     "start_time": "2022-03-06T10:09:31.779213",
     "status": "completed"
    },
    "tags": []
   },
   "outputs": [],
   "source": [
    "pred_scl = dcl_scl.predict(test_x_scl)"
   ]
  },
  {
   "cell_type": "code",
   "execution_count": 35,
   "id": "0f5eb140",
   "metadata": {
    "execution": {
     "iopub.execute_input": "2022-03-06T10:09:31.982417Z",
     "iopub.status.busy": "2022-03-06T10:09:31.981679Z",
     "iopub.status.idle": "2022-03-06T10:09:31.988238Z",
     "shell.execute_reply": "2022-03-06T10:09:31.987703Z",
     "shell.execute_reply.started": "2022-03-06T09:29:11.673801Z"
    },
    "papermill": {
     "duration": 0.07542,
     "end_time": "2022-03-06T10:09:31.988375",
     "exception": false,
     "start_time": "2022-03-06T10:09:31.912955",
     "status": "completed"
    },
    "tags": []
   },
   "outputs": [],
   "source": [
    "metric_matrix2 = confusion_matrix(test_y, pred_scl)"
   ]
  },
  {
   "cell_type": "code",
   "execution_count": 36,
   "id": "05a27420",
   "metadata": {
    "execution": {
     "iopub.execute_input": "2022-03-06T10:09:32.143256Z",
     "iopub.status.busy": "2022-03-06T10:09:32.135861Z",
     "iopub.status.idle": "2022-03-06T10:09:32.388795Z",
     "shell.execute_reply": "2022-03-06T10:09:32.388256Z",
     "shell.execute_reply.started": "2022-03-06T09:29:28.116089Z"
    },
    "papermill": {
     "duration": 0.34207,
     "end_time": "2022-03-06T10:09:32.388930",
     "exception": false,
     "start_time": "2022-03-06T10:09:32.046860",
     "status": "completed"
    },
    "tags": []
   },
   "outputs": [
    {
     "data": {
      "text/plain": [
       "<AxesSubplot:xlabel='Predicted', ylabel='Actual'>"
      ]
     },
     "execution_count": 36,
     "metadata": {},
     "output_type": "execute_result"
    },
    {
     "data": {
      "image/png": "[encoded data removed]",
      "text/plain": [
       "<Figure size 432x288 with 2 Axes>"
      ]
     },
     "metadata": {
      "needs_background": "light"
     },
     "output_type": "display_data"
    }
   ],
   "source": [
    "df_cm = pd.DataFrame(metric_matrix2, columns=np.unique(test_y), index = np.unique(test_y))\n",
    "df_cm.index.name = 'Actual'\n",
    "df_cm.columns.name = 'Predicted'\n",
    "sns.heatmap(df_cm, cmap=\"Blues\", annot=True, fmt='g')"
   ]
  },
  {
   "cell_type": "markdown",
   "id": "4b7bf59f",
   "metadata": {
    "papermill": {
     "duration": 0.059719,
     "end_time": "2022-03-06T10:09:32.508551",
     "exception": false,
     "start_time": "2022-03-06T10:09:32.448832",
     "status": "completed"
    },
    "tags": []
   },
   "source": [
    "## To day I learned\n",
    "### Tree models will always give the same result whether the data is Standardize or not."
   ]
  },
  {
   "cell_type": "code",
   "execution_count": null,
   "id": "4421618d",
   "metadata": {
    "papermill": {
     "duration": 0.055073,
     "end_time": "2022-03-06T10:09:32.620142",
     "exception": false,
     "start_time": "2022-03-06T10:09:32.565069",
     "status": "completed"
    },
    "tags": []
   },
   "outputs": [],
   "source": []
  },
  {
   "cell_type": "markdown",
   "id": "59df5e28",
   "metadata": {
    "papermill": {
     "duration": 0.091133,
     "end_time": "2022-03-06T10:09:32.790275",
     "exception": false,
     "start_time": "2022-03-06T10:09:32.699142",
     "status": "completed"
    },
    "tags": []
   },
   "source": [
    "### Try Linear SVC"
   ]
  },
  {
   "cell_type": "code",
   "execution_count": 37,
   "id": "effaab25",
   "metadata": {
    "execution": {
     "iopub.execute_input": "2022-03-06T10:09:32.976613Z",
     "iopub.status.busy": "2022-03-06T10:09:32.976018Z",
     "iopub.status.idle": "2022-03-06T10:09:32.979827Z",
     "shell.execute_reply": "2022-03-06T10:09:32.979245Z"
    },
    "papermill": {
     "duration": 0.100559,
     "end_time": "2022-03-06T10:09:32.979983",
     "exception": false,
     "start_time": "2022-03-06T10:09:32.879424",
     "status": "completed"
    },
    "tags": []
   },
   "outputs": [],
   "source": [
    "from sklearn.svm import LinearSVC\n",
    "l_svc = LinearSVC(random_state=0, tol=1e-02)"
   ]
  },
  {
   "cell_type": "code",
   "execution_count": 38,
   "id": "42f6cb8a",
   "metadata": {
    "execution": {
     "iopub.execute_input": "2022-03-06T10:09:33.108800Z",
     "iopub.status.busy": "2022-03-06T10:09:33.107764Z",
     "iopub.status.idle": "2022-03-06T10:09:33.210607Z",
     "shell.execute_reply": "2022-03-06T10:09:33.211224Z"
    },
    "papermill": {
     "duration": 0.172685,
     "end_time": "2022-03-06T10:09:33.211421",
     "exception": false,
     "start_time": "2022-03-06T10:09:33.038736",
     "status": "completed"
    },
    "tags": []
   },
   "outputs": [
    {
     "data": {
      "text/plain": [
       "LinearSVC(random_state=0, tol=0.01)"
      ]
     },
     "execution_count": 38,
     "metadata": {},
     "output_type": "execute_result"
    }
   ],
   "source": [
    "l_svc.fit(train_x_scl, train_y)"
   ]
  },
  {
   "cell_type": "code",
   "execution_count": 39,
   "id": "0143aec3",
   "metadata": {
    "execution": {
     "iopub.execute_input": "2022-03-06T10:09:33.401963Z",
     "iopub.status.busy": "2022-03-06T10:09:33.401028Z",
     "iopub.status.idle": "2022-03-06T10:09:33.405706Z",
     "shell.execute_reply": "2022-03-06T10:09:33.406311Z",
     "shell.execute_reply.started": "2022-03-06T10:00:39.520561Z"
    },
    "papermill": {
     "duration": 0.101665,
     "end_time": "2022-03-06T10:09:33.406516",
     "exception": false,
     "start_time": "2022-03-06T10:09:33.304851",
     "status": "completed"
    },
    "tags": []
   },
   "outputs": [],
   "source": [
    "svc_pred = l_svc.predict(test_x_scl)"
   ]
  },
  {
   "cell_type": "code",
   "execution_count": 40,
   "id": "59d05b87",
   "metadata": {
    "execution": {
     "iopub.execute_input": "2022-03-06T10:09:33.586978Z",
     "iopub.status.busy": "2022-03-06T10:09:33.585877Z",
     "iopub.status.idle": "2022-03-06T10:09:33.590037Z",
     "shell.execute_reply": "2022-03-06T10:09:33.590564Z",
     "shell.execute_reply.started": "2022-03-06T10:00:42.082335Z"
    },
    "papermill": {
     "duration": 0.099581,
     "end_time": "2022-03-06T10:09:33.590768",
     "exception": false,
     "start_time": "2022-03-06T10:09:33.491187",
     "status": "completed"
    },
    "tags": []
   },
   "outputs": [
    {
     "data": {
      "text/plain": [
       "array([0, 0, 0, 0, 0, 0, 0, 0, 0, 0, 0, 0, 0, 0, 0, 0, 0, 0, 0, 0, 0, 0,\n",
       "       0, 0, 0, 0, 0, 0, 0, 0, 0, 0, 0, 0, 0, 0, 0, 0, 0, 0, 0, 0, 0, 0,\n",
       "       0, 0, 0, 0, 0, 0, 0, 0, 0, 0, 0, 0, 0, 0, 0, 0, 0, 0, 0, 0, 0, 0,\n",
       "       0, 0, 0, 0, 0, 0, 0, 0, 0, 0, 0, 0, 0, 0, 0, 0, 0, 0, 0, 0, 0, 0,\n",
       "       0, 0, 0, 0, 0, 0, 0, 0, 0, 0, 0, 0, 0, 0, 0, 0, 0, 0, 0, 0, 0, 0,\n",
       "       0, 0, 0, 0, 0, 0, 0, 0, 0, 0, 0, 0, 0, 0, 0, 0, 0, 0, 0, 0, 0, 0,\n",
       "       0, 0, 0, 0, 0, 0, 0, 0, 0, 0, 0, 0, 0, 0, 0, 0, 0, 0, 0, 0, 0, 0,\n",
       "       0, 0, 0, 0, 0, 0, 0, 0, 0, 0, 0, 0, 0, 0, 0, 0, 0, 0, 0, 0, 0, 0,\n",
       "       0, 0, 0, 0, 0, 0, 0, 0, 0, 0, 0, 0, 0, 0, 0, 0, 0, 0, 0, 0, 0, 0,\n",
       "       0, 0, 0, 0, 0, 0, 0, 0, 0, 0, 0, 0, 0, 0, 0, 0, 0, 0, 0, 0, 0, 0,\n",
       "       0, 0, 0, 0, 0, 0, 0, 0, 0, 0, 0, 0, 0, 0, 0, 0, 0, 0, 0, 0, 0, 0,\n",
       "       0, 0, 0, 0, 0, 0, 0, 0, 0, 0, 0, 0, 0, 0, 0, 0, 0, 0, 0, 0, 0, 0,\n",
       "       0, 0, 0, 0, 0, 0, 0, 0, 0, 0, 0, 0, 0, 0, 0, 0, 0, 0, 0, 0, 0, 0,\n",
       "       0, 0, 0, 0, 0, 0, 0, 0, 0, 0, 0, 0, 0, 0, 0, 0, 0, 0, 0, 0, 0, 0,\n",
       "       0, 0, 0, 0, 0, 0, 0, 0, 0, 0, 0, 0, 0, 0, 0, 0, 0, 0, 0, 0, 0, 0,\n",
       "       0, 0, 0, 0, 0, 0, 0, 0, 0, 0, 0, 0, 0, 0, 0, 0, 0, 0, 0, 0, 0, 0,\n",
       "       0, 0, 0, 0, 0, 0, 0, 0, 0, 0, 0, 0, 0, 0, 0, 0, 0, 0, 0, 0, 0, 0,\n",
       "       0, 0, 0, 0, 0, 0, 0, 0, 0, 0, 0, 0, 0, 0, 0, 0, 0, 0, 0, 0, 0, 0,\n",
       "       0, 0, 0, 0, 0, 0, 0, 0, 0, 0, 0, 0, 0, 0, 0, 0, 0, 0, 0, 0, 0, 0,\n",
       "       0, 0, 0, 0, 0, 0, 0, 0, 0, 0, 0, 0, 0, 0, 0, 0, 0, 0, 0, 0, 0, 0,\n",
       "       0, 0, 0, 0, 0, 0, 0, 0, 0, 0, 0, 0, 0, 0, 0, 0, 0, 0, 0, 0, 0, 0,\n",
       "       0, 0, 0, 0, 0, 0, 0, 0, 0, 0, 0, 0, 0, 0, 0, 0, 0, 0, 0, 0, 0, 0,\n",
       "       0, 0, 0, 0, 0, 0, 0, 0, 0, 0, 0, 0, 0, 0, 0, 0, 0, 0, 0, 0, 0, 0,\n",
       "       0, 0, 0, 0, 0, 0, 0, 0, 0, 0, 0, 0, 0, 0, 0, 0, 0, 0, 0, 0, 0, 0,\n",
       "       0, 0, 0, 0, 0, 0, 0, 0, 0, 0, 0, 0, 0, 0, 0, 0, 0, 0, 0, 0, 0, 0,\n",
       "       0, 0, 0, 0, 0, 0, 0, 0, 0, 0, 0, 0, 0, 0, 0, 0, 0, 0, 0, 0, 0, 0,\n",
       "       0, 0, 0, 0, 0, 0, 0, 0, 0, 0, 0, 0, 0, 0, 0, 0, 0, 0, 0, 0, 0, 0,\n",
       "       0, 0, 0, 0, 0, 0, 0, 0, 0, 0, 0, 0, 0, 0, 0, 0, 0, 0, 0, 0, 0, 0,\n",
       "       0, 0, 0, 0, 0, 0, 0, 0, 0, 0, 0, 0, 0, 0, 0, 0, 0, 0, 0, 0, 0, 0,\n",
       "       0, 0, 0, 0, 0, 0, 0, 0, 0, 0, 0, 0, 0, 0, 0, 0, 0, 0])"
      ]
     },
     "execution_count": 40,
     "metadata": {},
     "output_type": "execute_result"
    }
   ],
   "source": [
    "svc_pred"
   ]
  },
  {
   "cell_type": "code",
   "execution_count": null,
   "id": "419b5ecf",
   "metadata": {
    "papermill": {
     "duration": 0.085009,
     "end_time": "2022-03-06T10:09:33.759188",
     "exception": false,
     "start_time": "2022-03-06T10:09:33.674179",
     "status": "completed"
    },
    "tags": []
   },
   "outputs": [],
   "source": []
  },
  {
   "cell_type": "code",
   "execution_count": null,
   "id": "976c803a",
   "metadata": {
    "papermill": {
     "duration": 0.083808,
     "end_time": "2022-03-06T10:09:33.926468",
     "exception": false,
     "start_time": "2022-03-06T10:09:33.842660",
     "status": "completed"
    },
    "tags": []
   },
   "outputs": [],
   "source": []
  },
  {
   "cell_type": "code",
   "execution_count": null,
   "id": "a71cbdaf",
   "metadata": {
    "papermill": {
     "duration": 0.085466,
     "end_time": "2022-03-06T10:09:34.095694",
     "exception": false,
     "start_time": "2022-03-06T10:09:34.010228",
     "status": "completed"
    },
    "tags": []
   },
   "outputs": [],
   "source": []
  },
  {
   "cell_type": "code",
   "execution_count": null,
   "id": "08821991",
   "metadata": {
    "papermill": {
     "duration": 0.053846,
     "end_time": "2022-03-06T10:09:34.240362",
     "exception": false,
     "start_time": "2022-03-06T10:09:34.186516",
     "status": "completed"
    },
    "tags": []
   },
   "outputs": [],
   "source": []
  }
 ],
 "metadata": {
  "kernelspec": {
   "display_name": "Python 3",
   "language": "python",
   "name": "python3"
  },
  "language_info": {
   "codemirror_mode": {
    "name": "ipython",
    "version": 3
   },
   "file_extension": ".py",
   "mimetype": "text/x-python",
   "name": "python",
   "nbconvert_exporter": "python",
   "pygments_lexer": "ipython3",
   "version": "3.7.12"
  },
  "papermill": {
   "default_parameters": {},
   "duration": 26.656287,
   "end_time": "2022-03-06T10:09:35.509493",
   "environment_variables": {},
   "exception": null,
   "input_path": "__notebook__.ipynb",
   "output_path": "__notebook__.ipynb",
   "parameters": {},
   "start_time": "2022-03-06T10:09:08.853206",
   "version": "2.3.3"
  }
 },
 "nbformat": 4,
 "nbformat_minor": 5
}

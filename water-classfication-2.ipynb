{
 "cells": [
  {
   "cell_type": "code",
   "execution_count": 1,
   "id": "df5f25ff",
   "metadata": {
    "_cell_guid": "b1076dfc-b9ad-4769-8c92-a6c4dae69d19",
    "_uuid": "8f2839f25d086af736a60e9eeb907d3b93b6e0e5",
    "execution": {
     "iopub.execute_input": "2022-03-07T09:34:25.674969Z",
     "iopub.status.busy": "2022-03-07T09:34:25.673647Z",
     "iopub.status.idle": "2022-03-07T09:34:25.691693Z",
     "shell.execute_reply": "2022-03-07T09:34:25.692269Z",
     "shell.execute_reply.started": "2022-03-07T09:18:15.041237Z"
    },
    "papermill": {
     "duration": 0.112298,
     "end_time": "2022-03-07T09:34:25.692599",
     "exception": false,
     "start_time": "2022-03-07T09:34:25.580301",
     "status": "completed"
    },
    "tags": []
   },
   "outputs": [
    {
     "name": "stdout",
     "output_type": "stream",
     "text": [
      "/kaggle/input/water-potability/water_potability.csv\n"
     ]
    }
   ],
   "source": [
    "# This Python 3 environment comes with many helpful analytics libraries installed\n",
    "# It is defined by the kaggle/python Docker image: https://github.com/kaggle/docker-python\n",
    "# For example, here's several helpful packages to load\n",
    "\n",
    "import numpy as np # linear algebra\n",
    "import pandas as pd # data processing, CSV file I/O (e.g. pd.read_csv)\n",
    "\n",
    "# Input data files are available in the read-only \"../input/\" directory\n",
    "# For example, running this (by clicking run or pressing Shift+Enter) will list all files under the input directory\n",
    "\n",
    "import os\n",
    "for dirname, _, filenames in os.walk('/kaggle/input'):\n",
    "    for filename in filenames:\n",
    "        print(os.path.join(dirname, filename))\n",
    "\n",
    "# You can write up to 20GB to the current directory (/kaggle/working/) that gets preserved as output when you create a version using \"Save & Run All\" \n",
    "# You can also write temporary files to /kaggle/temp/, but they won't be saved outside of the current session"
   ]
  },
  {
   "cell_type": "code",
   "execution_count": 2,
   "id": "28a35b05",
   "metadata": {
    "execution": {
     "iopub.execute_input": "2022-03-07T09:34:25.872143Z",
     "iopub.status.busy": "2022-03-07T09:34:25.871416Z",
     "iopub.status.idle": "2022-03-07T09:34:25.921491Z",
     "shell.execute_reply": "2022-03-07T09:34:25.922027Z",
     "shell.execute_reply.started": "2022-03-07T09:18:15.074457Z"
    },
    "papermill": {
     "duration": 0.14068,
     "end_time": "2022-03-07T09:34:25.922218",
     "exception": false,
     "start_time": "2022-03-07T09:34:25.781538",
     "status": "completed"
    },
    "tags": []
   },
   "outputs": [],
   "source": [
    "data = pd.read_csv('../input/water-potability/water_potability.csv')"
   ]
  },
  {
   "cell_type": "code",
   "execution_count": 3,
   "id": "045db15c",
   "metadata": {
    "execution": {
     "iopub.execute_input": "2022-03-07T09:34:26.118467Z",
     "iopub.status.busy": "2022-03-07T09:34:26.117635Z",
     "iopub.status.idle": "2022-03-07T09:34:26.125265Z",
     "shell.execute_reply": "2022-03-07T09:34:26.125825Z",
     "shell.execute_reply.started": "2022-03-06T09:01:18.221569Z"
    },
    "papermill": {
     "duration": 0.109816,
     "end_time": "2022-03-07T09:34:26.126004",
     "exception": false,
     "start_time": "2022-03-07T09:34:26.016188",
     "status": "completed"
    },
    "tags": []
   },
   "outputs": [
    {
     "data": {
      "text/plain": [
       "(3276, 10)"
      ]
     },
     "execution_count": 3,
     "metadata": {},
     "output_type": "execute_result"
    }
   ],
   "source": [
    "data.shape"
   ]
  },
  {
   "cell_type": "code",
   "execution_count": 4,
   "id": "3ef28015",
   "metadata": {
    "execution": {
     "iopub.execute_input": "2022-03-07T09:34:26.309955Z",
     "iopub.status.busy": "2022-03-07T09:34:26.309202Z",
     "iopub.status.idle": "2022-03-07T09:34:26.333180Z",
     "shell.execute_reply": "2022-03-07T09:34:26.333719Z",
     "shell.execute_reply.started": "2022-03-06T09:01:21.979357Z"
    },
    "papermill": {
     "duration": 0.117427,
     "end_time": "2022-03-07T09:34:26.333921",
     "exception": false,
     "start_time": "2022-03-07T09:34:26.216494",
     "status": "completed"
    },
    "tags": []
   },
   "outputs": [
    {
     "data": {
      "text/html": [
       "<div>\n",
       "<style scoped>\n",
       "    .dataframe tbody tr th:only-of-type {\n",
       "        vertical-align: middle;\n",
       "    }\n",
       "\n",
       "    .dataframe tbody tr th {\n",
       "        vertical-align: top;\n",
       "    }\n",
       "\n",
       "    .dataframe thead th {\n",
       "        text-align: right;\n",
       "    }\n",
       "</style>\n",
       "<table border=\"1\" class=\"dataframe\">\n",
       "  <thead>\n",
       "    <tr style=\"text-align: right;\">\n",
       "      <th></th>\n",
       "      <th>ph</th>\n",
       "      <th>Hardness</th>\n",
       "      <th>Solids</th>\n",
       "      <th>Chloramines</th>\n",
       "      <th>Sulfate</th>\n",
       "      <th>Conductivity</th>\n",
       "      <th>Organic_carbon</th>\n",
       "      <th>Trihalomethanes</th>\n",
       "      <th>Turbidity</th>\n",
       "      <th>Potability</th>\n",
       "    </tr>\n",
       "  </thead>\n",
       "  <tbody>\n",
       "    <tr>\n",
       "      <th>0</th>\n",
       "      <td>NaN</td>\n",
       "      <td>204.890455</td>\n",
       "      <td>20791.318981</td>\n",
       "      <td>7.300212</td>\n",
       "      <td>368.516441</td>\n",
       "      <td>564.308654</td>\n",
       "      <td>10.379783</td>\n",
       "      <td>86.990970</td>\n",
       "      <td>2.963135</td>\n",
       "      <td>0</td>\n",
       "    </tr>\n",
       "    <tr>\n",
       "      <th>1</th>\n",
       "      <td>3.716080</td>\n",
       "      <td>129.422921</td>\n",
       "      <td>18630.057858</td>\n",
       "      <td>6.635246</td>\n",
       "      <td>NaN</td>\n",
       "      <td>592.885359</td>\n",
       "      <td>15.180013</td>\n",
       "      <td>56.329076</td>\n",
       "      <td>4.500656</td>\n",
       "      <td>0</td>\n",
       "    </tr>\n",
       "    <tr>\n",
       "      <th>2</th>\n",
       "      <td>8.099124</td>\n",
       "      <td>224.236259</td>\n",
       "      <td>19909.541732</td>\n",
       "      <td>9.275884</td>\n",
       "      <td>NaN</td>\n",
       "      <td>418.606213</td>\n",
       "      <td>16.868637</td>\n",
       "      <td>66.420093</td>\n",
       "      <td>3.055934</td>\n",
       "      <td>0</td>\n",
       "    </tr>\n",
       "    <tr>\n",
       "      <th>3</th>\n",
       "      <td>8.316766</td>\n",
       "      <td>214.373394</td>\n",
       "      <td>22018.417441</td>\n",
       "      <td>8.059332</td>\n",
       "      <td>356.886136</td>\n",
       "      <td>363.266516</td>\n",
       "      <td>18.436524</td>\n",
       "      <td>100.341674</td>\n",
       "      <td>4.628771</td>\n",
       "      <td>0</td>\n",
       "    </tr>\n",
       "    <tr>\n",
       "      <th>4</th>\n",
       "      <td>9.092223</td>\n",
       "      <td>181.101509</td>\n",
       "      <td>17978.986339</td>\n",
       "      <td>6.546600</td>\n",
       "      <td>310.135738</td>\n",
       "      <td>398.410813</td>\n",
       "      <td>11.558279</td>\n",
       "      <td>31.997993</td>\n",
       "      <td>4.075075</td>\n",
       "      <td>0</td>\n",
       "    </tr>\n",
       "  </tbody>\n",
       "</table>\n",
       "</div>"
      ],
      "text/plain": [
       "         ph    Hardness        Solids  Chloramines     Sulfate  Conductivity  \\\n",
       "0       NaN  204.890455  20791.318981     7.300212  368.516441    564.308654   \n",
       "1  3.716080  129.422921  18630.057858     6.635246         NaN    592.885359   \n",
       "2  8.099124  224.236259  19909.541732     9.275884         NaN    418.606213   \n",
       "3  8.316766  214.373394  22018.417441     8.059332  356.886136    363.266516   \n",
       "4  9.092223  181.101509  17978.986339     6.546600  310.135738    398.410813   \n",
       "\n",
       "   Organic_carbon  Trihalomethanes  Turbidity  Potability  \n",
       "0       10.379783        86.990970   2.963135           0  \n",
       "1       15.180013        56.329076   4.500656           0  \n",
       "2       16.868637        66.420093   3.055934           0  \n",
       "3       18.436524       100.341674   4.628771           0  \n",
       "4       11.558279        31.997993   4.075075           0  "
      ]
     },
     "execution_count": 4,
     "metadata": {},
     "output_type": "execute_result"
    }
   ],
   "source": [
    "data.head()"
   ]
  },
  {
   "cell_type": "code",
   "execution_count": 5,
   "id": "b3aee847",
   "metadata": {
    "execution": {
     "iopub.execute_input": "2022-03-07T09:34:26.514495Z",
     "iopub.status.busy": "2022-03-07T09:34:26.513755Z",
     "iopub.status.idle": "2022-03-07T09:34:26.538924Z",
     "shell.execute_reply": "2022-03-07T09:34:26.539618Z",
     "shell.execute_reply.started": "2022-03-06T09:01:25.220862Z"
    },
    "papermill": {
     "duration": 0.118068,
     "end_time": "2022-03-07T09:34:26.539846",
     "exception": false,
     "start_time": "2022-03-07T09:34:26.421778",
     "status": "completed"
    },
    "tags": []
   },
   "outputs": [
    {
     "name": "stdout",
     "output_type": "stream",
     "text": [
      "<class 'pandas.core.frame.DataFrame'>\n",
      "RangeIndex: 3276 entries, 0 to 3275\n",
      "Data columns (total 10 columns):\n",
      " #   Column           Non-Null Count  Dtype  \n",
      "---  ------           --------------  -----  \n",
      " 0   ph               2785 non-null   float64\n",
      " 1   Hardness         3276 non-null   float64\n",
      " 2   Solids           3276 non-null   float64\n",
      " 3   Chloramines      3276 non-null   float64\n",
      " 4   Sulfate          2495 non-null   float64\n",
      " 5   Conductivity     3276 non-null   float64\n",
      " 6   Organic_carbon   3276 non-null   float64\n",
      " 7   Trihalomethanes  3114 non-null   float64\n",
      " 8   Turbidity        3276 non-null   float64\n",
      " 9   Potability       3276 non-null   int64  \n",
      "dtypes: float64(9), int64(1)\n",
      "memory usage: 256.1 KB\n"
     ]
    }
   ],
   "source": [
    "data.info()"
   ]
  },
  {
   "cell_type": "code",
   "execution_count": 6,
   "id": "b3c4a9d2",
   "metadata": {
    "execution": {
     "iopub.execute_input": "2022-03-07T09:34:26.718927Z",
     "iopub.status.busy": "2022-03-07T09:34:26.718073Z",
     "iopub.status.idle": "2022-03-07T09:34:26.724368Z",
     "shell.execute_reply": "2022-03-07T09:34:26.724868Z",
     "shell.execute_reply.started": "2022-03-06T09:01:36.702569Z"
    },
    "papermill": {
     "duration": 0.096428,
     "end_time": "2022-03-07T09:34:26.725048",
     "exception": false,
     "start_time": "2022-03-07T09:34:26.628620",
     "status": "completed"
    },
    "tags": []
   },
   "outputs": [
    {
     "data": {
      "text/plain": [
       "ph                 491\n",
       "Hardness             0\n",
       "Solids               0\n",
       "Chloramines          0\n",
       "Sulfate            781\n",
       "Conductivity         0\n",
       "Organic_carbon       0\n",
       "Trihalomethanes    162\n",
       "Turbidity            0\n",
       "Potability           0\n",
       "dtype: int64"
      ]
     },
     "execution_count": 6,
     "metadata": {},
     "output_type": "execute_result"
    }
   ],
   "source": [
    "data.isna().sum()"
   ]
  },
  {
   "cell_type": "code",
   "execution_count": null,
   "id": "f2a0fda9",
   "metadata": {
    "papermill": {
     "duration": 0.094191,
     "end_time": "2022-03-07T09:34:26.912069",
     "exception": false,
     "start_time": "2022-03-07T09:34:26.817878",
     "status": "completed"
    },
    "tags": []
   },
   "outputs": [],
   "source": []
  },
  {
   "cell_type": "code",
   "execution_count": 7,
   "id": "6d5daf06",
   "metadata": {
    "execution": {
     "iopub.execute_input": "2022-03-07T09:34:27.099376Z",
     "iopub.status.busy": "2022-03-07T09:34:27.098454Z",
     "iopub.status.idle": "2022-03-07T09:34:27.100067Z",
     "shell.execute_reply": "2022-03-07T09:34:27.100617Z",
     "shell.execute_reply.started": "2022-03-07T09:28:44.668195Z"
    },
    "papermill": {
     "duration": 0.097568,
     "end_time": "2022-03-07T09:34:27.100835",
     "exception": false,
     "start_time": "2022-03-07T09:34:27.003267",
     "status": "completed"
    },
    "tags": []
   },
   "outputs": [],
   "source": [
    "y = data['Potability']"
   ]
  },
  {
   "cell_type": "code",
   "execution_count": 8,
   "id": "fd239174",
   "metadata": {
    "execution": {
     "iopub.execute_input": "2022-03-07T09:34:27.290031Z",
     "iopub.status.busy": "2022-03-07T09:34:27.285075Z",
     "iopub.status.idle": "2022-03-07T09:34:27.291583Z",
     "shell.execute_reply": "2022-03-07T09:34:27.291978Z",
     "shell.execute_reply.started": "2022-03-07T09:28:50.985974Z"
    },
    "papermill": {
     "duration": 0.101545,
     "end_time": "2022-03-07T09:34:27.292142",
     "exception": false,
     "start_time": "2022-03-07T09:34:27.190597",
     "status": "completed"
    },
    "tags": []
   },
   "outputs": [],
   "source": [
    "x = data.drop('Potability', axis=1)"
   ]
  },
  {
   "cell_type": "code",
   "execution_count": 9,
   "id": "0e983954",
   "metadata": {
    "execution": {
     "iopub.execute_input": "2022-03-07T09:34:27.426164Z",
     "iopub.status.busy": "2022-03-07T09:34:27.425626Z",
     "iopub.status.idle": "2022-03-07T09:34:27.433116Z",
     "shell.execute_reply": "2022-03-07T09:34:27.433549Z",
     "shell.execute_reply.started": "2022-03-07T09:28:53.517395Z"
    },
    "papermill": {
     "duration": 0.079973,
     "end_time": "2022-03-07T09:34:27.433724",
     "exception": false,
     "start_time": "2022-03-07T09:34:27.353751",
     "status": "completed"
    },
    "tags": []
   },
   "outputs": [
    {
     "data": {
      "text/html": [
       "<div>\n",
       "<style scoped>\n",
       "    .dataframe tbody tr th:only-of-type {\n",
       "        vertical-align: middle;\n",
       "    }\n",
       "\n",
       "    .dataframe tbody tr th {\n",
       "        vertical-align: top;\n",
       "    }\n",
       "\n",
       "    .dataframe thead th {\n",
       "        text-align: right;\n",
       "    }\n",
       "</style>\n",
       "<table border=\"1\" class=\"dataframe\">\n",
       "  <thead>\n",
       "    <tr style=\"text-align: right;\">\n",
       "      <th></th>\n",
       "      <th>ph</th>\n",
       "      <th>Hardness</th>\n",
       "      <th>Solids</th>\n",
       "      <th>Chloramines</th>\n",
       "      <th>Sulfate</th>\n",
       "      <th>Conductivity</th>\n",
       "      <th>Organic_carbon</th>\n",
       "      <th>Trihalomethanes</th>\n",
       "      <th>Turbidity</th>\n",
       "    </tr>\n",
       "  </thead>\n",
       "  <tbody>\n",
       "    <tr>\n",
       "      <th>0</th>\n",
       "      <td>NaN</td>\n",
       "      <td>204.890455</td>\n",
       "      <td>20791.318981</td>\n",
       "      <td>7.300212</td>\n",
       "      <td>368.516441</td>\n",
       "      <td>564.308654</td>\n",
       "      <td>10.379783</td>\n",
       "      <td>86.990970</td>\n",
       "      <td>2.963135</td>\n",
       "    </tr>\n",
       "    <tr>\n",
       "      <th>1</th>\n",
       "      <td>3.716080</td>\n",
       "      <td>129.422921</td>\n",
       "      <td>18630.057858</td>\n",
       "      <td>6.635246</td>\n",
       "      <td>NaN</td>\n",
       "      <td>592.885359</td>\n",
       "      <td>15.180013</td>\n",
       "      <td>56.329076</td>\n",
       "      <td>4.500656</td>\n",
       "    </tr>\n",
       "    <tr>\n",
       "      <th>2</th>\n",
       "      <td>8.099124</td>\n",
       "      <td>224.236259</td>\n",
       "      <td>19909.541732</td>\n",
       "      <td>9.275884</td>\n",
       "      <td>NaN</td>\n",
       "      <td>418.606213</td>\n",
       "      <td>16.868637</td>\n",
       "      <td>66.420093</td>\n",
       "      <td>3.055934</td>\n",
       "    </tr>\n",
       "    <tr>\n",
       "      <th>3</th>\n",
       "      <td>8.316766</td>\n",
       "      <td>214.373394</td>\n",
       "      <td>22018.417441</td>\n",
       "      <td>8.059332</td>\n",
       "      <td>356.886136</td>\n",
       "      <td>363.266516</td>\n",
       "      <td>18.436524</td>\n",
       "      <td>100.341674</td>\n",
       "      <td>4.628771</td>\n",
       "    </tr>\n",
       "    <tr>\n",
       "      <th>4</th>\n",
       "      <td>9.092223</td>\n",
       "      <td>181.101509</td>\n",
       "      <td>17978.986339</td>\n",
       "      <td>6.546600</td>\n",
       "      <td>310.135738</td>\n",
       "      <td>398.410813</td>\n",
       "      <td>11.558279</td>\n",
       "      <td>31.997993</td>\n",
       "      <td>4.075075</td>\n",
       "    </tr>\n",
       "  </tbody>\n",
       "</table>\n",
       "</div>"
      ],
      "text/plain": [
       "         ph    Hardness        Solids  Chloramines     Sulfate  Conductivity  \\\n",
       "0       NaN  204.890455  20791.318981     7.300212  368.516441    564.308654   \n",
       "1  3.716080  129.422921  18630.057858     6.635246         NaN    592.885359   \n",
       "2  8.099124  224.236259  19909.541732     9.275884         NaN    418.606213   \n",
       "3  8.316766  214.373394  22018.417441     8.059332  356.886136    363.266516   \n",
       "4  9.092223  181.101509  17978.986339     6.546600  310.135738    398.410813   \n",
       "\n",
       "   Organic_carbon  Trihalomethanes  Turbidity  \n",
       "0       10.379783        86.990970   2.963135  \n",
       "1       15.180013        56.329076   4.500656  \n",
       "2       16.868637        66.420093   3.055934  \n",
       "3       18.436524       100.341674   4.628771  \n",
       "4       11.558279        31.997993   4.075075  "
      ]
     },
     "execution_count": 9,
     "metadata": {},
     "output_type": "execute_result"
    }
   ],
   "source": [
    "x.head()"
   ]
  },
  {
   "cell_type": "markdown",
   "id": "e56c660a",
   "metadata": {
    "papermill": {
     "duration": 0.061025,
     "end_time": "2022-03-07T09:34:27.557636",
     "exception": false,
     "start_time": "2022-03-07T09:34:27.496611",
     "status": "completed"
    },
    "tags": []
   },
   "source": [
    "### This is my second approach\n",
    "#### I will try to fill the null value using the column's median and without scaling proccess, the data will used directly for the DTC model"
   ]
  },
  {
   "cell_type": "code",
   "execution_count": 10,
   "id": "50eb2a49",
   "metadata": {
    "execution": {
     "iopub.execute_input": "2022-03-07T09:34:27.703191Z",
     "iopub.status.busy": "2022-03-07T09:34:27.702620Z",
     "iopub.status.idle": "2022-03-07T09:34:29.228317Z",
     "shell.execute_reply": "2022-03-07T09:34:29.228704Z",
     "shell.execute_reply.started": "2022-03-07T09:28:58.204583Z"
    },
    "papermill": {
     "duration": 1.599458,
     "end_time": "2022-03-07T09:34:29.228881",
     "exception": false,
     "start_time": "2022-03-07T09:34:27.629423",
     "status": "completed"
    },
    "tags": []
   },
   "outputs": [],
   "source": [
    "from sklearn.impute import SimpleImputer"
   ]
  },
  {
   "cell_type": "code",
   "execution_count": 11,
   "id": "c09c9918",
   "metadata": {
    "execution": {
     "iopub.execute_input": "2022-03-07T09:34:29.367330Z",
     "iopub.status.busy": "2022-03-07T09:34:29.366728Z",
     "iopub.status.idle": "2022-03-07T09:34:29.371082Z",
     "shell.execute_reply": "2022-03-07T09:34:29.371527Z",
     "shell.execute_reply.started": "2022-03-07T09:29:00.826076Z"
    },
    "papermill": {
     "duration": 0.0738,
     "end_time": "2022-03-07T09:34:29.371715",
     "exception": false,
     "start_time": "2022-03-07T09:34:29.297915",
     "status": "completed"
    },
    "tags": []
   },
   "outputs": [],
   "source": [
    "imp = SimpleImputer(strategy='median')"
   ]
  },
  {
   "cell_type": "code",
   "execution_count": 12,
   "id": "2434a698",
   "metadata": {
    "execution": {
     "iopub.execute_input": "2022-03-07T09:34:29.518171Z",
     "iopub.status.busy": "2022-03-07T09:34:29.517586Z",
     "iopub.status.idle": "2022-03-07T09:34:29.534052Z",
     "shell.execute_reply": "2022-03-07T09:34:29.534510Z",
     "shell.execute_reply.started": "2022-03-07T09:29:03.567008Z"
    },
    "papermill": {
     "duration": 0.092926,
     "end_time": "2022-03-07T09:34:29.534686",
     "exception": false,
     "start_time": "2022-03-07T09:34:29.441760",
     "status": "completed"
    },
    "tags": []
   },
   "outputs": [
    {
     "data": {
      "text/plain": [
       "SimpleImputer(strategy='median')"
      ]
     },
     "execution_count": 12,
     "metadata": {},
     "output_type": "execute_result"
    }
   ],
   "source": [
    "imp.fit(x)"
   ]
  },
  {
   "cell_type": "code",
   "execution_count": 13,
   "id": "daf57741",
   "metadata": {
    "execution": {
     "iopub.execute_input": "2022-03-07T09:34:29.674814Z",
     "iopub.status.busy": "2022-03-07T09:34:29.674256Z",
     "iopub.status.idle": "2022-03-07T09:34:29.682286Z",
     "shell.execute_reply": "2022-03-07T09:34:29.682758Z",
     "shell.execute_reply.started": "2022-03-07T09:29:06.085221Z"
    },
    "papermill": {
     "duration": 0.078038,
     "end_time": "2022-03-07T09:34:29.682944",
     "exception": false,
     "start_time": "2022-03-07T09:34:29.604906",
     "status": "completed"
    },
    "tags": []
   },
   "outputs": [],
   "source": [
    "x_filled = imp.transform(x)"
   ]
  },
  {
   "cell_type": "code",
   "execution_count": 14,
   "id": "fed8ca5a",
   "metadata": {
    "execution": {
     "iopub.execute_input": "2022-03-07T09:34:29.811818Z",
     "iopub.status.busy": "2022-03-07T09:34:29.811287Z",
     "iopub.status.idle": "2022-03-07T09:34:29.817337Z",
     "shell.execute_reply": "2022-03-07T09:34:29.817824Z",
     "shell.execute_reply.started": "2022-03-07T09:29:08.506353Z"
    },
    "papermill": {
     "duration": 0.069643,
     "end_time": "2022-03-07T09:34:29.817984",
     "exception": false,
     "start_time": "2022-03-07T09:34:29.748341",
     "status": "completed"
    },
    "tags": []
   },
   "outputs": [
    {
     "data": {
      "text/plain": [
       "array([7.03675210e+00, 2.04890455e+02, 2.07913190e+04, 7.30021187e+00,\n",
       "       3.68516441e+02, 5.64308654e+02, 1.03797831e+01, 8.69909705e+01,\n",
       "       2.96313538e+00])"
      ]
     },
     "execution_count": 14,
     "metadata": {},
     "output_type": "execute_result"
    }
   ],
   "source": [
    "x_filled[0]"
   ]
  },
  {
   "cell_type": "code",
   "execution_count": null,
   "id": "468ea2d9",
   "metadata": {
    "papermill": {
     "duration": 0.059556,
     "end_time": "2022-03-07T09:34:29.938505",
     "exception": false,
     "start_time": "2022-03-07T09:34:29.878949",
     "status": "completed"
    },
    "tags": []
   },
   "outputs": [],
   "source": []
  },
  {
   "cell_type": "markdown",
   "id": "52cfd22c",
   "metadata": {
    "papermill": {
     "duration": 0.060988,
     "end_time": "2022-03-07T09:34:30.060459",
     "exception": false,
     "start_time": "2022-03-07T09:34:29.999471",
     "status": "completed"
    },
    "tags": []
   },
   "source": [
    "#### Split the data"
   ]
  },
  {
   "cell_type": "code",
   "execution_count": 15,
   "id": "8a0d42a6",
   "metadata": {
    "execution": {
     "iopub.execute_input": "2022-03-07T09:34:30.185184Z",
     "iopub.status.busy": "2022-03-07T09:34:30.184666Z",
     "iopub.status.idle": "2022-03-07T09:34:30.189073Z",
     "shell.execute_reply": "2022-03-07T09:34:30.189605Z",
     "shell.execute_reply.started": "2022-03-07T09:29:11.951500Z"
    },
    "papermill": {
     "duration": 0.066108,
     "end_time": "2022-03-07T09:34:30.189808",
     "exception": false,
     "start_time": "2022-03-07T09:34:30.123700",
     "status": "completed"
    },
    "tags": []
   },
   "outputs": [],
   "source": [
    "from sklearn.model_selection import train_test_split"
   ]
  },
  {
   "cell_type": "code",
   "execution_count": 16,
   "id": "21059c14",
   "metadata": {
    "execution": {
     "iopub.execute_input": "2022-03-07T09:34:30.376470Z",
     "iopub.status.busy": "2022-03-07T09:34:30.375744Z",
     "iopub.status.idle": "2022-03-07T09:34:30.381965Z",
     "shell.execute_reply": "2022-03-07T09:34:30.382480Z",
     "shell.execute_reply.started": "2022-03-07T09:29:22.814756Z"
    },
    "papermill": {
     "duration": 0.099917,
     "end_time": "2022-03-07T09:34:30.382676",
     "exception": false,
     "start_time": "2022-03-07T09:34:30.282759",
     "status": "completed"
    },
    "tags": []
   },
   "outputs": [],
   "source": [
    "train_x, test_x, train_y, test_y  = train_test_split(x_filled, y, test_size=0.2, random_state=42)"
   ]
  },
  {
   "cell_type": "code",
   "execution_count": 17,
   "id": "4f109c99",
   "metadata": {
    "execution": {
     "iopub.execute_input": "2022-03-07T09:34:30.571385Z",
     "iopub.status.busy": "2022-03-07T09:34:30.570677Z",
     "iopub.status.idle": "2022-03-07T09:34:30.576036Z",
     "shell.execute_reply": "2022-03-07T09:34:30.576539Z",
     "shell.execute_reply.started": "2022-03-07T09:29:24.539293Z"
    },
    "papermill": {
     "duration": 0.100225,
     "end_time": "2022-03-07T09:34:30.576735",
     "exception": false,
     "start_time": "2022-03-07T09:34:30.476510",
     "status": "completed"
    },
    "tags": []
   },
   "outputs": [
    {
     "data": {
      "text/plain": [
       "(2620, 9)"
      ]
     },
     "execution_count": 17,
     "metadata": {},
     "output_type": "execute_result"
    }
   ],
   "source": [
    "train_x.shape"
   ]
  },
  {
   "cell_type": "code",
   "execution_count": 18,
   "id": "a1c49c4a",
   "metadata": {
    "execution": {
     "iopub.execute_input": "2022-03-07T09:34:30.764489Z",
     "iopub.status.busy": "2022-03-07T09:34:30.763890Z",
     "iopub.status.idle": "2022-03-07T09:34:30.771149Z",
     "shell.execute_reply": "2022-03-07T09:34:30.771671Z",
     "shell.execute_reply.started": "2022-03-07T09:29:26.958973Z"
    },
    "papermill": {
     "duration": 0.10475,
     "end_time": "2022-03-07T09:34:30.771892",
     "exception": false,
     "start_time": "2022-03-07T09:34:30.667142",
     "status": "completed"
    },
    "tags": []
   },
   "outputs": [
    {
     "data": {
      "text/plain": [
       "(656, 9)"
      ]
     },
     "execution_count": 18,
     "metadata": {},
     "output_type": "execute_result"
    }
   ],
   "source": [
    "test_x.shape"
   ]
  },
  {
   "cell_type": "markdown",
   "id": "5a730482",
   "metadata": {
    "papermill": {
     "duration": 0.093122,
     "end_time": "2022-03-07T09:34:30.958966",
     "exception": false,
     "start_time": "2022-03-07T09:34:30.865844",
     "status": "completed"
    },
    "tags": []
   },
   "source": [
    "### Models"
   ]
  },
  {
   "cell_type": "code",
   "execution_count": 19,
   "id": "fd5d05d9",
   "metadata": {
    "execution": {
     "iopub.execute_input": "2022-03-07T09:34:31.159841Z",
     "iopub.status.busy": "2022-03-07T09:34:31.158961Z",
     "iopub.status.idle": "2022-03-07T09:34:31.201011Z",
     "shell.execute_reply": "2022-03-07T09:34:31.201567Z",
     "shell.execute_reply.started": "2022-03-07T09:29:32.170474Z"
    },
    "papermill": {
     "duration": 0.149922,
     "end_time": "2022-03-07T09:34:31.201751",
     "exception": false,
     "start_time": "2022-03-07T09:34:31.051829",
     "status": "completed"
    },
    "tags": []
   },
   "outputs": [],
   "source": [
    "from sklearn.tree import DecisionTreeClassifier"
   ]
  },
  {
   "cell_type": "code",
   "execution_count": 20,
   "id": "1656c1f5",
   "metadata": {
    "execution": {
     "iopub.execute_input": "2022-03-07T09:34:31.388681Z",
     "iopub.status.busy": "2022-03-07T09:34:31.388005Z",
     "iopub.status.idle": "2022-03-07T09:34:31.390883Z",
     "shell.execute_reply": "2022-03-07T09:34:31.391407Z",
     "shell.execute_reply.started": "2022-03-07T09:29:34.561519Z"
    },
    "papermill": {
     "duration": 0.097759,
     "end_time": "2022-03-07T09:34:31.391587",
     "exception": false,
     "start_time": "2022-03-07T09:34:31.293828",
     "status": "completed"
    },
    "tags": []
   },
   "outputs": [],
   "source": [
    "dtc = DecisionTreeClassifier(random_state=0)"
   ]
  },
  {
   "cell_type": "code",
   "execution_count": 21,
   "id": "643084a3",
   "metadata": {
    "execution": {
     "iopub.execute_input": "2022-03-07T09:34:31.585939Z",
     "iopub.status.busy": "2022-03-07T09:34:31.585188Z",
     "iopub.status.idle": "2022-03-07T09:34:31.624098Z",
     "shell.execute_reply": "2022-03-07T09:34:31.624516Z",
     "shell.execute_reply.started": "2022-03-07T09:29:56.294633Z"
    },
    "papermill": {
     "duration": 0.139699,
     "end_time": "2022-03-07T09:34:31.624683",
     "exception": false,
     "start_time": "2022-03-07T09:34:31.484984",
     "status": "completed"
    },
    "tags": []
   },
   "outputs": [
    {
     "data": {
      "text/plain": [
       "DecisionTreeClassifier(random_state=0)"
      ]
     },
     "execution_count": 21,
     "metadata": {},
     "output_type": "execute_result"
    }
   ],
   "source": [
    "dtc.fit(train_x, train_y)"
   ]
  },
  {
   "cell_type": "code",
   "execution_count": null,
   "id": "f8248588",
   "metadata": {
    "papermill": {
     "duration": 0.060957,
     "end_time": "2022-03-07T09:34:31.749136",
     "exception": false,
     "start_time": "2022-03-07T09:34:31.688179",
     "status": "completed"
    },
    "tags": []
   },
   "outputs": [],
   "source": []
  },
  {
   "cell_type": "markdown",
   "id": "733f1ba0",
   "metadata": {
    "papermill": {
     "duration": 0.060641,
     "end_time": "2022-03-07T09:34:31.873374",
     "exception": false,
     "start_time": "2022-03-07T09:34:31.812733",
     "status": "completed"
    },
    "tags": []
   },
   "source": [
    "### Evaluation"
   ]
  },
  {
   "cell_type": "code",
   "execution_count": 22,
   "id": "3856b6aa",
   "metadata": {
    "execution": {
     "iopub.execute_input": "2022-03-07T09:34:32.001696Z",
     "iopub.status.busy": "2022-03-07T09:34:32.001031Z",
     "iopub.status.idle": "2022-03-07T09:34:32.006232Z",
     "shell.execute_reply": "2022-03-07T09:34:32.005646Z",
     "shell.execute_reply.started": "2022-03-07T09:30:04.004509Z"
    },
    "papermill": {
     "duration": 0.070979,
     "end_time": "2022-03-07T09:34:32.006395",
     "exception": false,
     "start_time": "2022-03-07T09:34:31.935416",
     "status": "completed"
    },
    "tags": []
   },
   "outputs": [],
   "source": [
    "predictions = dtc.predict(test_x)"
   ]
  },
  {
   "cell_type": "code",
   "execution_count": 23,
   "id": "097fc098",
   "metadata": {
    "execution": {
     "iopub.execute_input": "2022-03-07T09:34:32.206666Z",
     "iopub.status.busy": "2022-03-07T09:34:32.205821Z",
     "iopub.status.idle": "2022-03-07T09:34:32.212328Z",
     "shell.execute_reply": "2022-03-07T09:34:32.211828Z",
     "shell.execute_reply.started": "2022-03-07T09:30:05.874789Z"
    },
    "papermill": {
     "duration": 0.10537,
     "end_time": "2022-03-07T09:34:32.212451",
     "exception": false,
     "start_time": "2022-03-07T09:34:32.107081",
     "status": "completed"
    },
    "tags": []
   },
   "outputs": [
    {
     "data": {
      "text/plain": [
       "array([0, 0, 1, 0, 0, 1, 0, 1, 0, 0, 0, 0, 0, 0, 1, 0, 0, 1, 1, 0, 1, 1,\n",
       "       0, 0, 0, 1, 0, 1, 0, 1, 0, 1, 0, 0, 0, 1, 1, 1, 0, 1, 1, 1, 1, 1,\n",
       "       1, 1, 1, 0, 1, 1, 0, 0, 1, 1, 1, 1, 1, 1, 1, 1, 0, 0, 1, 1, 0, 0,\n",
       "       1, 1, 0, 1, 0, 0, 1, 0, 0, 1, 1, 0, 1, 0, 0, 0, 0, 0, 1, 0, 0, 1,\n",
       "       0, 0, 1, 0, 1, 1, 0, 0, 0, 0, 0, 0, 1, 0, 0, 1, 0, 0, 1, 0, 0, 1,\n",
       "       1, 1, 0, 0, 0, 0, 0, 0, 0, 0, 0, 0, 0, 0, 1, 1, 1, 1, 0, 1, 1, 1,\n",
       "       1, 0, 1, 0, 0, 0, 0, 1, 0, 1, 0, 1, 1, 0, 0, 0, 0, 0, 1, 0, 0, 0,\n",
       "       1, 0, 1, 0, 1, 0, 1, 0, 1, 0, 1, 0, 1, 1, 0, 0, 0, 0, 1, 1, 0, 1,\n",
       "       1, 0, 0, 1, 1, 0, 0, 0, 0, 0, 1, 0, 0, 0, 1, 1, 1, 1, 1, 1, 0, 0,\n",
       "       1, 0, 1, 0, 0, 0, 0, 1, 0, 0, 0, 1, 0, 1, 1, 0, 0, 1, 1, 0, 1, 1,\n",
       "       1, 1, 0, 1, 0, 0, 1, 0, 0, 1, 0, 0, 0, 0, 0, 0, 0, 0, 0, 0, 0, 0,\n",
       "       0, 0, 1, 0, 1, 1, 0, 0, 0, 0, 1, 1, 0, 1, 0, 0, 0, 0, 1, 0, 1, 1,\n",
       "       1, 0, 1, 1, 0, 1, 0, 0, 0, 1, 0, 1, 0, 1, 0, 0, 0, 0, 1, 1, 0, 0,\n",
       "       0, 0, 0, 0, 0, 1, 0, 0, 0, 0, 0, 1, 0, 1, 0, 0, 0, 1, 1, 1, 0, 0,\n",
       "       0, 0, 0, 1, 1, 0, 1, 0, 0, 1, 0, 1, 0, 0, 0, 0, 0, 1, 1, 0, 1, 0,\n",
       "       0, 0, 0, 0, 0, 1, 1, 0, 1, 0, 0, 1, 1, 1, 1, 1, 1, 0, 0, 1, 1, 1,\n",
       "       1, 0, 0, 0, 1, 1, 1, 0, 0, 1, 1, 0, 0, 1, 0, 0, 1, 0, 0, 1, 0, 1,\n",
       "       0, 1, 1, 0, 0, 1, 1, 1, 1, 0, 1, 0, 0, 0, 0, 0, 0, 0, 0, 0, 1, 0,\n",
       "       0, 1, 1, 0, 0, 1, 0, 1, 1, 0, 1, 1, 0, 1, 1, 1, 1, 1, 0, 0, 0, 1,\n",
       "       1, 1, 0, 0, 0, 0, 1, 0, 0, 1, 1, 0, 0, 1, 1, 0, 1, 0, 0, 0, 1, 0,\n",
       "       0, 0, 0, 1, 0, 0, 1, 1, 0, 1, 1, 0, 1, 1, 0, 1, 1, 1, 0, 0, 0, 1,\n",
       "       1, 0, 0, 1, 1, 0, 0, 0, 0, 0, 0, 0, 1, 1, 0, 1, 1, 1, 0, 1, 0, 1,\n",
       "       0, 0, 1, 0, 0, 0, 1, 1, 1, 0, 1, 0, 0, 0, 1, 0, 1, 1, 0, 1, 0, 0,\n",
       "       0, 0, 0, 0, 0, 0, 0, 1, 1, 1, 0, 1, 0, 0, 0, 0, 0, 0, 1, 1, 1, 0,\n",
       "       0, 1, 1, 0, 0, 0, 0, 0, 0, 0, 1, 1, 0, 0, 1, 1, 1, 1, 1, 0, 0, 0,\n",
       "       0, 0, 0, 0, 0, 0, 0, 0, 0, 0, 0, 1, 0, 0, 0, 0, 1, 0, 1, 0, 0, 1,\n",
       "       0, 1, 0, 0, 1, 0, 0, 1, 1, 1, 0, 0, 0, 1, 1, 0, 0, 0, 0, 0, 0, 0,\n",
       "       1, 1, 1, 0, 0, 1, 0, 0, 1, 1, 1, 0, 1, 0, 0, 0, 1, 0, 1, 0, 0, 0,\n",
       "       1, 1, 1, 0, 1, 0, 0, 0, 0, 0, 1, 0, 1, 0, 0, 0, 0, 1, 0, 0, 0, 0,\n",
       "       0, 0, 1, 1, 0, 0, 0, 0, 0, 1, 0, 1, 0, 1, 0, 1, 1, 0])"
      ]
     },
     "execution_count": 23,
     "metadata": {},
     "output_type": "execute_result"
    }
   ],
   "source": [
    "predictions"
   ]
  },
  {
   "cell_type": "code",
   "execution_count": 24,
   "id": "a9940cf9",
   "metadata": {
    "execution": {
     "iopub.execute_input": "2022-03-07T09:34:32.344240Z",
     "iopub.status.busy": "2022-03-07T09:34:32.343535Z",
     "iopub.status.idle": "2022-03-07T09:34:32.347265Z",
     "shell.execute_reply": "2022-03-07T09:34:32.347752Z",
     "shell.execute_reply.started": "2022-03-07T09:30:10.617123Z"
    },
    "papermill": {
     "duration": 0.071703,
     "end_time": "2022-03-07T09:34:32.347916",
     "exception": false,
     "start_time": "2022-03-07T09:34:32.276213",
     "status": "completed"
    },
    "tags": []
   },
   "outputs": [],
   "source": [
    "from sklearn.metrics import confusion_matrix, classification_report"
   ]
  },
  {
   "cell_type": "code",
   "execution_count": 25,
   "id": "5bf0e678",
   "metadata": {
    "execution": {
     "iopub.execute_input": "2022-03-07T09:34:32.476773Z",
     "iopub.status.busy": "2022-03-07T09:34:32.476086Z",
     "iopub.status.idle": "2022-03-07T09:34:32.486080Z",
     "shell.execute_reply": "2022-03-07T09:34:32.485596Z",
     "shell.execute_reply.started": "2022-03-07T09:30:14.534428Z"
    },
    "papermill": {
     "duration": 0.075995,
     "end_time": "2022-03-07T09:34:32.486204",
     "exception": false,
     "start_time": "2022-03-07T09:34:32.410209",
     "status": "completed"
    },
    "tags": []
   },
   "outputs": [],
   "source": [
    "metric_matrix = confusion_matrix(test_y, predictions)"
   ]
  },
  {
   "cell_type": "code",
   "execution_count": 26,
   "id": "b8118387",
   "metadata": {
    "execution": {
     "iopub.execute_input": "2022-03-07T09:34:32.616760Z",
     "iopub.status.busy": "2022-03-07T09:34:32.616033Z",
     "iopub.status.idle": "2022-03-07T09:34:32.803412Z",
     "shell.execute_reply": "2022-03-07T09:34:32.802869Z",
     "shell.execute_reply.started": "2022-03-07T09:30:16.917370Z"
    },
    "papermill": {
     "duration": 0.255684,
     "end_time": "2022-03-07T09:34:32.803559",
     "exception": false,
     "start_time": "2022-03-07T09:34:32.547875",
     "status": "completed"
    },
    "tags": []
   },
   "outputs": [],
   "source": [
    "import matplotlib.pyplot as plt\n",
    "import seaborn as sns\n",
    "%matplotlib inline"
   ]
  },
  {
   "cell_type": "code",
   "execution_count": 27,
   "id": "04af7fc0",
   "metadata": {
    "execution": {
     "iopub.execute_input": "2022-03-07T09:34:32.996034Z",
     "iopub.status.busy": "2022-03-07T09:34:32.995302Z",
     "iopub.status.idle": "2022-03-07T09:34:33.251000Z",
     "shell.execute_reply": "2022-03-07T09:34:33.251513Z",
     "shell.execute_reply.started": "2022-03-07T09:30:19.432489Z"
    },
    "papermill": {
     "duration": 0.355584,
     "end_time": "2022-03-07T09:34:33.251711",
     "exception": false,
     "start_time": "2022-03-07T09:34:32.896127",
     "status": "completed"
    },
    "tags": []
   },
   "outputs": [
    {
     "data": {
      "text/plain": [
       "<AxesSubplot:xlabel='Predicted', ylabel='Actual'>"
      ]
     },
     "execution_count": 27,
     "metadata": {},
     "output_type": "execute_result"
    },
    {
     "data": {
      "image/png": "[encoded data removed]",
      "text/plain": [
       "<Figure size 432x288 with 2 Axes>"
      ]
     },
     "metadata": {
      "needs_background": "light"
     },
     "output_type": "display_data"
    }
   ],
   "source": [
    "df_cm = pd.DataFrame(metric_matrix, columns=np.unique(test_y), index = np.unique(test_y))\n",
    "df_cm.index.name = 'Actual'\n",
    "df_cm.columns.name = 'Predicted'\n",
    "sns.heatmap(df_cm, cmap=\"Blues\", annot=True, fmt='g')"
   ]
  },
  {
   "cell_type": "code",
   "execution_count": 28,
   "id": "06768cc7",
   "metadata": {
    "execution": {
     "iopub.execute_input": "2022-03-07T09:34:33.446689Z",
     "iopub.status.busy": "2022-03-07T09:34:33.445967Z",
     "iopub.status.idle": "2022-03-07T09:34:33.457265Z",
     "shell.execute_reply": "2022-03-07T09:34:33.457936Z",
     "shell.execute_reply.started": "2022-03-07T09:30:23.725725Z"
    },
    "papermill": {
     "duration": 0.110361,
     "end_time": "2022-03-07T09:34:33.458110",
     "exception": false,
     "start_time": "2022-03-07T09:34:33.347749",
     "status": "completed"
    },
    "tags": []
   },
   "outputs": [
    {
     "name": "stdout",
     "output_type": "stream",
     "text": [
      "              precision    recall  f1-score   support\n",
      "\n",
      "           0       0.68      0.64      0.66       412\n",
      "           1       0.45      0.50      0.47       244\n",
      "\n",
      "    accuracy                           0.59       656\n",
      "   macro avg       0.57      0.57      0.57       656\n",
      "weighted avg       0.60      0.59      0.59       656\n",
      "\n"
     ]
    }
   ],
   "source": [
    "print(classification_report(test_y, predictions))"
   ]
  },
  {
   "cell_type": "code",
   "execution_count": null,
   "id": "91e03eb9",
   "metadata": {
    "papermill": {
     "duration": 0.097326,
     "end_time": "2022-03-07T09:34:33.652354",
     "exception": false,
     "start_time": "2022-03-07T09:34:33.555028",
     "status": "completed"
    },
    "tags": []
   },
   "outputs": [],
   "source": []
  },
  {
   "cell_type": "code",
   "execution_count": null,
   "id": "fd0da085",
   "metadata": {
    "papermill": {
     "duration": 0.094355,
     "end_time": "2022-03-07T09:34:33.841540",
     "exception": false,
     "start_time": "2022-03-07T09:34:33.747185",
     "status": "completed"
    },
    "tags": []
   },
   "outputs": [],
   "source": []
  },
  {
   "cell_type": "markdown",
   "id": "8fbaa086",
   "metadata": {
    "papermill": {
     "duration": 0.093376,
     "end_time": "2022-03-07T09:34:34.032838",
     "exception": false,
     "start_time": "2022-03-07T09:34:33.939462",
     "status": "completed"
    },
    "tags": []
   },
   "source": [
    "### Same data, but with Standardization"
   ]
  },
  {
   "cell_type": "code",
   "execution_count": 29,
   "id": "f59e2d94",
   "metadata": {
    "execution": {
     "iopub.execute_input": "2022-03-07T09:34:34.232944Z",
     "iopub.status.busy": "2022-03-07T09:34:34.231299Z",
     "iopub.status.idle": "2022-03-07T09:34:34.235420Z",
     "shell.execute_reply": "2022-03-07T09:34:34.235831Z",
     "shell.execute_reply.started": "2022-03-07T09:30:28.905045Z"
    },
    "papermill": {
     "duration": 0.10523,
     "end_time": "2022-03-07T09:34:34.235987",
     "exception": false,
     "start_time": "2022-03-07T09:34:34.130757",
     "status": "completed"
    },
    "tags": []
   },
   "outputs": [],
   "source": [
    "from sklearn.preprocessing import StandardScaler\n",
    "scl = StandardScaler()"
   ]
  },
  {
   "cell_type": "code",
   "execution_count": 30,
   "id": "f850915f",
   "metadata": {
    "execution": {
     "iopub.execute_input": "2022-03-07T09:34:34.368924Z",
     "iopub.status.busy": "2022-03-07T09:34:34.368392Z",
     "iopub.status.idle": "2022-03-07T09:34:34.375695Z",
     "shell.execute_reply": "2022-03-07T09:34:34.376242Z",
     "shell.execute_reply.started": "2022-03-07T09:30:30.486958Z"
    },
    "papermill": {
     "duration": 0.077378,
     "end_time": "2022-03-07T09:34:34.376440",
     "exception": false,
     "start_time": "2022-03-07T09:34:34.299062",
     "status": "completed"
    },
    "tags": []
   },
   "outputs": [
    {
     "data": {
      "text/plain": [
       "StandardScaler()"
      ]
     },
     "execution_count": 30,
     "metadata": {},
     "output_type": "execute_result"
    }
   ],
   "source": [
    "scl.fit(train_x)"
   ]
  },
  {
   "cell_type": "code",
   "execution_count": 31,
   "id": "3866cd2d",
   "metadata": {
    "execution": {
     "iopub.execute_input": "2022-03-07T09:34:34.577342Z",
     "iopub.status.busy": "2022-03-07T09:34:34.576674Z",
     "iopub.status.idle": "2022-03-07T09:34:34.580987Z",
     "shell.execute_reply": "2022-03-07T09:34:34.581506Z",
     "shell.execute_reply.started": "2022-03-07T09:30:32.154842Z"
    },
    "papermill": {
     "duration": 0.105477,
     "end_time": "2022-03-07T09:34:34.581700",
     "exception": false,
     "start_time": "2022-03-07T09:34:34.476223",
     "status": "completed"
    },
    "tags": []
   },
   "outputs": [],
   "source": [
    "train_x_scl = scl.transform(train_x)\n",
    "test_x_scl = scl.transform(test_x)"
   ]
  },
  {
   "cell_type": "code",
   "execution_count": 32,
   "id": "d4103bdb",
   "metadata": {
    "execution": {
     "iopub.execute_input": "2022-03-07T09:34:34.797952Z",
     "iopub.status.busy": "2022-03-07T09:34:34.797219Z",
     "iopub.status.idle": "2022-03-07T09:34:34.801324Z",
     "shell.execute_reply": "2022-03-07T09:34:34.800576Z",
     "shell.execute_reply.started": "2022-03-07T09:30:33.775429Z"
    },
    "papermill": {
     "duration": 0.114276,
     "end_time": "2022-03-07T09:34:34.801486",
     "exception": false,
     "start_time": "2022-03-07T09:34:34.687210",
     "status": "completed"
    },
    "tags": []
   },
   "outputs": [],
   "source": [
    "dcl_scl = DecisionTreeClassifier(random_state=0)"
   ]
  },
  {
   "cell_type": "code",
   "execution_count": 33,
   "id": "4ee014c1",
   "metadata": {
    "execution": {
     "iopub.execute_input": "2022-03-07T09:34:35.024911Z",
     "iopub.status.busy": "2022-03-07T09:34:35.024117Z",
     "iopub.status.idle": "2022-03-07T09:34:35.076465Z",
     "shell.execute_reply": "2022-03-07T09:34:35.075280Z",
     "shell.execute_reply.started": "2022-03-07T09:30:35.966705Z"
    },
    "papermill": {
     "duration": 0.169005,
     "end_time": "2022-03-07T09:34:35.076626",
     "exception": false,
     "start_time": "2022-03-07T09:34:34.907621",
     "status": "completed"
    },
    "tags": []
   },
   "outputs": [
    {
     "data": {
      "text/plain": [
       "DecisionTreeClassifier(random_state=0)"
      ]
     },
     "execution_count": 33,
     "metadata": {},
     "output_type": "execute_result"
    }
   ],
   "source": [
    "dcl_scl.fit(train_x_scl, train_y)"
   ]
  },
  {
   "cell_type": "code",
   "execution_count": 34,
   "id": "80195512",
   "metadata": {
    "execution": {
     "iopub.execute_input": "2022-03-07T09:34:35.299620Z",
     "iopub.status.busy": "2022-03-07T09:34:35.298672Z",
     "iopub.status.idle": "2022-03-07T09:34:35.303865Z",
     "shell.execute_reply": "2022-03-07T09:34:35.304483Z",
     "shell.execute_reply.started": "2022-03-07T09:30:38.349274Z"
    },
    "papermill": {
     "duration": 0.118231,
     "end_time": "2022-03-07T09:34:35.304675",
     "exception": false,
     "start_time": "2022-03-07T09:34:35.186444",
     "status": "completed"
    },
    "tags": []
   },
   "outputs": [],
   "source": [
    "pred_scl = dcl_scl.predict(test_x_scl)"
   ]
  },
  {
   "cell_type": "code",
   "execution_count": 35,
   "id": "451b1bcc",
   "metadata": {
    "execution": {
     "iopub.execute_input": "2022-03-07T09:34:35.520351Z",
     "iopub.status.busy": "2022-03-07T09:34:35.519411Z",
     "iopub.status.idle": "2022-03-07T09:34:35.525088Z",
     "shell.execute_reply": "2022-03-07T09:34:35.525676Z",
     "shell.execute_reply.started": "2022-03-07T09:30:42.047093Z"
    },
    "papermill": {
     "duration": 0.116879,
     "end_time": "2022-03-07T09:34:35.525900",
     "exception": false,
     "start_time": "2022-03-07T09:34:35.409021",
     "status": "completed"
    },
    "tags": []
   },
   "outputs": [],
   "source": [
    "metric_matrix2 = confusion_matrix(test_y, pred_scl)"
   ]
  },
  {
   "cell_type": "code",
   "execution_count": 36,
   "id": "9e852804",
   "metadata": {
    "execution": {
     "iopub.execute_input": "2022-03-07T09:34:35.753530Z",
     "iopub.status.busy": "2022-03-07T09:34:35.741023Z",
     "iopub.status.idle": "2022-03-07T09:34:35.942034Z",
     "shell.execute_reply": "2022-03-07T09:34:35.942572Z",
     "shell.execute_reply.started": "2022-03-07T09:30:44.886685Z"
    },
    "papermill": {
     "duration": 0.308278,
     "end_time": "2022-03-07T09:34:35.942777",
     "exception": false,
     "start_time": "2022-03-07T09:34:35.634499",
     "status": "completed"
    },
    "tags": []
   },
   "outputs": [
    {
     "data": {
      "text/plain": [
       "<AxesSubplot:xlabel='Predicted', ylabel='Actual'>"
      ]
     },
     "execution_count": 36,
     "metadata": {},
     "output_type": "execute_result"
    },
    {
     "data": {
      "image/png": "[encoded data removed]",
      "text/plain": [
       "<Figure size 432x288 with 2 Axes>"
      ]
     },
     "metadata": {
      "needs_background": "light"
     },
     "output_type": "display_data"
    }
   ],
   "source": [
    "df_cm = pd.DataFrame(metric_matrix2, columns=np.unique(test_y), index = np.unique(test_y))\n",
    "df_cm.index.name = 'Actual'\n",
    "df_cm.columns.name = 'Predicted'\n",
    "sns.heatmap(df_cm, cmap=\"Blues\", annot=True, fmt='g')"
   ]
  },
  {
   "cell_type": "markdown",
   "id": "8439a6fe",
   "metadata": {
    "papermill": {
     "duration": 0.106014,
     "end_time": "2022-03-07T09:34:36.148759",
     "exception": false,
     "start_time": "2022-03-07T09:34:36.042745",
     "status": "completed"
    },
    "tags": []
   },
   "source": [
    "## To day I learned\n",
    "### Tree models will always give the same result whether the data is Standardize or not."
   ]
  },
  {
   "cell_type": "code",
   "execution_count": null,
   "id": "3376a06e",
   "metadata": {
    "papermill": {
     "duration": 0.102955,
     "end_time": "2022-03-07T09:34:36.350888",
     "exception": false,
     "start_time": "2022-03-07T09:34:36.247933",
     "status": "completed"
    },
    "tags": []
   },
   "outputs": [],
   "source": []
  },
  {
   "cell_type": "code",
   "execution_count": 37,
   "id": "e829b6da",
   "metadata": {
    "execution": {
     "iopub.execute_input": "2022-03-07T09:34:36.568103Z",
     "iopub.status.busy": "2022-03-07T09:34:36.562668Z",
     "iopub.status.idle": "2022-03-07T09:34:36.570943Z",
     "shell.execute_reply": "2022-03-07T09:34:36.571612Z",
     "shell.execute_reply.started": "2022-03-07T09:19:27.084401Z"
    },
    "papermill": {
     "duration": 0.115062,
     "end_time": "2022-03-07T09:34:36.571829",
     "exception": false,
     "start_time": "2022-03-07T09:34:36.456767",
     "status": "completed"
    },
    "tags": []
   },
   "outputs": [
    {
     "data": {
      "text/plain": [
       "ph                 491\n",
       "Hardness             0\n",
       "Solids               0\n",
       "Chloramines          0\n",
       "Sulfate            781\n",
       "Conductivity         0\n",
       "Organic_carbon       0\n",
       "Trihalomethanes    162\n",
       "Turbidity            0\n",
       "Potability           0\n",
       "dtype: int64"
      ]
     },
     "execution_count": 37,
     "metadata": {},
     "output_type": "execute_result"
    }
   ],
   "source": [
    "data.isna().sum()"
   ]
  },
  {
   "cell_type": "markdown",
   "id": "75c0c5c0",
   "metadata": {
    "papermill": {
     "duration": 0.095958,
     "end_time": "2022-03-07T09:34:36.765623",
     "exception": false,
     "start_time": "2022-03-07T09:34:36.669665",
     "status": "completed"
    },
    "tags": []
   },
   "source": [
    "## Try DTC with drop data"
   ]
  },
  {
   "cell_type": "code",
   "execution_count": 38,
   "id": "2c0fee99",
   "metadata": {
    "execution": {
     "iopub.execute_input": "2022-03-07T09:34:36.970579Z",
     "iopub.status.busy": "2022-03-07T09:34:36.969620Z",
     "iopub.status.idle": "2022-03-07T09:34:36.975828Z",
     "shell.execute_reply": "2022-03-07T09:34:36.976375Z",
     "shell.execute_reply.started": "2022-03-07T09:30:57.163877Z"
    },
    "papermill": {
     "duration": 0.108986,
     "end_time": "2022-03-07T09:34:36.976570",
     "exception": false,
     "start_time": "2022-03-07T09:34:36.867584",
     "status": "completed"
    },
    "tags": []
   },
   "outputs": [],
   "source": [
    "data_drop_col = data.dropna(axis=1)"
   ]
  },
  {
   "cell_type": "code",
   "execution_count": 39,
   "id": "2480adc6",
   "metadata": {
    "execution": {
     "iopub.execute_input": "2022-03-07T09:34:37.189931Z",
     "iopub.status.busy": "2022-03-07T09:34:37.188994Z",
     "iopub.status.idle": "2022-03-07T09:34:37.201975Z",
     "shell.execute_reply": "2022-03-07T09:34:37.201369Z",
     "shell.execute_reply.started": "2022-03-07T09:30:59.784953Z"
    },
    "papermill": {
     "duration": 0.119486,
     "end_time": "2022-03-07T09:34:37.202132",
     "exception": false,
     "start_time": "2022-03-07T09:34:37.082646",
     "status": "completed"
    },
    "tags": []
   },
   "outputs": [
    {
     "data": {
      "text/html": [
       "<div>\n",
       "<style scoped>\n",
       "    .dataframe tbody tr th:only-of-type {\n",
       "        vertical-align: middle;\n",
       "    }\n",
       "\n",
       "    .dataframe tbody tr th {\n",
       "        vertical-align: top;\n",
       "    }\n",
       "\n",
       "    .dataframe thead th {\n",
       "        text-align: right;\n",
       "    }\n",
       "</style>\n",
       "<table border=\"1\" class=\"dataframe\">\n",
       "  <thead>\n",
       "    <tr style=\"text-align: right;\">\n",
       "      <th></th>\n",
       "      <th>Hardness</th>\n",
       "      <th>Solids</th>\n",
       "      <th>Chloramines</th>\n",
       "      <th>Conductivity</th>\n",
       "      <th>Organic_carbon</th>\n",
       "      <th>Turbidity</th>\n",
       "      <th>Potability</th>\n",
       "    </tr>\n",
       "  </thead>\n",
       "  <tbody>\n",
       "    <tr>\n",
       "      <th>0</th>\n",
       "      <td>204.890455</td>\n",
       "      <td>20791.318981</td>\n",
       "      <td>7.300212</td>\n",
       "      <td>564.308654</td>\n",
       "      <td>10.379783</td>\n",
       "      <td>2.963135</td>\n",
       "      <td>0</td>\n",
       "    </tr>\n",
       "    <tr>\n",
       "      <th>1</th>\n",
       "      <td>129.422921</td>\n",
       "      <td>18630.057858</td>\n",
       "      <td>6.635246</td>\n",
       "      <td>592.885359</td>\n",
       "      <td>15.180013</td>\n",
       "      <td>4.500656</td>\n",
       "      <td>0</td>\n",
       "    </tr>\n",
       "    <tr>\n",
       "      <th>2</th>\n",
       "      <td>224.236259</td>\n",
       "      <td>19909.541732</td>\n",
       "      <td>9.275884</td>\n",
       "      <td>418.606213</td>\n",
       "      <td>16.868637</td>\n",
       "      <td>3.055934</td>\n",
       "      <td>0</td>\n",
       "    </tr>\n",
       "    <tr>\n",
       "      <th>3</th>\n",
       "      <td>214.373394</td>\n",
       "      <td>22018.417441</td>\n",
       "      <td>8.059332</td>\n",
       "      <td>363.266516</td>\n",
       "      <td>18.436524</td>\n",
       "      <td>4.628771</td>\n",
       "      <td>0</td>\n",
       "    </tr>\n",
       "    <tr>\n",
       "      <th>4</th>\n",
       "      <td>181.101509</td>\n",
       "      <td>17978.986339</td>\n",
       "      <td>6.546600</td>\n",
       "      <td>398.410813</td>\n",
       "      <td>11.558279</td>\n",
       "      <td>4.075075</td>\n",
       "      <td>0</td>\n",
       "    </tr>\n",
       "  </tbody>\n",
       "</table>\n",
       "</div>"
      ],
      "text/plain": [
       "     Hardness        Solids  Chloramines  Conductivity  Organic_carbon  \\\n",
       "0  204.890455  20791.318981     7.300212    564.308654       10.379783   \n",
       "1  129.422921  18630.057858     6.635246    592.885359       15.180013   \n",
       "2  224.236259  19909.541732     9.275884    418.606213       16.868637   \n",
       "3  214.373394  22018.417441     8.059332    363.266516       18.436524   \n",
       "4  181.101509  17978.986339     6.546600    398.410813       11.558279   \n",
       "\n",
       "   Turbidity  Potability  \n",
       "0   2.963135           0  \n",
       "1   4.500656           0  \n",
       "2   3.055934           0  \n",
       "3   4.628771           0  \n",
       "4   4.075075           0  "
      ]
     },
     "execution_count": 39,
     "metadata": {},
     "output_type": "execute_result"
    }
   ],
   "source": [
    "data_drop_col.head()"
   ]
  },
  {
   "cell_type": "code",
   "execution_count": 40,
   "id": "66a1e6fc",
   "metadata": {
    "execution": {
     "iopub.execute_input": "2022-03-07T09:34:37.409863Z",
     "iopub.status.busy": "2022-03-07T09:34:37.409102Z",
     "iopub.status.idle": "2022-03-07T09:34:37.419373Z",
     "shell.execute_reply": "2022-03-07T09:34:37.419985Z",
     "shell.execute_reply.started": "2022-03-07T09:31:04.356673Z"
    },
    "papermill": {
     "duration": 0.117562,
     "end_time": "2022-03-07T09:34:37.420200",
     "exception": false,
     "start_time": "2022-03-07T09:34:37.302638",
     "status": "completed"
    },
    "tags": []
   },
   "outputs": [
    {
     "data": {
      "text/plain": [
       "0    1998\n",
       "1    1278\n",
       "Name: Potability, dtype: int64"
      ]
     },
     "execution_count": 40,
     "metadata": {},
     "output_type": "execute_result"
    }
   ],
   "source": [
    "data_drop_col.Potability.value_counts()"
   ]
  },
  {
   "cell_type": "code",
   "execution_count": 41,
   "id": "c0520eca",
   "metadata": {
    "execution": {
     "iopub.execute_input": "2022-03-07T09:34:37.640723Z",
     "iopub.status.busy": "2022-03-07T09:34:37.640045Z",
     "iopub.status.idle": "2022-03-07T09:34:37.643544Z",
     "shell.execute_reply": "2022-03-07T09:34:37.644144Z",
     "shell.execute_reply.started": "2022-03-07T09:31:07.901416Z"
    },
    "papermill": {
     "duration": 0.118942,
     "end_time": "2022-03-07T09:34:37.644347",
     "exception": false,
     "start_time": "2022-03-07T09:34:37.525405",
     "status": "completed"
    },
    "tags": []
   },
   "outputs": [],
   "source": [
    "y = data_drop_col['Potability']"
   ]
  },
  {
   "cell_type": "code",
   "execution_count": 42,
   "id": "8ffcbe51",
   "metadata": {
    "execution": {
     "iopub.execute_input": "2022-03-07T09:34:37.863494Z",
     "iopub.status.busy": "2022-03-07T09:34:37.861557Z",
     "iopub.status.idle": "2022-03-07T09:34:37.867144Z",
     "shell.execute_reply": "2022-03-07T09:34:37.866408Z",
     "shell.execute_reply.started": "2022-03-07T09:31:10.587241Z"
    },
    "papermill": {
     "duration": 0.118574,
     "end_time": "2022-03-07T09:34:37.867331",
     "exception": false,
     "start_time": "2022-03-07T09:34:37.748757",
     "status": "completed"
    },
    "tags": []
   },
   "outputs": [],
   "source": [
    "x_drop_col = data_drop_col.drop(columns='Potability')"
   ]
  },
  {
   "cell_type": "code",
   "execution_count": 43,
   "id": "3d0cf580",
   "metadata": {
    "execution": {
     "iopub.execute_input": "2022-03-07T09:34:38.081010Z",
     "iopub.status.busy": "2022-03-07T09:34:38.080201Z",
     "iopub.status.idle": "2022-03-07T09:34:38.086331Z",
     "shell.execute_reply": "2022-03-07T09:34:38.085632Z",
     "shell.execute_reply.started": "2022-03-07T09:31:14.564828Z"
    },
    "papermill": {
     "duration": 0.117451,
     "end_time": "2022-03-07T09:34:38.086475",
     "exception": false,
     "start_time": "2022-03-07T09:34:37.969024",
     "status": "completed"
    },
    "tags": []
   },
   "outputs": [],
   "source": [
    "train_x, test_x, train_y, test_y  = train_test_split(x_drop_col, y, test_size=0.2, random_state=42)"
   ]
  },
  {
   "cell_type": "code",
   "execution_count": 44,
   "id": "c2983726",
   "metadata": {
    "execution": {
     "iopub.execute_input": "2022-03-07T09:34:38.289120Z",
     "iopub.status.busy": "2022-03-07T09:34:38.288330Z",
     "iopub.status.idle": "2022-03-07T09:34:38.291378Z",
     "shell.execute_reply": "2022-03-07T09:34:38.290769Z",
     "shell.execute_reply.started": "2022-03-07T09:31:18.752986Z"
    },
    "papermill": {
     "duration": 0.103545,
     "end_time": "2022-03-07T09:34:38.291513",
     "exception": false,
     "start_time": "2022-03-07T09:34:38.187968",
     "status": "completed"
    },
    "tags": []
   },
   "outputs": [],
   "source": [
    "from sklearn.tree import DecisionTreeClassifier"
   ]
  },
  {
   "cell_type": "code",
   "execution_count": 45,
   "id": "7046b276",
   "metadata": {
    "execution": {
     "iopub.execute_input": "2022-03-07T09:34:38.501121Z",
     "iopub.status.busy": "2022-03-07T09:34:38.500359Z",
     "iopub.status.idle": "2022-03-07T09:34:38.502617Z",
     "shell.execute_reply": "2022-03-07T09:34:38.501999Z",
     "shell.execute_reply.started": "2022-03-07T09:31:20.917148Z"
    },
    "papermill": {
     "duration": 0.112517,
     "end_time": "2022-03-07T09:34:38.502769",
     "exception": false,
     "start_time": "2022-03-07T09:34:38.390252",
     "status": "completed"
    },
    "tags": []
   },
   "outputs": [],
   "source": [
    "model_drop_col = DecisionTreeClassifier(random_state=0)"
   ]
  },
  {
   "cell_type": "code",
   "execution_count": 46,
   "id": "6c2d569f",
   "metadata": {
    "execution": {
     "iopub.execute_input": "2022-03-07T09:34:38.736931Z",
     "iopub.status.busy": "2022-03-07T09:34:38.736109Z",
     "iopub.status.idle": "2022-03-07T09:34:38.769236Z",
     "shell.execute_reply": "2022-03-07T09:34:38.768440Z",
     "shell.execute_reply.started": "2022-03-07T09:31:23.264599Z"
    },
    "papermill": {
     "duration": 0.150892,
     "end_time": "2022-03-07T09:34:38.769400",
     "exception": false,
     "start_time": "2022-03-07T09:34:38.618508",
     "status": "completed"
    },
    "tags": []
   },
   "outputs": [
    {
     "data": {
      "text/plain": [
       "DecisionTreeClassifier(random_state=0)"
      ]
     },
     "execution_count": 46,
     "metadata": {},
     "output_type": "execute_result"
    }
   ],
   "source": [
    "model_drop_col.fit(train_x, train_y)"
   ]
  },
  {
   "cell_type": "code",
   "execution_count": 47,
   "id": "1edbf6d7",
   "metadata": {
    "execution": {
     "iopub.execute_input": "2022-03-07T09:34:38.992768Z",
     "iopub.status.busy": "2022-03-07T09:34:38.992024Z",
     "iopub.status.idle": "2022-03-07T09:34:38.993501Z",
     "shell.execute_reply": "2022-03-07T09:34:38.994070Z",
     "shell.execute_reply.started": "2022-03-07T09:31:29.464458Z"
    },
    "papermill": {
     "duration": 0.112101,
     "end_time": "2022-03-07T09:34:38.994265",
     "exception": false,
     "start_time": "2022-03-07T09:34:38.882164",
     "status": "completed"
    },
    "tags": []
   },
   "outputs": [],
   "source": [
    "predictions = model_drop_col.predict(test_x)"
   ]
  },
  {
   "cell_type": "code",
   "execution_count": 48,
   "id": "ab5d0d67",
   "metadata": {
    "execution": {
     "iopub.execute_input": "2022-03-07T09:34:39.211479Z",
     "iopub.status.busy": "2022-03-07T09:34:39.210767Z",
     "iopub.status.idle": "2022-03-07T09:34:39.214937Z",
     "shell.execute_reply": "2022-03-07T09:34:39.214250Z",
     "shell.execute_reply.started": "2022-03-07T09:32:21.984489Z"
    },
    "papermill": {
     "duration": 0.112973,
     "end_time": "2022-03-07T09:34:39.215102",
     "exception": false,
     "start_time": "2022-03-07T09:34:39.102129",
     "status": "completed"
    },
    "tags": []
   },
   "outputs": [],
   "source": [
    "metric_matrix2 = confusion_matrix(test_y, predictions)"
   ]
  },
  {
   "cell_type": "code",
   "execution_count": 49,
   "id": "7d3ba625",
   "metadata": {
    "execution": {
     "iopub.execute_input": "2022-03-07T09:34:39.475923Z",
     "iopub.status.busy": "2022-03-07T09:34:39.475146Z",
     "iopub.status.idle": "2022-03-07T09:34:39.647722Z",
     "shell.execute_reply": "2022-03-07T09:34:39.646991Z",
     "shell.execute_reply.started": "2022-03-07T09:32:29.584545Z"
    },
    "papermill": {
     "duration": 0.328878,
     "end_time": "2022-03-07T09:34:39.647896",
     "exception": false,
     "start_time": "2022-03-07T09:34:39.319018",
     "status": "completed"
    },
    "tags": []
   },
   "outputs": [
    {
     "data": {
      "text/plain": [
       "<AxesSubplot:xlabel='Predicted', ylabel='Actual'>"
      ]
     },
     "execution_count": 49,
     "metadata": {},
     "output_type": "execute_result"
    },
    {
     "data": {
      "image/png": "[encoded data removed]",
      "text/plain": [
       "<Figure size 432x288 with 2 Axes>"
      ]
     },
     "metadata": {
      "needs_background": "light"
     },
     "output_type": "display_data"
    }
   ],
   "source": [
    "df_cm = pd.DataFrame(metric_matrix2, columns=np.unique(test_y), index = np.unique(test_y))\n",
    "df_cm.index.name = 'Actual'\n",
    "df_cm.columns.name = 'Predicted'\n",
    "sns.heatmap(df_cm, cmap=\"Blues\", annot=True, fmt='g')"
   ]
  },
  {
   "cell_type": "code",
   "execution_count": null,
   "id": "fbd6176c",
   "metadata": {
    "papermill": {
     "duration": 0.103525,
     "end_time": "2022-03-07T09:34:39.853668",
     "exception": false,
     "start_time": "2022-03-07T09:34:39.750143",
     "status": "completed"
    },
    "tags": []
   },
   "outputs": [],
   "source": []
  },
  {
   "cell_type": "markdown",
   "id": "4bb254ac",
   "metadata": {
    "papermill": {
     "duration": 0.101744,
     "end_time": "2022-03-07T09:34:40.057083",
     "exception": false,
     "start_time": "2022-03-07T09:34:39.955339",
     "status": "completed"
    },
    "tags": []
   },
   "source": [
    "### Well, It seems the columns that I dropped were very important especially the PH levels I thought"
   ]
  },
  {
   "cell_type": "code",
   "execution_count": null,
   "id": "cda7706e",
   "metadata": {
    "papermill": {
     "duration": 0.098683,
     "end_time": "2022-03-07T09:34:40.260042",
     "exception": false,
     "start_time": "2022-03-07T09:34:40.161359",
     "status": "completed"
    },
    "tags": []
   },
   "outputs": [],
   "source": []
  },
  {
   "cell_type": "code",
   "execution_count": null,
   "id": "66b3a19b",
   "metadata": {
    "papermill": {
     "duration": 0.102363,
     "end_time": "2022-03-07T09:34:40.462993",
     "exception": false,
     "start_time": "2022-03-07T09:34:40.360630",
     "status": "completed"
    },
    "tags": []
   },
   "outputs": [],
   "source": []
  },
  {
   "cell_type": "code",
   "execution_count": null,
   "id": "83a19dd4",
   "metadata": {
    "papermill": {
     "duration": 0.099314,
     "end_time": "2022-03-07T09:34:40.661310",
     "exception": false,
     "start_time": "2022-03-07T09:34:40.561996",
     "status": "completed"
    },
    "tags": []
   },
   "outputs": [],
   "source": []
  },
  {
   "cell_type": "markdown",
   "id": "cfd79588",
   "metadata": {
    "papermill": {
     "duration": 0.103372,
     "end_time": "2022-03-07T09:34:40.868977",
     "exception": false,
     "start_time": "2022-03-07T09:34:40.765605",
     "status": "completed"
    },
    "tags": []
   },
   "source": [
    "### Try Linear SVC"
   ]
  },
  {
   "cell_type": "code",
   "execution_count": 50,
   "id": "f78ed45d",
   "metadata": {
    "execution": {
     "iopub.execute_input": "2022-03-07T09:34:41.074819Z",
     "iopub.status.busy": "2022-03-07T09:34:41.074108Z",
     "iopub.status.idle": "2022-03-07T09:34:41.078826Z",
     "shell.execute_reply": "2022-03-07T09:34:41.078098Z"
    },
    "papermill": {
     "duration": 0.109889,
     "end_time": "2022-03-07T09:34:41.078981",
     "exception": false,
     "start_time": "2022-03-07T09:34:40.969092",
     "status": "completed"
    },
    "tags": []
   },
   "outputs": [],
   "source": [
    "from sklearn.svm import LinearSVC\n",
    "l_svc = LinearSVC(random_state=0, tol=1e-02)"
   ]
  },
  {
   "cell_type": "code",
   "execution_count": 51,
   "id": "6a953b00",
   "metadata": {
    "execution": {
     "iopub.execute_input": "2022-03-07T09:34:41.288368Z",
     "iopub.status.busy": "2022-03-07T09:34:41.287451Z",
     "iopub.status.idle": "2022-03-07T09:34:41.388073Z",
     "shell.execute_reply": "2022-03-07T09:34:41.388571Z"
    },
    "papermill": {
     "duration": 0.206518,
     "end_time": "2022-03-07T09:34:41.388746",
     "exception": false,
     "start_time": "2022-03-07T09:34:41.182228",
     "status": "completed"
    },
    "tags": []
   },
   "outputs": [
    {
     "data": {
      "text/plain": [
       "LinearSVC(random_state=0, tol=0.01)"
      ]
     },
     "execution_count": 51,
     "metadata": {},
     "output_type": "execute_result"
    }
   ],
   "source": [
    "l_svc.fit(train_x_scl, train_y)"
   ]
  },
  {
   "cell_type": "code",
   "execution_count": 52,
   "id": "1447388f",
   "metadata": {
    "execution": {
     "iopub.execute_input": "2022-03-07T09:34:41.599537Z",
     "iopub.status.busy": "2022-03-07T09:34:41.598959Z",
     "iopub.status.idle": "2022-03-07T09:34:41.601881Z",
     "shell.execute_reply": "2022-03-07T09:34:41.602306Z",
     "shell.execute_reply.started": "2022-03-06T10:00:39.520561Z"
    },
    "papermill": {
     "duration": 0.112523,
     "end_time": "2022-03-07T09:34:41.602481",
     "exception": false,
     "start_time": "2022-03-07T09:34:41.489958",
     "status": "completed"
    },
    "tags": []
   },
   "outputs": [],
   "source": [
    "svc_pred = l_svc.predict(test_x_scl)"
   ]
  },
  {
   "cell_type": "code",
   "execution_count": 53,
   "id": "6c6f4685",
   "metadata": {
    "execution": {
     "iopub.execute_input": "2022-03-07T09:34:41.746940Z",
     "iopub.status.busy": "2022-03-07T09:34:41.746355Z",
     "iopub.status.idle": "2022-03-07T09:34:41.751826Z",
     "shell.execute_reply": "2022-03-07T09:34:41.751192Z",
     "shell.execute_reply.started": "2022-03-06T10:00:42.082335Z"
    },
    "papermill": {
     "duration": 0.079624,
     "end_time": "2022-03-07T09:34:41.751972",
     "exception": false,
     "start_time": "2022-03-07T09:34:41.672348",
     "status": "completed"
    },
    "tags": []
   },
   "outputs": [
    {
     "data": {
      "text/plain": [
       "array([0, 0, 0, 0, 0, 0, 0, 0, 0, 0, 0, 0, 0, 0, 0, 0, 0, 0, 0, 0, 0, 0,\n",
       "       0, 0, 0, 0, 0, 0, 0, 0, 0, 0, 0, 0, 0, 0, 0, 0, 0, 0, 0, 0, 0, 0,\n",
       "       0, 0, 0, 0, 0, 0, 0, 0, 0, 0, 0, 0, 0, 0, 0, 0, 0, 0, 0, 0, 0, 0,\n",
       "       0, 0, 0, 0, 0, 0, 0, 0, 0, 0, 0, 0, 0, 0, 0, 0, 0, 0, 0, 0, 0, 0,\n",
       "       0, 0, 0, 0, 0, 0, 0, 0, 0, 0, 0, 0, 0, 0, 0, 0, 0, 0, 0, 0, 0, 0,\n",
       "       0, 0, 0, 0, 0, 0, 0, 0, 0, 0, 0, 0, 0, 0, 0, 0, 0, 0, 0, 0, 0, 0,\n",
       "       0, 0, 0, 0, 0, 0, 0, 0, 0, 0, 0, 0, 0, 0, 0, 0, 0, 0, 0, 0, 0, 0,\n",
       "       0, 0, 0, 0, 0, 0, 0, 0, 0, 0, 0, 0, 0, 0, 0, 0, 0, 0, 0, 0, 0, 0,\n",
       "       0, 0, 0, 0, 0, 0, 0, 0, 0, 0, 0, 0, 0, 0, 0, 0, 0, 0, 0, 0, 0, 0,\n",
       "       0, 0, 0, 0, 0, 0, 0, 0, 0, 0, 0, 0, 0, 0, 0, 0, 0, 0, 0, 0, 0, 0,\n",
       "       0, 0, 0, 0, 0, 0, 0, 0, 0, 0, 0, 0, 0, 0, 0, 0, 0, 0, 0, 0, 0, 0,\n",
       "       0, 0, 0, 0, 0, 0, 0, 0, 0, 0, 0, 0, 0, 0, 0, 0, 0, 0, 0, 0, 0, 0,\n",
       "       0, 0, 0, 0, 0, 0, 0, 0, 0, 0, 0, 0, 0, 0, 0, 0, 0, 0, 0, 0, 0, 0,\n",
       "       0, 0, 0, 0, 0, 0, 0, 0, 0, 0, 0, 0, 0, 0, 0, 0, 0, 0, 0, 0, 0, 0,\n",
       "       0, 0, 0, 0, 0, 0, 0, 0, 0, 0, 0, 0, 0, 0, 0, 0, 0, 0, 0, 0, 0, 0,\n",
       "       0, 0, 0, 0, 0, 0, 0, 0, 0, 0, 0, 0, 0, 0, 0, 0, 0, 0, 0, 0, 0, 0,\n",
       "       0, 0, 0, 0, 0, 0, 0, 0, 0, 0, 0, 0, 0, 0, 0, 0, 0, 0, 0, 0, 0, 0,\n",
       "       0, 0, 0, 0, 0, 0, 0, 0, 0, 0, 0, 0, 0, 0, 0, 0, 0, 0, 0, 0, 0, 0,\n",
       "       0, 0, 0, 0, 0, 0, 0, 0, 0, 0, 0, 0, 0, 0, 0, 0, 0, 0, 0, 0, 0, 0,\n",
       "       0, 0, 0, 0, 0, 0, 0, 0, 0, 0, 0, 0, 0, 0, 0, 0, 0, 0, 0, 0, 0, 0,\n",
       "       0, 0, 0, 0, 0, 0, 0, 0, 0, 0, 0, 0, 0, 0, 0, 0, 0, 0, 0, 0, 0, 0,\n",
       "       0, 0, 0, 0, 0, 0, 0, 0, 0, 0, 0, 0, 0, 0, 0, 0, 0, 0, 0, 0, 0, 0,\n",
       "       0, 0, 0, 0, 0, 0, 0, 0, 0, 0, 0, 0, 0, 0, 0, 0, 0, 0, 0, 0, 0, 0,\n",
       "       0, 0, 0, 0, 0, 0, 0, 0, 0, 0, 0, 0, 0, 0, 0, 0, 0, 0, 0, 0, 0, 0,\n",
       "       0, 0, 0, 0, 0, 0, 0, 0, 0, 0, 0, 0, 0, 0, 0, 0, 0, 0, 0, 0, 0, 0,\n",
       "       0, 0, 0, 0, 0, 0, 0, 0, 0, 0, 0, 0, 0, 0, 0, 0, 0, 0, 0, 0, 0, 0,\n",
       "       0, 0, 0, 0, 0, 0, 0, 0, 0, 0, 0, 0, 0, 0, 0, 0, 0, 0, 0, 0, 0, 0,\n",
       "       0, 0, 0, 0, 0, 0, 0, 0, 0, 0, 0, 0, 0, 0, 0, 0, 0, 0, 0, 0, 0, 0,\n",
       "       0, 0, 0, 0, 0, 0, 0, 0, 0, 0, 0, 0, 0, 0, 0, 0, 0, 0, 0, 0, 0, 0,\n",
       "       0, 0, 0, 0, 0, 0, 0, 0, 0, 0, 0, 0, 0, 0, 0, 0, 0, 0])"
      ]
     },
     "execution_count": 53,
     "metadata": {},
     "output_type": "execute_result"
    }
   ],
   "source": [
    "svc_pred"
   ]
  },
  {
   "cell_type": "code",
   "execution_count": null,
   "id": "da587ae8",
   "metadata": {
    "papermill": {
     "duration": 0.107226,
     "end_time": "2022-03-07T09:34:41.963573",
     "exception": false,
     "start_time": "2022-03-07T09:34:41.856347",
     "status": "completed"
    },
    "tags": []
   },
   "outputs": [],
   "source": []
  },
  {
   "cell_type": "code",
   "execution_count": null,
   "id": "ecfd8b7e",
   "metadata": {
    "papermill": {
     "duration": 0.124349,
     "end_time": "2022-03-07T09:34:42.198279",
     "exception": false,
     "start_time": "2022-03-07T09:34:42.073930",
     "status": "completed"
    },
    "tags": []
   },
   "outputs": [],
   "source": []
  },
  {
   "cell_type": "code",
   "execution_count": null,
   "id": "1065f92a",
   "metadata": {
    "papermill": {
     "duration": 0.108033,
     "end_time": "2022-03-07T09:34:42.419462",
     "exception": false,
     "start_time": "2022-03-07T09:34:42.311429",
     "status": "completed"
    },
    "tags": []
   },
   "outputs": [],
   "source": []
  },
  {
   "cell_type": "code",
   "execution_count": null,
   "id": "b611e691",
   "metadata": {
    "papermill": {
     "duration": 0.11297,
     "end_time": "2022-03-07T09:34:42.635350",
     "exception": false,
     "start_time": "2022-03-07T09:34:42.522380",
     "status": "completed"
    },
    "tags": []
   },
   "outputs": [],
   "source": []
  }
 ],
 "metadata": {
  "kernelspec": {
   "display_name": "Python 3",
   "language": "python",
   "name": "python3"
  },
  "language_info": {
   "codemirror_mode": {
    "name": "ipython",
    "version": 3
   },
   "file_extension": ".py",
   "mimetype": "text/x-python",
   "name": "python",
   "nbconvert_exporter": "python",
   "pygments_lexer": "ipython3",
   "version": "3.7.12"
  },
  "papermill": {
   "default_parameters": {},
   "duration": 31.724599,
   "end_time": "2022-03-07T09:34:43.959157",
   "environment_variables": {},
   "exception": null,
   "input_path": "__notebook__.ipynb",
   "output_path": "__notebook__.ipynb",
   "parameters": {},
   "start_time": "2022-03-07T09:34:12.234558",
   "version": "2.3.3"
  }
 },
 "nbformat": 4,
 "nbformat_minor": 5
}

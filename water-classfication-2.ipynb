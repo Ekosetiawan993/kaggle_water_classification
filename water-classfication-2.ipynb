{
 "cells": [
  {
   "cell_type": "code",
   "execution_count": 1,
   "id": "ccc9029b",
   "metadata": {
    "_cell_guid": "b1076dfc-b9ad-4769-8c92-a6c4dae69d19",
    "_uuid": "8f2839f25d086af736a60e9eeb907d3b93b6e0e5",
    "execution": {
     "iopub.execute_input": "2022-03-06T09:34:39.482907Z",
     "iopub.status.busy": "2022-03-06T09:34:39.481068Z",
     "iopub.status.idle": "2022-03-06T09:34:39.500116Z",
     "shell.execute_reply": "2022-03-06T09:34:39.500860Z",
     "shell.execute_reply.started": "2022-03-06T09:01:08.996443Z"
    },
    "papermill": {
     "duration": 0.075772,
     "end_time": "2022-03-06T09:34:39.501219",
     "exception": false,
     "start_time": "2022-03-06T09:34:39.425447",
     "status": "completed"
    },
    "tags": []
   },
   "outputs": [
    {
     "name": "stdout",
     "output_type": "stream",
     "text": [
      "/kaggle/input/water-potability/water_potability.csv\n"
     ]
    }
   ],
   "source": [
    "# This Python 3 environment comes with many helpful analytics libraries installed\n",
    "# It is defined by the kaggle/python Docker image: https://github.com/kaggle/docker-python\n",
    "# For example, here's several helpful packages to load\n",
    "\n",
    "import numpy as np # linear algebra\n",
    "import pandas as pd # data processing, CSV file I/O (e.g. pd.read_csv)\n",
    "\n",
    "# Input data files are available in the read-only \"../input/\" directory\n",
    "# For example, running this (by clicking run or pressing Shift+Enter) will list all files under the input directory\n",
    "\n",
    "import os\n",
    "for dirname, _, filenames in os.walk('/kaggle/input'):\n",
    "    for filename in filenames:\n",
    "        print(os.path.join(dirname, filename))\n",
    "\n",
    "# You can write up to 20GB to the current directory (/kaggle/working/) that gets preserved as output when you create a version using \"Save & Run All\" \n",
    "# You can also write temporary files to /kaggle/temp/, but they won't be saved outside of the current session"
   ]
  },
  {
   "cell_type": "code",
   "execution_count": 2,
   "id": "070d093e",
   "metadata": {
    "execution": {
     "iopub.execute_input": "2022-03-06T09:34:39.599715Z",
     "iopub.status.busy": "2022-03-06T09:34:39.599089Z",
     "iopub.status.idle": "2022-03-06T09:34:39.628911Z",
     "shell.execute_reply": "2022-03-06T09:34:39.629404Z",
     "shell.execute_reply.started": "2022-03-06T09:01:13.418539Z"
    },
    "papermill": {
     "duration": 0.078758,
     "end_time": "2022-03-06T09:34:39.629585",
     "exception": false,
     "start_time": "2022-03-06T09:34:39.550827",
     "status": "completed"
    },
    "tags": []
   },
   "outputs": [],
   "source": [
    "data = pd.read_csv('../input/water-potability/water_potability.csv')"
   ]
  },
  {
   "cell_type": "code",
   "execution_count": 3,
   "id": "004446c3",
   "metadata": {
    "execution": {
     "iopub.execute_input": "2022-03-06T09:34:39.725093Z",
     "iopub.status.busy": "2022-03-06T09:34:39.724419Z",
     "iopub.status.idle": "2022-03-06T09:34:39.731627Z",
     "shell.execute_reply": "2022-03-06T09:34:39.731114Z",
     "shell.execute_reply.started": "2022-03-06T09:01:18.221569Z"
    },
    "papermill": {
     "duration": 0.056433,
     "end_time": "2022-03-06T09:34:39.731764",
     "exception": false,
     "start_time": "2022-03-06T09:34:39.675331",
     "status": "completed"
    },
    "tags": []
   },
   "outputs": [
    {
     "data": {
      "text/plain": [
       "(3276, 10)"
      ]
     },
     "execution_count": 3,
     "metadata": {},
     "output_type": "execute_result"
    }
   ],
   "source": [
    "data.shape"
   ]
  },
  {
   "cell_type": "code",
   "execution_count": 4,
   "id": "6d62e1aa",
   "metadata": {
    "execution": {
     "iopub.execute_input": "2022-03-06T09:34:39.826512Z",
     "iopub.status.busy": "2022-03-06T09:34:39.825916Z",
     "iopub.status.idle": "2022-03-06T09:34:39.848055Z",
     "shell.execute_reply": "2022-03-06T09:34:39.847469Z",
     "shell.execute_reply.started": "2022-03-06T09:01:21.979357Z"
    },
    "papermill": {
     "duration": 0.070737,
     "end_time": "2022-03-06T09:34:39.848200",
     "exception": false,
     "start_time": "2022-03-06T09:34:39.777463",
     "status": "completed"
    },
    "tags": []
   },
   "outputs": [
    {
     "data": {
      "text/html": [
       "<div>\n",
       "<style scoped>\n",
       "    .dataframe tbody tr th:only-of-type {\n",
       "        vertical-align: middle;\n",
       "    }\n",
       "\n",
       "    .dataframe tbody tr th {\n",
       "        vertical-align: top;\n",
       "    }\n",
       "\n",
       "    .dataframe thead th {\n",
       "        text-align: right;\n",
       "    }\n",
       "</style>\n",
       "<table border=\"1\" class=\"dataframe\">\n",
       "  <thead>\n",
       "    <tr style=\"text-align: right;\">\n",
       "      <th></th>\n",
       "      <th>ph</th>\n",
       "      <th>Hardness</th>\n",
       "      <th>Solids</th>\n",
       "      <th>Chloramines</th>\n",
       "      <th>Sulfate</th>\n",
       "      <th>Conductivity</th>\n",
       "      <th>Organic_carbon</th>\n",
       "      <th>Trihalomethanes</th>\n",
       "      <th>Turbidity</th>\n",
       "      <th>Potability</th>\n",
       "    </tr>\n",
       "  </thead>\n",
       "  <tbody>\n",
       "    <tr>\n",
       "      <th>0</th>\n",
       "      <td>NaN</td>\n",
       "      <td>204.890455</td>\n",
       "      <td>20791.318981</td>\n",
       "      <td>7.300212</td>\n",
       "      <td>368.516441</td>\n",
       "      <td>564.308654</td>\n",
       "      <td>10.379783</td>\n",
       "      <td>86.990970</td>\n",
       "      <td>2.963135</td>\n",
       "      <td>0</td>\n",
       "    </tr>\n",
       "    <tr>\n",
       "      <th>1</th>\n",
       "      <td>3.716080</td>\n",
       "      <td>129.422921</td>\n",
       "      <td>18630.057858</td>\n",
       "      <td>6.635246</td>\n",
       "      <td>NaN</td>\n",
       "      <td>592.885359</td>\n",
       "      <td>15.180013</td>\n",
       "      <td>56.329076</td>\n",
       "      <td>4.500656</td>\n",
       "      <td>0</td>\n",
       "    </tr>\n",
       "    <tr>\n",
       "      <th>2</th>\n",
       "      <td>8.099124</td>\n",
       "      <td>224.236259</td>\n",
       "      <td>19909.541732</td>\n",
       "      <td>9.275884</td>\n",
       "      <td>NaN</td>\n",
       "      <td>418.606213</td>\n",
       "      <td>16.868637</td>\n",
       "      <td>66.420093</td>\n",
       "      <td>3.055934</td>\n",
       "      <td>0</td>\n",
       "    </tr>\n",
       "    <tr>\n",
       "      <th>3</th>\n",
       "      <td>8.316766</td>\n",
       "      <td>214.373394</td>\n",
       "      <td>22018.417441</td>\n",
       "      <td>8.059332</td>\n",
       "      <td>356.886136</td>\n",
       "      <td>363.266516</td>\n",
       "      <td>18.436524</td>\n",
       "      <td>100.341674</td>\n",
       "      <td>4.628771</td>\n",
       "      <td>0</td>\n",
       "    </tr>\n",
       "    <tr>\n",
       "      <th>4</th>\n",
       "      <td>9.092223</td>\n",
       "      <td>181.101509</td>\n",
       "      <td>17978.986339</td>\n",
       "      <td>6.546600</td>\n",
       "      <td>310.135738</td>\n",
       "      <td>398.410813</td>\n",
       "      <td>11.558279</td>\n",
       "      <td>31.997993</td>\n",
       "      <td>4.075075</td>\n",
       "      <td>0</td>\n",
       "    </tr>\n",
       "  </tbody>\n",
       "</table>\n",
       "</div>"
      ],
      "text/plain": [
       "         ph    Hardness        Solids  Chloramines     Sulfate  Conductivity  \\\n",
       "0       NaN  204.890455  20791.318981     7.300212  368.516441    564.308654   \n",
       "1  3.716080  129.422921  18630.057858     6.635246         NaN    592.885359   \n",
       "2  8.099124  224.236259  19909.541732     9.275884         NaN    418.606213   \n",
       "3  8.316766  214.373394  22018.417441     8.059332  356.886136    363.266516   \n",
       "4  9.092223  181.101509  17978.986339     6.546600  310.135738    398.410813   \n",
       "\n",
       "   Organic_carbon  Trihalomethanes  Turbidity  Potability  \n",
       "0       10.379783        86.990970   2.963135           0  \n",
       "1       15.180013        56.329076   4.500656           0  \n",
       "2       16.868637        66.420093   3.055934           0  \n",
       "3       18.436524       100.341674   4.628771           0  \n",
       "4       11.558279        31.997993   4.075075           0  "
      ]
     },
     "execution_count": 4,
     "metadata": {},
     "output_type": "execute_result"
    }
   ],
   "source": [
    "data.head()"
   ]
  },
  {
   "cell_type": "code",
   "execution_count": 5,
   "id": "1db0b86c",
   "metadata": {
    "execution": {
     "iopub.execute_input": "2022-03-06T09:34:39.949873Z",
     "iopub.status.busy": "2022-03-06T09:34:39.948809Z",
     "iopub.status.idle": "2022-03-06T09:34:39.971532Z",
     "shell.execute_reply": "2022-03-06T09:34:39.972055Z",
     "shell.execute_reply.started": "2022-03-06T09:01:25.220862Z"
    },
    "papermill": {
     "duration": 0.077666,
     "end_time": "2022-03-06T09:34:39.972383",
     "exception": false,
     "start_time": "2022-03-06T09:34:39.894717",
     "status": "completed"
    },
    "tags": []
   },
   "outputs": [
    {
     "name": "stdout",
     "output_type": "stream",
     "text": [
      "<class 'pandas.core.frame.DataFrame'>\n",
      "RangeIndex: 3276 entries, 0 to 3275\n",
      "Data columns (total 10 columns):\n",
      " #   Column           Non-Null Count  Dtype  \n",
      "---  ------           --------------  -----  \n",
      " 0   ph               2785 non-null   float64\n",
      " 1   Hardness         3276 non-null   float64\n",
      " 2   Solids           3276 non-null   float64\n",
      " 3   Chloramines      3276 non-null   float64\n",
      " 4   Sulfate          2495 non-null   float64\n",
      " 5   Conductivity     3276 non-null   float64\n",
      " 6   Organic_carbon   3276 non-null   float64\n",
      " 7   Trihalomethanes  3114 non-null   float64\n",
      " 8   Turbidity        3276 non-null   float64\n",
      " 9   Potability       3276 non-null   int64  \n",
      "dtypes: float64(9), int64(1)\n",
      "memory usage: 256.1 KB\n"
     ]
    }
   ],
   "source": [
    "data.info()"
   ]
  },
  {
   "cell_type": "code",
   "execution_count": 6,
   "id": "0e3c5aad",
   "metadata": {
    "execution": {
     "iopub.execute_input": "2022-03-06T09:34:40.072698Z",
     "iopub.status.busy": "2022-03-06T09:34:40.072050Z",
     "iopub.status.idle": "2022-03-06T09:34:40.079268Z",
     "shell.execute_reply": "2022-03-06T09:34:40.079775Z",
     "shell.execute_reply.started": "2022-03-06T09:01:36.702569Z"
    },
    "papermill": {
     "duration": 0.057696,
     "end_time": "2022-03-06T09:34:40.079941",
     "exception": false,
     "start_time": "2022-03-06T09:34:40.022245",
     "status": "completed"
    },
    "tags": []
   },
   "outputs": [
    {
     "data": {
      "text/plain": [
       "ph                 491\n",
       "Hardness             0\n",
       "Solids               0\n",
       "Chloramines          0\n",
       "Sulfate            781\n",
       "Conductivity         0\n",
       "Organic_carbon       0\n",
       "Trihalomethanes    162\n",
       "Turbidity            0\n",
       "Potability           0\n",
       "dtype: int64"
      ]
     },
     "execution_count": 6,
     "metadata": {},
     "output_type": "execute_result"
    }
   ],
   "source": [
    "data.isna().sum()"
   ]
  },
  {
   "cell_type": "code",
   "execution_count": null,
   "id": "b88bfae7",
   "metadata": {
    "papermill": {
     "duration": 0.047511,
     "end_time": "2022-03-06T09:34:40.174644",
     "exception": false,
     "start_time": "2022-03-06T09:34:40.127133",
     "status": "completed"
    },
    "tags": []
   },
   "outputs": [],
   "source": []
  },
  {
   "cell_type": "code",
   "execution_count": 7,
   "id": "f3c23fac",
   "metadata": {
    "execution": {
     "iopub.execute_input": "2022-03-06T09:34:40.272931Z",
     "iopub.status.busy": "2022-03-06T09:34:40.271986Z",
     "iopub.status.idle": "2022-03-06T09:34:40.275006Z",
     "shell.execute_reply": "2022-03-06T09:34:40.275525Z",
     "shell.execute_reply.started": "2022-03-06T09:07:15.569807Z"
    },
    "papermill": {
     "duration": 0.053317,
     "end_time": "2022-03-06T09:34:40.275702",
     "exception": false,
     "start_time": "2022-03-06T09:34:40.222385",
     "status": "completed"
    },
    "tags": []
   },
   "outputs": [],
   "source": [
    "y = data['Potability']"
   ]
  },
  {
   "cell_type": "code",
   "execution_count": 8,
   "id": "1b3b071d",
   "metadata": {
    "execution": {
     "iopub.execute_input": "2022-03-06T09:34:40.373957Z",
     "iopub.status.busy": "2022-03-06T09:34:40.373185Z",
     "iopub.status.idle": "2022-03-06T09:34:40.380558Z",
     "shell.execute_reply": "2022-03-06T09:34:40.380035Z",
     "shell.execute_reply.started": "2022-03-06T09:07:39.561042Z"
    },
    "papermill": {
     "duration": 0.057225,
     "end_time": "2022-03-06T09:34:40.380732",
     "exception": false,
     "start_time": "2022-03-06T09:34:40.323507",
     "status": "completed"
    },
    "tags": []
   },
   "outputs": [],
   "source": [
    "x = data.drop('Potability', axis=1)"
   ]
  },
  {
   "cell_type": "code",
   "execution_count": 9,
   "id": "74972f4a",
   "metadata": {
    "execution": {
     "iopub.execute_input": "2022-03-06T09:34:40.490103Z",
     "iopub.status.busy": "2022-03-06T09:34:40.489427Z",
     "iopub.status.idle": "2022-03-06T09:34:40.492149Z",
     "shell.execute_reply": "2022-03-06T09:34:40.492636Z",
     "shell.execute_reply.started": "2022-03-06T09:07:48.749940Z"
    },
    "papermill": {
     "duration": 0.064221,
     "end_time": "2022-03-06T09:34:40.492801",
     "exception": false,
     "start_time": "2022-03-06T09:34:40.428580",
     "status": "completed"
    },
    "tags": []
   },
   "outputs": [
    {
     "data": {
      "text/html": [
       "<div>\n",
       "<style scoped>\n",
       "    .dataframe tbody tr th:only-of-type {\n",
       "        vertical-align: middle;\n",
       "    }\n",
       "\n",
       "    .dataframe tbody tr th {\n",
       "        vertical-align: top;\n",
       "    }\n",
       "\n",
       "    .dataframe thead th {\n",
       "        text-align: right;\n",
       "    }\n",
       "</style>\n",
       "<table border=\"1\" class=\"dataframe\">\n",
       "  <thead>\n",
       "    <tr style=\"text-align: right;\">\n",
       "      <th></th>\n",
       "      <th>ph</th>\n",
       "      <th>Hardness</th>\n",
       "      <th>Solids</th>\n",
       "      <th>Chloramines</th>\n",
       "      <th>Sulfate</th>\n",
       "      <th>Conductivity</th>\n",
       "      <th>Organic_carbon</th>\n",
       "      <th>Trihalomethanes</th>\n",
       "      <th>Turbidity</th>\n",
       "    </tr>\n",
       "  </thead>\n",
       "  <tbody>\n",
       "    <tr>\n",
       "      <th>0</th>\n",
       "      <td>NaN</td>\n",
       "      <td>204.890455</td>\n",
       "      <td>20791.318981</td>\n",
       "      <td>7.300212</td>\n",
       "      <td>368.516441</td>\n",
       "      <td>564.308654</td>\n",
       "      <td>10.379783</td>\n",
       "      <td>86.990970</td>\n",
       "      <td>2.963135</td>\n",
       "    </tr>\n",
       "    <tr>\n",
       "      <th>1</th>\n",
       "      <td>3.716080</td>\n",
       "      <td>129.422921</td>\n",
       "      <td>18630.057858</td>\n",
       "      <td>6.635246</td>\n",
       "      <td>NaN</td>\n",
       "      <td>592.885359</td>\n",
       "      <td>15.180013</td>\n",
       "      <td>56.329076</td>\n",
       "      <td>4.500656</td>\n",
       "    </tr>\n",
       "    <tr>\n",
       "      <th>2</th>\n",
       "      <td>8.099124</td>\n",
       "      <td>224.236259</td>\n",
       "      <td>19909.541732</td>\n",
       "      <td>9.275884</td>\n",
       "      <td>NaN</td>\n",
       "      <td>418.606213</td>\n",
       "      <td>16.868637</td>\n",
       "      <td>66.420093</td>\n",
       "      <td>3.055934</td>\n",
       "    </tr>\n",
       "    <tr>\n",
       "      <th>3</th>\n",
       "      <td>8.316766</td>\n",
       "      <td>214.373394</td>\n",
       "      <td>22018.417441</td>\n",
       "      <td>8.059332</td>\n",
       "      <td>356.886136</td>\n",
       "      <td>363.266516</td>\n",
       "      <td>18.436524</td>\n",
       "      <td>100.341674</td>\n",
       "      <td>4.628771</td>\n",
       "    </tr>\n",
       "    <tr>\n",
       "      <th>4</th>\n",
       "      <td>9.092223</td>\n",
       "      <td>181.101509</td>\n",
       "      <td>17978.986339</td>\n",
       "      <td>6.546600</td>\n",
       "      <td>310.135738</td>\n",
       "      <td>398.410813</td>\n",
       "      <td>11.558279</td>\n",
       "      <td>31.997993</td>\n",
       "      <td>4.075075</td>\n",
       "    </tr>\n",
       "  </tbody>\n",
       "</table>\n",
       "</div>"
      ],
      "text/plain": [
       "         ph    Hardness        Solids  Chloramines     Sulfate  Conductivity  \\\n",
       "0       NaN  204.890455  20791.318981     7.300212  368.516441    564.308654   \n",
       "1  3.716080  129.422921  18630.057858     6.635246         NaN    592.885359   \n",
       "2  8.099124  224.236259  19909.541732     9.275884         NaN    418.606213   \n",
       "3  8.316766  214.373394  22018.417441     8.059332  356.886136    363.266516   \n",
       "4  9.092223  181.101509  17978.986339     6.546600  310.135738    398.410813   \n",
       "\n",
       "   Organic_carbon  Trihalomethanes  Turbidity  \n",
       "0       10.379783        86.990970   2.963135  \n",
       "1       15.180013        56.329076   4.500656  \n",
       "2       16.868637        66.420093   3.055934  \n",
       "3       18.436524       100.341674   4.628771  \n",
       "4       11.558279        31.997993   4.075075  "
      ]
     },
     "execution_count": 9,
     "metadata": {},
     "output_type": "execute_result"
    }
   ],
   "source": [
    "x.head()"
   ]
  },
  {
   "cell_type": "markdown",
   "id": "a0b78f49",
   "metadata": {
    "papermill": {
     "duration": 0.047184,
     "end_time": "2022-03-06T09:34:40.587551",
     "exception": false,
     "start_time": "2022-03-06T09:34:40.540367",
     "status": "completed"
    },
    "tags": []
   },
   "source": [
    "### This is my second approach\n",
    "#### I will try to fill the null value using the column's median and without scaling proccess, the data will used directly for the DTC model"
   ]
  },
  {
   "cell_type": "code",
   "execution_count": 10,
   "id": "cb11ec5d",
   "metadata": {
    "execution": {
     "iopub.execute_input": "2022-03-06T09:34:40.685975Z",
     "iopub.status.busy": "2022-03-06T09:34:40.685334Z",
     "iopub.status.idle": "2022-03-06T09:34:41.998384Z",
     "shell.execute_reply": "2022-03-06T09:34:41.997796Z",
     "shell.execute_reply.started": "2022-03-06T09:05:07.170373Z"
    },
    "papermill": {
     "duration": 1.363255,
     "end_time": "2022-03-06T09:34:41.998523",
     "exception": false,
     "start_time": "2022-03-06T09:34:40.635268",
     "status": "completed"
    },
    "tags": []
   },
   "outputs": [],
   "source": [
    "from sklearn.impute import SimpleImputer"
   ]
  },
  {
   "cell_type": "code",
   "execution_count": 11,
   "id": "101b6176",
   "metadata": {
    "execution": {
     "iopub.execute_input": "2022-03-06T09:34:42.102101Z",
     "iopub.status.busy": "2022-03-06T09:34:42.101448Z",
     "iopub.status.idle": "2022-03-06T09:34:42.103332Z",
     "shell.execute_reply": "2022-03-06T09:34:42.103900Z",
     "shell.execute_reply.started": "2022-03-06T09:06:00.058814Z"
    },
    "papermill": {
     "duration": 0.054607,
     "end_time": "2022-03-06T09:34:42.104069",
     "exception": false,
     "start_time": "2022-03-06T09:34:42.049462",
     "status": "completed"
    },
    "tags": []
   },
   "outputs": [],
   "source": [
    "imp = SimpleImputer(strategy='median')"
   ]
  },
  {
   "cell_type": "code",
   "execution_count": 12,
   "id": "3ea10678",
   "metadata": {
    "execution": {
     "iopub.execute_input": "2022-03-06T09:34:42.203476Z",
     "iopub.status.busy": "2022-03-06T09:34:42.202791Z",
     "iopub.status.idle": "2022-03-06T09:34:42.217136Z",
     "shell.execute_reply": "2022-03-06T09:34:42.217717Z",
     "shell.execute_reply.started": "2022-03-06T09:08:06.830126Z"
    },
    "papermill": {
     "duration": 0.065962,
     "end_time": "2022-03-06T09:34:42.217903",
     "exception": false,
     "start_time": "2022-03-06T09:34:42.151941",
     "status": "completed"
    },
    "tags": []
   },
   "outputs": [
    {
     "data": {
      "text/plain": [
       "SimpleImputer(strategy='median')"
      ]
     },
     "execution_count": 12,
     "metadata": {},
     "output_type": "execute_result"
    }
   ],
   "source": [
    "imp.fit(x)"
   ]
  },
  {
   "cell_type": "code",
   "execution_count": 13,
   "id": "21061e55",
   "metadata": {
    "execution": {
     "iopub.execute_input": "2022-03-06T09:34:42.319747Z",
     "iopub.status.busy": "2022-03-06T09:34:42.319095Z",
     "iopub.status.idle": "2022-03-06T09:34:42.325008Z",
     "shell.execute_reply": "2022-03-06T09:34:42.325571Z",
     "shell.execute_reply.started": "2022-03-06T09:08:27.268773Z"
    },
    "papermill": {
     "duration": 0.05762,
     "end_time": "2022-03-06T09:34:42.325760",
     "exception": false,
     "start_time": "2022-03-06T09:34:42.268140",
     "status": "completed"
    },
    "tags": []
   },
   "outputs": [],
   "source": [
    "x_filled = imp.transform(x)"
   ]
  },
  {
   "cell_type": "code",
   "execution_count": 14,
   "id": "3a53e4bf",
   "metadata": {
    "execution": {
     "iopub.execute_input": "2022-03-06T09:34:42.428014Z",
     "iopub.status.busy": "2022-03-06T09:34:42.427334Z",
     "iopub.status.idle": "2022-03-06T09:34:42.429853Z",
     "shell.execute_reply": "2022-03-06T09:34:42.430323Z",
     "shell.execute_reply.started": "2022-03-06T09:08:47.099875Z"
    },
    "papermill": {
     "duration": 0.056443,
     "end_time": "2022-03-06T09:34:42.430485",
     "exception": false,
     "start_time": "2022-03-06T09:34:42.374042",
     "status": "completed"
    },
    "tags": []
   },
   "outputs": [
    {
     "data": {
      "text/plain": [
       "array([7.03675210e+00, 2.04890455e+02, 2.07913190e+04, 7.30021187e+00,\n",
       "       3.68516441e+02, 5.64308654e+02, 1.03797831e+01, 8.69909705e+01,\n",
       "       2.96313538e+00])"
      ]
     },
     "execution_count": 14,
     "metadata": {},
     "output_type": "execute_result"
    }
   ],
   "source": [
    "x_filled[0]"
   ]
  },
  {
   "cell_type": "code",
   "execution_count": null,
   "id": "9a2c69f5",
   "metadata": {
    "papermill": {
     "duration": 0.048432,
     "end_time": "2022-03-06T09:34:42.527541",
     "exception": false,
     "start_time": "2022-03-06T09:34:42.479109",
     "status": "completed"
    },
    "tags": []
   },
   "outputs": [],
   "source": []
  },
  {
   "cell_type": "markdown",
   "id": "93bed882",
   "metadata": {
    "papermill": {
     "duration": 0.04849,
     "end_time": "2022-03-06T09:34:42.624724",
     "exception": false,
     "start_time": "2022-03-06T09:34:42.576234",
     "status": "completed"
    },
    "tags": []
   },
   "source": [
    "#### Split the data"
   ]
  },
  {
   "cell_type": "code",
   "execution_count": 15,
   "id": "aae8ed57",
   "metadata": {
    "execution": {
     "iopub.execute_input": "2022-03-06T09:34:42.726897Z",
     "iopub.status.busy": "2022-03-06T09:34:42.726269Z",
     "iopub.status.idle": "2022-03-06T09:34:42.729859Z",
     "shell.execute_reply": "2022-03-06T09:34:42.730348Z",
     "shell.execute_reply.started": "2022-03-06T09:10:27.506769Z"
    },
    "papermill": {
     "duration": 0.057362,
     "end_time": "2022-03-06T09:34:42.730516",
     "exception": false,
     "start_time": "2022-03-06T09:34:42.673154",
     "status": "completed"
    },
    "tags": []
   },
   "outputs": [],
   "source": [
    "from sklearn.model_selection import train_test_split"
   ]
  },
  {
   "cell_type": "code",
   "execution_count": 16,
   "id": "9786950a",
   "metadata": {
    "execution": {
     "iopub.execute_input": "2022-03-06T09:34:42.833276Z",
     "iopub.status.busy": "2022-03-06T09:34:42.832493Z",
     "iopub.status.idle": "2022-03-06T09:34:42.837946Z",
     "shell.execute_reply": "2022-03-06T09:34:42.838454Z",
     "shell.execute_reply.started": "2022-03-06T09:10:45.227405Z"
    },
    "papermill": {
     "duration": 0.058135,
     "end_time": "2022-03-06T09:34:42.838640",
     "exception": false,
     "start_time": "2022-03-06T09:34:42.780505",
     "status": "completed"
    },
    "tags": []
   },
   "outputs": [],
   "source": [
    "train_x, test_x, train_y, test_y  = train_test_split(x_filled, y, test_size=0.2, random_state=42)"
   ]
  },
  {
   "cell_type": "code",
   "execution_count": 17,
   "id": "379786df",
   "metadata": {
    "execution": {
     "iopub.execute_input": "2022-03-06T09:34:42.940790Z",
     "iopub.status.busy": "2022-03-06T09:34:42.940104Z",
     "iopub.status.idle": "2022-03-06T09:34:42.944687Z",
     "shell.execute_reply": "2022-03-06T09:34:42.945271Z",
     "shell.execute_reply.started": "2022-03-06T09:11:03.199953Z"
    },
    "papermill": {
     "duration": 0.056777,
     "end_time": "2022-03-06T09:34:42.945446",
     "exception": false,
     "start_time": "2022-03-06T09:34:42.888669",
     "status": "completed"
    },
    "tags": []
   },
   "outputs": [
    {
     "data": {
      "text/plain": [
       "(2620, 9)"
      ]
     },
     "execution_count": 17,
     "metadata": {},
     "output_type": "execute_result"
    }
   ],
   "source": [
    "train_x.shape"
   ]
  },
  {
   "cell_type": "code",
   "execution_count": 18,
   "id": "10d79053",
   "metadata": {
    "execution": {
     "iopub.execute_input": "2022-03-06T09:34:43.047864Z",
     "iopub.status.busy": "2022-03-06T09:34:43.046865Z",
     "iopub.status.idle": "2022-03-06T09:34:43.051770Z",
     "shell.execute_reply": "2022-03-06T09:34:43.052456Z",
     "shell.execute_reply.started": "2022-03-06T09:11:23.990408Z"
    },
    "papermill": {
     "duration": 0.058149,
     "end_time": "2022-03-06T09:34:43.052667",
     "exception": false,
     "start_time": "2022-03-06T09:34:42.994518",
     "status": "completed"
    },
    "tags": []
   },
   "outputs": [
    {
     "data": {
      "text/plain": [
       "(656, 9)"
      ]
     },
     "execution_count": 18,
     "metadata": {},
     "output_type": "execute_result"
    }
   ],
   "source": [
    "test_x.shape"
   ]
  },
  {
   "cell_type": "markdown",
   "id": "4f80ae83",
   "metadata": {
    "papermill": {
     "duration": 0.049008,
     "end_time": "2022-03-06T09:34:43.152831",
     "exception": false,
     "start_time": "2022-03-06T09:34:43.103823",
     "status": "completed"
    },
    "tags": []
   },
   "source": [
    "### Models"
   ]
  },
  {
   "cell_type": "code",
   "execution_count": 19,
   "id": "4ee54db3",
   "metadata": {
    "execution": {
     "iopub.execute_input": "2022-03-06T09:34:43.254859Z",
     "iopub.status.busy": "2022-03-06T09:34:43.254104Z",
     "iopub.status.idle": "2022-03-06T09:34:43.286480Z",
     "shell.execute_reply": "2022-03-06T09:34:43.287022Z",
     "shell.execute_reply.started": "2022-03-06T09:09:27.068883Z"
    },
    "papermill": {
     "duration": 0.084878,
     "end_time": "2022-03-06T09:34:43.287193",
     "exception": false,
     "start_time": "2022-03-06T09:34:43.202315",
     "status": "completed"
    },
    "tags": []
   },
   "outputs": [],
   "source": [
    "from sklearn.tree import DecisionTreeClassifier"
   ]
  },
  {
   "cell_type": "code",
   "execution_count": 20,
   "id": "69d11692",
   "metadata": {
    "execution": {
     "iopub.execute_input": "2022-03-06T09:34:43.390910Z",
     "iopub.status.busy": "2022-03-06T09:34:43.390188Z",
     "iopub.status.idle": "2022-03-06T09:34:43.393513Z",
     "shell.execute_reply": "2022-03-06T09:34:43.394063Z",
     "shell.execute_reply.started": "2022-03-06T09:11:46.983336Z"
    },
    "papermill": {
     "duration": 0.056036,
     "end_time": "2022-03-06T09:34:43.394225",
     "exception": false,
     "start_time": "2022-03-06T09:34:43.338189",
     "status": "completed"
    },
    "tags": []
   },
   "outputs": [],
   "source": [
    "dtc = DecisionTreeClassifier(random_state=0)"
   ]
  },
  {
   "cell_type": "code",
   "execution_count": 21,
   "id": "9da4bbef",
   "metadata": {
    "execution": {
     "iopub.execute_input": "2022-03-06T09:34:43.497147Z",
     "iopub.status.busy": "2022-03-06T09:34:43.496453Z",
     "iopub.status.idle": "2022-03-06T09:34:43.535501Z",
     "shell.execute_reply": "2022-03-06T09:34:43.536080Z",
     "shell.execute_reply.started": "2022-03-06T09:12:34.034036Z"
    },
    "papermill": {
     "duration": 0.091771,
     "end_time": "2022-03-06T09:34:43.536248",
     "exception": false,
     "start_time": "2022-03-06T09:34:43.444477",
     "status": "completed"
    },
    "tags": []
   },
   "outputs": [
    {
     "data": {
      "text/plain": [
       "DecisionTreeClassifier(random_state=0)"
      ]
     },
     "execution_count": 21,
     "metadata": {},
     "output_type": "execute_result"
    }
   ],
   "source": [
    "dtc.fit(train_x, train_y)"
   ]
  },
  {
   "cell_type": "code",
   "execution_count": null,
   "id": "ee8c33c7",
   "metadata": {
    "papermill": {
     "duration": 0.050978,
     "end_time": "2022-03-06T09:34:43.637808",
     "exception": false,
     "start_time": "2022-03-06T09:34:43.586830",
     "status": "completed"
    },
    "tags": []
   },
   "outputs": [],
   "source": []
  },
  {
   "cell_type": "markdown",
   "id": "ed41c6b3",
   "metadata": {
    "papermill": {
     "duration": 0.04968,
     "end_time": "2022-03-06T09:34:43.738000",
     "exception": false,
     "start_time": "2022-03-06T09:34:43.688320",
     "status": "completed"
    },
    "tags": []
   },
   "source": [
    "### Evaluation"
   ]
  },
  {
   "cell_type": "code",
   "execution_count": 22,
   "id": "54254dc4",
   "metadata": {
    "execution": {
     "iopub.execute_input": "2022-03-06T09:34:43.841737Z",
     "iopub.status.busy": "2022-03-06T09:34:43.841023Z",
     "iopub.status.idle": "2022-03-06T09:34:43.844999Z",
     "shell.execute_reply": "2022-03-06T09:34:43.845534Z",
     "shell.execute_reply.started": "2022-03-06T09:13:07.998964Z"
    },
    "papermill": {
     "duration": 0.057872,
     "end_time": "2022-03-06T09:34:43.845731",
     "exception": false,
     "start_time": "2022-03-06T09:34:43.787859",
     "status": "completed"
    },
    "tags": []
   },
   "outputs": [],
   "source": [
    "predictions = dtc.predict(test_x)"
   ]
  },
  {
   "cell_type": "code",
   "execution_count": 23,
   "id": "097962bf",
   "metadata": {
    "execution": {
     "iopub.execute_input": "2022-03-06T09:34:43.949364Z",
     "iopub.status.busy": "2022-03-06T09:34:43.948644Z",
     "iopub.status.idle": "2022-03-06T09:34:43.955591Z",
     "shell.execute_reply": "2022-03-06T09:34:43.956186Z",
     "shell.execute_reply.started": "2022-03-06T09:13:13.448544Z"
    },
    "papermill": {
     "duration": 0.06037,
     "end_time": "2022-03-06T09:34:43.956367",
     "exception": false,
     "start_time": "2022-03-06T09:34:43.895997",
     "status": "completed"
    },
    "tags": []
   },
   "outputs": [
    {
     "data": {
      "text/plain": [
       "array([0, 0, 1, 0, 0, 1, 0, 1, 0, 0, 0, 0, 0, 0, 1, 0, 0, 1, 1, 0, 1, 1,\n",
       "       0, 0, 0, 1, 0, 1, 0, 1, 0, 1, 0, 0, 0, 1, 1, 1, 0, 1, 1, 1, 1, 1,\n",
       "       1, 1, 1, 0, 1, 1, 0, 0, 1, 1, 1, 1, 1, 1, 1, 1, 0, 0, 1, 1, 0, 0,\n",
       "       1, 1, 0, 1, 0, 0, 1, 0, 0, 1, 1, 0, 1, 0, 0, 0, 0, 0, 1, 0, 0, 1,\n",
       "       0, 0, 1, 0, 1, 1, 0, 0, 0, 0, 0, 0, 1, 0, 0, 1, 0, 0, 1, 0, 0, 1,\n",
       "       1, 1, 0, 0, 0, 0, 0, 0, 0, 0, 0, 0, 0, 0, 1, 1, 1, 1, 0, 1, 1, 1,\n",
       "       1, 0, 1, 0, 0, 0, 0, 1, 0, 1, 0, 1, 1, 0, 0, 0, 0, 0, 1, 0, 0, 0,\n",
       "       1, 0, 1, 0, 1, 0, 1, 0, 1, 0, 1, 0, 1, 1, 0, 0, 0, 0, 1, 1, 0, 1,\n",
       "       1, 0, 0, 1, 1, 0, 0, 0, 0, 0, 1, 0, 0, 0, 1, 1, 1, 1, 1, 1, 0, 0,\n",
       "       1, 0, 1, 0, 0, 0, 0, 1, 0, 0, 0, 1, 0, 1, 1, 0, 0, 1, 1, 0, 1, 1,\n",
       "       1, 1, 0, 1, 0, 0, 1, 0, 0, 1, 0, 0, 0, 0, 0, 0, 0, 0, 0, 0, 0, 0,\n",
       "       0, 0, 1, 0, 1, 1, 0, 0, 0, 0, 1, 1, 0, 1, 0, 0, 0, 0, 1, 0, 1, 1,\n",
       "       1, 0, 1, 1, 0, 1, 0, 0, 0, 1, 0, 1, 0, 1, 0, 0, 0, 0, 1, 1, 0, 0,\n",
       "       0, 0, 0, 0, 0, 1, 0, 0, 0, 0, 0, 1, 0, 1, 0, 0, 0, 1, 1, 1, 0, 0,\n",
       "       0, 0, 0, 1, 1, 0, 1, 0, 0, 1, 0, 1, 0, 0, 0, 0, 0, 1, 1, 0, 1, 0,\n",
       "       0, 0, 0, 0, 0, 1, 1, 0, 1, 0, 0, 1, 1, 1, 1, 1, 1, 0, 0, 1, 1, 1,\n",
       "       1, 0, 0, 0, 1, 1, 1, 0, 0, 1, 1, 0, 0, 1, 0, 0, 1, 0, 0, 1, 0, 1,\n",
       "       0, 1, 1, 0, 0, 1, 1, 1, 1, 0, 1, 0, 0, 0, 0, 0, 0, 0, 0, 0, 1, 0,\n",
       "       0, 1, 1, 0, 0, 1, 0, 1, 1, 0, 1, 1, 0, 1, 1, 1, 1, 1, 0, 0, 0, 1,\n",
       "       1, 1, 0, 0, 0, 0, 1, 0, 0, 1, 1, 0, 0, 1, 1, 0, 1, 0, 0, 0, 1, 0,\n",
       "       0, 0, 0, 1, 0, 0, 1, 1, 0, 1, 1, 0, 1, 1, 0, 1, 1, 1, 0, 0, 0, 1,\n",
       "       1, 0, 0, 1, 1, 0, 0, 0, 0, 0, 0, 0, 1, 1, 0, 1, 1, 1, 0, 1, 0, 1,\n",
       "       0, 0, 1, 0, 0, 0, 1, 1, 1, 0, 1, 0, 0, 0, 1, 0, 1, 1, 0, 1, 0, 0,\n",
       "       0, 0, 0, 0, 0, 0, 0, 1, 1, 1, 0, 1, 0, 0, 0, 0, 0, 0, 1, 1, 1, 0,\n",
       "       0, 1, 1, 0, 0, 0, 0, 0, 0, 0, 1, 1, 0, 0, 1, 1, 1, 1, 1, 0, 0, 0,\n",
       "       0, 0, 0, 0, 0, 0, 0, 0, 0, 0, 0, 1, 0, 0, 0, 0, 1, 0, 1, 0, 0, 1,\n",
       "       0, 1, 0, 0, 1, 0, 0, 1, 1, 1, 0, 0, 0, 1, 1, 0, 0, 0, 0, 0, 0, 0,\n",
       "       1, 1, 1, 0, 0, 1, 0, 0, 1, 1, 1, 0, 1, 0, 0, 0, 1, 0, 1, 0, 0, 0,\n",
       "       1, 1, 1, 0, 1, 0, 0, 0, 0, 0, 1, 0, 1, 0, 0, 0, 0, 1, 0, 0, 0, 0,\n",
       "       0, 0, 1, 1, 0, 0, 0, 0, 0, 1, 0, 1, 0, 1, 0, 1, 1, 0])"
      ]
     },
     "execution_count": 23,
     "metadata": {},
     "output_type": "execute_result"
    }
   ],
   "source": [
    "predictions"
   ]
  },
  {
   "cell_type": "code",
   "execution_count": 24,
   "id": "4c95ce04",
   "metadata": {
    "execution": {
     "iopub.execute_input": "2022-03-06T09:34:44.061972Z",
     "iopub.status.busy": "2022-03-06T09:34:44.061311Z",
     "iopub.status.idle": "2022-03-06T09:34:44.065275Z",
     "shell.execute_reply": "2022-03-06T09:34:44.064672Z",
     "shell.execute_reply.started": "2022-03-06T09:13:34.269373Z"
    },
    "papermill": {
     "duration": 0.058457,
     "end_time": "2022-03-06T09:34:44.065419",
     "exception": false,
     "start_time": "2022-03-06T09:34:44.006962",
     "status": "completed"
    },
    "tags": []
   },
   "outputs": [],
   "source": [
    "from sklearn.metrics import confusion_matrix, classification_report"
   ]
  },
  {
   "cell_type": "code",
   "execution_count": 25,
   "id": "0d07b209",
   "metadata": {
    "execution": {
     "iopub.execute_input": "2022-03-06T09:34:44.169106Z",
     "iopub.status.busy": "2022-03-06T09:34:44.168350Z",
     "iopub.status.idle": "2022-03-06T09:34:44.174521Z",
     "shell.execute_reply": "2022-03-06T09:34:44.173984Z",
     "shell.execute_reply.started": "2022-03-06T09:16:10.449591Z"
    },
    "papermill": {
     "duration": 0.059032,
     "end_time": "2022-03-06T09:34:44.174695",
     "exception": false,
     "start_time": "2022-03-06T09:34:44.115663",
     "status": "completed"
    },
    "tags": []
   },
   "outputs": [],
   "source": [
    "metric_matrix = confusion_matrix(test_y, predictions)"
   ]
  },
  {
   "cell_type": "code",
   "execution_count": 26,
   "id": "973db0fe",
   "metadata": {
    "execution": {
     "iopub.execute_input": "2022-03-06T09:34:44.281406Z",
     "iopub.status.busy": "2022-03-06T09:34:44.280596Z",
     "iopub.status.idle": "2022-03-06T09:34:44.426661Z",
     "shell.execute_reply": "2022-03-06T09:34:44.425952Z",
     "shell.execute_reply.started": "2022-03-06T09:17:23.448958Z"
    },
    "papermill": {
     "duration": 0.200712,
     "end_time": "2022-03-06T09:34:44.426809",
     "exception": false,
     "start_time": "2022-03-06T09:34:44.226097",
     "status": "completed"
    },
    "tags": []
   },
   "outputs": [],
   "source": [
    "import matplotlib.pyplot as plt\n",
    "import seaborn as sns\n",
    "%matplotlib inline"
   ]
  },
  {
   "cell_type": "code",
   "execution_count": 27,
   "id": "96383469",
   "metadata": {
    "execution": {
     "iopub.execute_input": "2022-03-06T09:34:44.537941Z",
     "iopub.status.busy": "2022-03-06T09:34:44.536908Z",
     "iopub.status.idle": "2022-03-06T09:34:44.810563Z",
     "shell.execute_reply": "2022-03-06T09:34:44.811080Z",
     "shell.execute_reply.started": "2022-03-06T09:23:08.172584Z"
    },
    "papermill": {
     "duration": 0.33379,
     "end_time": "2022-03-06T09:34:44.811264",
     "exception": false,
     "start_time": "2022-03-06T09:34:44.477474",
     "status": "completed"
    },
    "tags": []
   },
   "outputs": [
    {
     "data": {
      "text/plain": [
       "<AxesSubplot:xlabel='Predicted', ylabel='Actual'>"
      ]
     },
     "execution_count": 27,
     "metadata": {},
     "output_type": "execute_result"
    },
    {
     "data": {
      "image/png": "[encoded data removed]",
      "text/plain": [
       "<Figure size 432x288 with 2 Axes>"
      ]
     },
     "metadata": {
      "needs_background": "light"
     },
     "output_type": "display_data"
    }
   ],
   "source": [
    "df_cm = pd.DataFrame(metric_matrix, columns=np.unique(test_y), index = np.unique(test_y))\n",
    "df_cm.index.name = 'Actual'\n",
    "df_cm.columns.name = 'Predicted'\n",
    "sns.heatmap(df_cm, cmap=\"Blues\", annot=True, fmt='g')"
   ]
  },
  {
   "cell_type": "code",
   "execution_count": 28,
   "id": "171d344b",
   "metadata": {
    "execution": {
     "iopub.execute_input": "2022-03-06T09:34:44.918522Z",
     "iopub.status.busy": "2022-03-06T09:34:44.917859Z",
     "iopub.status.idle": "2022-03-06T09:34:44.927856Z",
     "shell.execute_reply": "2022-03-06T09:34:44.928341Z",
     "shell.execute_reply.started": "2022-03-06T09:23:39.601429Z"
    },
    "papermill": {
     "duration": 0.065059,
     "end_time": "2022-03-06T09:34:44.928520",
     "exception": false,
     "start_time": "2022-03-06T09:34:44.863461",
     "status": "completed"
    },
    "tags": []
   },
   "outputs": [
    {
     "name": "stdout",
     "output_type": "stream",
     "text": [
      "              precision    recall  f1-score   support\n",
      "\n",
      "           0       0.68      0.64      0.66       412\n",
      "           1       0.45      0.50      0.47       244\n",
      "\n",
      "    accuracy                           0.59       656\n",
      "   macro avg       0.57      0.57      0.57       656\n",
      "weighted avg       0.60      0.59      0.59       656\n",
      "\n"
     ]
    }
   ],
   "source": [
    "print(classification_report(test_y, predictions))"
   ]
  },
  {
   "cell_type": "code",
   "execution_count": null,
   "id": "bf339c7a",
   "metadata": {
    "papermill": {
     "duration": 0.054329,
     "end_time": "2022-03-06T09:34:45.036527",
     "exception": false,
     "start_time": "2022-03-06T09:34:44.982198",
     "status": "completed"
    },
    "tags": []
   },
   "outputs": [],
   "source": []
  },
  {
   "cell_type": "code",
   "execution_count": null,
   "id": "ffbfe625",
   "metadata": {
    "papermill": {
     "duration": 0.052037,
     "end_time": "2022-03-06T09:34:45.141746",
     "exception": false,
     "start_time": "2022-03-06T09:34:45.089709",
     "status": "completed"
    },
    "tags": []
   },
   "outputs": [],
   "source": []
  },
  {
   "cell_type": "markdown",
   "id": "a6c9570d",
   "metadata": {
    "papermill": {
     "duration": 0.051684,
     "end_time": "2022-03-06T09:34:45.245053",
     "exception": false,
     "start_time": "2022-03-06T09:34:45.193369",
     "status": "completed"
    },
    "tags": []
   },
   "source": [
    "### Same data, but with Standardization"
   ]
  },
  {
   "cell_type": "code",
   "execution_count": 29,
   "id": "957b4e2b",
   "metadata": {
    "execution": {
     "iopub.execute_input": "2022-03-06T09:34:45.354218Z",
     "iopub.status.busy": "2022-03-06T09:34:45.353484Z",
     "iopub.status.idle": "2022-03-06T09:34:45.355802Z",
     "shell.execute_reply": "2022-03-06T09:34:45.355266Z",
     "shell.execute_reply.started": "2022-03-06T09:25:38.269934Z"
    },
    "papermill": {
     "duration": 0.05892,
     "end_time": "2022-03-06T09:34:45.355940",
     "exception": false,
     "start_time": "2022-03-06T09:34:45.297020",
     "status": "completed"
    },
    "tags": []
   },
   "outputs": [],
   "source": [
    "from sklearn.preprocessing import StandardScaler\n",
    "scl = StandardScaler()"
   ]
  },
  {
   "cell_type": "code",
   "execution_count": 30,
   "id": "43325a5d",
   "metadata": {
    "execution": {
     "iopub.execute_input": "2022-03-06T09:34:45.466303Z",
     "iopub.status.busy": "2022-03-06T09:34:45.465686Z",
     "iopub.status.idle": "2022-03-06T09:34:45.471548Z",
     "shell.execute_reply": "2022-03-06T09:34:45.472110Z",
     "shell.execute_reply.started": "2022-03-06T09:25:58.473325Z"
    },
    "papermill": {
     "duration": 0.061526,
     "end_time": "2022-03-06T09:34:45.472277",
     "exception": false,
     "start_time": "2022-03-06T09:34:45.410751",
     "status": "completed"
    },
    "tags": []
   },
   "outputs": [
    {
     "data": {
      "text/plain": [
       "StandardScaler()"
      ]
     },
     "execution_count": 30,
     "metadata": {},
     "output_type": "execute_result"
    }
   ],
   "source": [
    "scl.fit(train_x)"
   ]
  },
  {
   "cell_type": "code",
   "execution_count": 31,
   "id": "25d11ff7",
   "metadata": {
    "execution": {
     "iopub.execute_input": "2022-03-06T09:34:45.580979Z",
     "iopub.status.busy": "2022-03-06T09:34:45.580306Z",
     "iopub.status.idle": "2022-03-06T09:34:45.584178Z",
     "shell.execute_reply": "2022-03-06T09:34:45.584701Z",
     "shell.execute_reply.started": "2022-03-06T09:26:51.953179Z"
    },
    "papermill": {
     "duration": 0.0591,
     "end_time": "2022-03-06T09:34:45.584870",
     "exception": false,
     "start_time": "2022-03-06T09:34:45.525770",
     "status": "completed"
    },
    "tags": []
   },
   "outputs": [],
   "source": [
    "train_x_scl = scl.transform(train_x)\n",
    "test_x_scl = scl.transform(test_x)"
   ]
  },
  {
   "cell_type": "code",
   "execution_count": 32,
   "id": "3f79ff9a",
   "metadata": {
    "execution": {
     "iopub.execute_input": "2022-03-06T09:34:45.692583Z",
     "iopub.status.busy": "2022-03-06T09:34:45.691970Z",
     "iopub.status.idle": "2022-03-06T09:34:45.695695Z",
     "shell.execute_reply": "2022-03-06T09:34:45.696231Z",
     "shell.execute_reply.started": "2022-03-06T09:27:40.948296Z"
    },
    "papermill": {
     "duration": 0.059298,
     "end_time": "2022-03-06T09:34:45.696394",
     "exception": false,
     "start_time": "2022-03-06T09:34:45.637096",
     "status": "completed"
    },
    "tags": []
   },
   "outputs": [],
   "source": [
    "dcl_scl = DecisionTreeClassifier(random_state=0)"
   ]
  },
  {
   "cell_type": "code",
   "execution_count": 33,
   "id": "c193a8d5",
   "metadata": {
    "execution": {
     "iopub.execute_input": "2022-03-06T09:34:45.806604Z",
     "iopub.status.busy": "2022-03-06T09:34:45.806002Z",
     "iopub.status.idle": "2022-03-06T09:34:45.844882Z",
     "shell.execute_reply": "2022-03-06T09:34:45.845334Z",
     "shell.execute_reply.started": "2022-03-06T09:27:55.670509Z"
    },
    "papermill": {
     "duration": 0.09472,
     "end_time": "2022-03-06T09:34:45.845504",
     "exception": false,
     "start_time": "2022-03-06T09:34:45.750784",
     "status": "completed"
    },
    "tags": []
   },
   "outputs": [
    {
     "data": {
      "text/plain": [
       "DecisionTreeClassifier(random_state=0)"
      ]
     },
     "execution_count": 33,
     "metadata": {},
     "output_type": "execute_result"
    }
   ],
   "source": [
    "dcl_scl.fit(train_x_scl, train_y)"
   ]
  },
  {
   "cell_type": "code",
   "execution_count": 34,
   "id": "c590cbb3",
   "metadata": {
    "execution": {
     "iopub.execute_input": "2022-03-06T09:34:45.955951Z",
     "iopub.status.busy": "2022-03-06T09:34:45.955258Z",
     "iopub.status.idle": "2022-03-06T09:34:45.957475Z",
     "shell.execute_reply": "2022-03-06T09:34:45.958024Z",
     "shell.execute_reply.started": "2022-03-06T09:28:17.530599Z"
    },
    "papermill": {
     "duration": 0.059996,
     "end_time": "2022-03-06T09:34:45.958186",
     "exception": false,
     "start_time": "2022-03-06T09:34:45.898190",
     "status": "completed"
    },
    "tags": []
   },
   "outputs": [],
   "source": [
    "pred_scl = dcl_scl.predict(test_x_scl)"
   ]
  },
  {
   "cell_type": "code",
   "execution_count": 35,
   "id": "702ebbe3",
   "metadata": {
    "execution": {
     "iopub.execute_input": "2022-03-06T09:34:46.071072Z",
     "iopub.status.busy": "2022-03-06T09:34:46.070301Z",
     "iopub.status.idle": "2022-03-06T09:34:46.074069Z",
     "shell.execute_reply": "2022-03-06T09:34:46.074537Z",
     "shell.execute_reply.started": "2022-03-06T09:29:11.673801Z"
    },
    "papermill": {
     "duration": 0.063505,
     "end_time": "2022-03-06T09:34:46.074733",
     "exception": false,
     "start_time": "2022-03-06T09:34:46.011228",
     "status": "completed"
    },
    "tags": []
   },
   "outputs": [],
   "source": [
    "metric_matrix2 = confusion_matrix(test_y, pred_scl)"
   ]
  },
  {
   "cell_type": "code",
   "execution_count": 36,
   "id": "e2e46aad",
   "metadata": {
    "execution": {
     "iopub.execute_input": "2022-03-06T09:34:46.206134Z",
     "iopub.status.busy": "2022-03-06T09:34:46.186222Z",
     "iopub.status.idle": "2022-03-06T09:34:46.410921Z",
     "shell.execute_reply": "2022-03-06T09:34:46.410393Z",
     "shell.execute_reply.started": "2022-03-06T09:29:28.116089Z"
    },
    "papermill": {
     "duration": 0.283017,
     "end_time": "2022-03-06T09:34:46.411061",
     "exception": false,
     "start_time": "2022-03-06T09:34:46.128044",
     "status": "completed"
    },
    "tags": []
   },
   "outputs": [
    {
     "data": {
      "text/plain": [
       "<AxesSubplot:xlabel='Predicted', ylabel='Actual'>"
      ]
     },
     "execution_count": 36,
     "metadata": {},
     "output_type": "execute_result"
    },
    {
     "data": {
      "image/png": "[encoded data removed]",
      "text/plain": [
       "<Figure size 432x288 with 2 Axes>"
      ]
     },
     "metadata": {
      "needs_background": "light"
     },
     "output_type": "display_data"
    }
   ],
   "source": [
    "df_cm = pd.DataFrame(metric_matrix2, columns=np.unique(test_y), index = np.unique(test_y))\n",
    "df_cm.index.name = 'Actual'\n",
    "df_cm.columns.name = 'Predicted'\n",
    "sns.heatmap(df_cm, cmap=\"Blues\", annot=True, fmt='g')"
   ]
  },
  {
   "cell_type": "markdown",
   "id": "fe9dac22",
   "metadata": {
    "papermill": {
     "duration": 0.053649,
     "end_time": "2022-03-06T09:34:46.518951",
     "exception": false,
     "start_time": "2022-03-06T09:34:46.465302",
     "status": "completed"
    },
    "tags": []
   },
   "source": [
    "## To day I learned\n",
    "### Tree models will always give the same result whether the data is Standardize or not."
   ]
  },
  {
   "cell_type": "code",
   "execution_count": null,
   "id": "14273d54",
   "metadata": {
    "papermill": {
     "duration": 0.053598,
     "end_time": "2022-03-06T09:34:46.626691",
     "exception": false,
     "start_time": "2022-03-06T09:34:46.573093",
     "status": "completed"
    },
    "tags": []
   },
   "outputs": [],
   "source": []
  },
  {
   "cell_type": "code",
   "execution_count": null,
   "id": "5ef7034d",
   "metadata": {
    "papermill": {
     "duration": 0.053775,
     "end_time": "2022-03-06T09:34:46.734219",
     "exception": false,
     "start_time": "2022-03-06T09:34:46.680444",
     "status": "completed"
    },
    "tags": []
   },
   "outputs": [],
   "source": []
  },
  {
   "cell_type": "code",
   "execution_count": null,
   "id": "bbf51131",
   "metadata": {
    "papermill": {
     "duration": 0.054539,
     "end_time": "2022-03-06T09:34:46.842577",
     "exception": false,
     "start_time": "2022-03-06T09:34:46.788038",
     "status": "completed"
    },
    "tags": []
   },
   "outputs": [],
   "source": []
  }
 ],
 "metadata": {
  "kernelspec": {
   "display_name": "Python 3",
   "language": "python",
   "name": "python3"
  },
  "language_info": {
   "codemirror_mode": {
    "name": "ipython",
    "version": 3
   },
   "file_extension": ".py",
   "mimetype": "text/x-python",
   "name": "python",
   "nbconvert_exporter": "python",
   "pygments_lexer": "ipython3",
   "version": "3.7.12"
  },
  "papermill": {
   "default_parameters": {},
   "duration": 18.259199,
   "end_time": "2022-03-06T09:34:47.606338",
   "environment_variables": {},
   "exception": null,
   "input_path": "__notebook__.ipynb",
   "output_path": "__notebook__.ipynb",
   "parameters": {},
   "start_time": "2022-03-06T09:34:29.347139",
   "version": "2.3.3"
  }
 },
 "nbformat": 4,
 "nbformat_minor": 5
}

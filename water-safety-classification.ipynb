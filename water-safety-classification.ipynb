{
 "cells": [
  {
   "cell_type": "code",
   "execution_count": 1,
   "id": "acfe79ed",
   "metadata": {
    "_cell_guid": "b1076dfc-b9ad-4769-8c92-a6c4dae69d19",
    "_uuid": "8f2839f25d086af736a60e9eeb907d3b93b6e0e5",
    "execution": {
     "iopub.execute_input": "2022-03-04T10:02:06.186921Z",
     "iopub.status.busy": "2022-03-04T10:02:06.185691Z",
     "iopub.status.idle": "2022-03-04T10:02:06.212163Z",
     "shell.execute_reply": "2022-03-04T10:02:06.212788Z",
     "shell.execute_reply.started": "2022-03-04T09:27:37.668719Z"
    },
    "papermill": {
     "duration": 0.065803,
     "end_time": "2022-03-04T10:02:06.213076",
     "exception": false,
     "start_time": "2022-03-04T10:02:06.147273",
     "status": "completed"
    },
    "tags": []
   },
   "outputs": [
    {
     "name": "stdout",
     "output_type": "stream",
     "text": [
      "/kaggle/input/water-potability/water_potability.csv\n"
     ]
    }
   ],
   "source": [
    "# This Python 3 environment comes with many helpful analytics libraries installed\n",
    "# It is defined by the kaggle/python Docker image: https://github.com/kaggle/docker-python\n",
    "# For example, here's several helpful packages to load\n",
    "\n",
    "import numpy as np # linear algebra\n",
    "import pandas as pd # data processing, CSV file I/O (e.g. pd.read_csv)\n",
    "\n",
    "# Input data files are available in the read-only \"../input/\" directory\n",
    "# For example, running this (by clicking run or pressing Shift+Enter) will list all files under the input directory\n",
    "\n",
    "import os\n",
    "for dirname, _, filenames in os.walk('/kaggle/input'):\n",
    "    for filename in filenames:\n",
    "        print(os.path.join(dirname, filename))\n",
    "\n",
    "# You can write up to 20GB to the current directory (/kaggle/working/) that gets preserved as output when you create a version using \"Save & Run All\" \n",
    "# You can also write temporary files to /kaggle/temp/, but they won't be saved outside of the current session"
   ]
  },
  {
   "cell_type": "code",
   "execution_count": 2,
   "id": "ae654d98",
   "metadata": {
    "execution": {
     "iopub.execute_input": "2022-03-04T10:02:06.297462Z",
     "iopub.status.busy": "2022-03-04T10:02:06.296775Z",
     "iopub.status.idle": "2022-03-04T10:02:06.299846Z",
     "shell.execute_reply": "2022-03-04T10:02:06.299272Z",
     "shell.execute_reply.started": "2022-03-04T09:42:31.648652Z"
    },
    "papermill": {
     "duration": 0.052044,
     "end_time": "2022-03-04T10:02:06.300002",
     "exception": false,
     "start_time": "2022-03-04T10:02:06.247958",
     "status": "completed"
    },
    "tags": []
   },
   "outputs": [],
   "source": [
    "%config Completer.use_jedi = False"
   ]
  },
  {
   "cell_type": "code",
   "execution_count": 3,
   "id": "aa7d6981",
   "metadata": {
    "execution": {
     "iopub.execute_input": "2022-03-04T10:02:06.371124Z",
     "iopub.status.busy": "2022-03-04T10:02:06.370129Z",
     "iopub.status.idle": "2022-03-04T10:02:06.401786Z",
     "shell.execute_reply": "2022-03-04T10:02:06.402359Z",
     "shell.execute_reply.started": "2022-03-04T09:32:48.328280Z"
    },
    "papermill": {
     "duration": 0.068627,
     "end_time": "2022-03-04T10:02:06.402554",
     "exception": false,
     "start_time": "2022-03-04T10:02:06.333927",
     "status": "completed"
    },
    "tags": []
   },
   "outputs": [],
   "source": [
    "data = pd.read_csv('../input/water-potability/water_potability.csv')"
   ]
  },
  {
   "cell_type": "code",
   "execution_count": 4,
   "id": "e0b48e9b",
   "metadata": {
    "execution": {
     "iopub.execute_input": "2022-03-04T10:02:06.475360Z",
     "iopub.status.busy": "2022-03-04T10:02:06.474384Z",
     "iopub.status.idle": "2022-03-04T10:02:06.481957Z",
     "shell.execute_reply": "2022-03-04T10:02:06.482554Z",
     "shell.execute_reply.started": "2022-03-04T09:32:52.764985Z"
    },
    "papermill": {
     "duration": 0.045144,
     "end_time": "2022-03-04T10:02:06.482737",
     "exception": false,
     "start_time": "2022-03-04T10:02:06.437593",
     "status": "completed"
    },
    "tags": []
   },
   "outputs": [
    {
     "data": {
      "text/plain": [
       "(3276, 10)"
      ]
     },
     "execution_count": 4,
     "metadata": {},
     "output_type": "execute_result"
    }
   ],
   "source": [
    "data.shape"
   ]
  },
  {
   "cell_type": "code",
   "execution_count": 5,
   "id": "c0bf418a",
   "metadata": {
    "execution": {
     "iopub.execute_input": "2022-03-04T10:02:06.556545Z",
     "iopub.status.busy": "2022-03-04T10:02:06.555556Z",
     "iopub.status.idle": "2022-03-04T10:02:06.582019Z",
     "shell.execute_reply": "2022-03-04T10:02:06.581386Z",
     "shell.execute_reply.started": "2022-03-04T09:32:59.436279Z"
    },
    "papermill": {
     "duration": 0.065789,
     "end_time": "2022-03-04T10:02:06.582172",
     "exception": false,
     "start_time": "2022-03-04T10:02:06.516383",
     "status": "completed"
    },
    "tags": []
   },
   "outputs": [
    {
     "data": {
      "text/html": [
       "<div>\n",
       "<style scoped>\n",
       "    .dataframe tbody tr th:only-of-type {\n",
       "        vertical-align: middle;\n",
       "    }\n",
       "\n",
       "    .dataframe tbody tr th {\n",
       "        vertical-align: top;\n",
       "    }\n",
       "\n",
       "    .dataframe thead th {\n",
       "        text-align: right;\n",
       "    }\n",
       "</style>\n",
       "<table border=\"1\" class=\"dataframe\">\n",
       "  <thead>\n",
       "    <tr style=\"text-align: right;\">\n",
       "      <th></th>\n",
       "      <th>ph</th>\n",
       "      <th>Hardness</th>\n",
       "      <th>Solids</th>\n",
       "      <th>Chloramines</th>\n",
       "      <th>Sulfate</th>\n",
       "      <th>Conductivity</th>\n",
       "      <th>Organic_carbon</th>\n",
       "      <th>Trihalomethanes</th>\n",
       "      <th>Turbidity</th>\n",
       "      <th>Potability</th>\n",
       "    </tr>\n",
       "  </thead>\n",
       "  <tbody>\n",
       "    <tr>\n",
       "      <th>0</th>\n",
       "      <td>NaN</td>\n",
       "      <td>204.890455</td>\n",
       "      <td>20791.318981</td>\n",
       "      <td>7.300212</td>\n",
       "      <td>368.516441</td>\n",
       "      <td>564.308654</td>\n",
       "      <td>10.379783</td>\n",
       "      <td>86.990970</td>\n",
       "      <td>2.963135</td>\n",
       "      <td>0</td>\n",
       "    </tr>\n",
       "    <tr>\n",
       "      <th>1</th>\n",
       "      <td>3.716080</td>\n",
       "      <td>129.422921</td>\n",
       "      <td>18630.057858</td>\n",
       "      <td>6.635246</td>\n",
       "      <td>NaN</td>\n",
       "      <td>592.885359</td>\n",
       "      <td>15.180013</td>\n",
       "      <td>56.329076</td>\n",
       "      <td>4.500656</td>\n",
       "      <td>0</td>\n",
       "    </tr>\n",
       "    <tr>\n",
       "      <th>2</th>\n",
       "      <td>8.099124</td>\n",
       "      <td>224.236259</td>\n",
       "      <td>19909.541732</td>\n",
       "      <td>9.275884</td>\n",
       "      <td>NaN</td>\n",
       "      <td>418.606213</td>\n",
       "      <td>16.868637</td>\n",
       "      <td>66.420093</td>\n",
       "      <td>3.055934</td>\n",
       "      <td>0</td>\n",
       "    </tr>\n",
       "    <tr>\n",
       "      <th>3</th>\n",
       "      <td>8.316766</td>\n",
       "      <td>214.373394</td>\n",
       "      <td>22018.417441</td>\n",
       "      <td>8.059332</td>\n",
       "      <td>356.886136</td>\n",
       "      <td>363.266516</td>\n",
       "      <td>18.436524</td>\n",
       "      <td>100.341674</td>\n",
       "      <td>4.628771</td>\n",
       "      <td>0</td>\n",
       "    </tr>\n",
       "    <tr>\n",
       "      <th>4</th>\n",
       "      <td>9.092223</td>\n",
       "      <td>181.101509</td>\n",
       "      <td>17978.986339</td>\n",
       "      <td>6.546600</td>\n",
       "      <td>310.135738</td>\n",
       "      <td>398.410813</td>\n",
       "      <td>11.558279</td>\n",
       "      <td>31.997993</td>\n",
       "      <td>4.075075</td>\n",
       "      <td>0</td>\n",
       "    </tr>\n",
       "    <tr>\n",
       "      <th>...</th>\n",
       "      <td>...</td>\n",
       "      <td>...</td>\n",
       "      <td>...</td>\n",
       "      <td>...</td>\n",
       "      <td>...</td>\n",
       "      <td>...</td>\n",
       "      <td>...</td>\n",
       "      <td>...</td>\n",
       "      <td>...</td>\n",
       "      <td>...</td>\n",
       "    </tr>\n",
       "    <tr>\n",
       "      <th>3271</th>\n",
       "      <td>4.668102</td>\n",
       "      <td>193.681735</td>\n",
       "      <td>47580.991603</td>\n",
       "      <td>7.166639</td>\n",
       "      <td>359.948574</td>\n",
       "      <td>526.424171</td>\n",
       "      <td>13.894419</td>\n",
       "      <td>66.687695</td>\n",
       "      <td>4.435821</td>\n",
       "      <td>1</td>\n",
       "    </tr>\n",
       "    <tr>\n",
       "      <th>3272</th>\n",
       "      <td>7.808856</td>\n",
       "      <td>193.553212</td>\n",
       "      <td>17329.802160</td>\n",
       "      <td>8.061362</td>\n",
       "      <td>NaN</td>\n",
       "      <td>392.449580</td>\n",
       "      <td>19.903225</td>\n",
       "      <td>NaN</td>\n",
       "      <td>2.798243</td>\n",
       "      <td>1</td>\n",
       "    </tr>\n",
       "    <tr>\n",
       "      <th>3273</th>\n",
       "      <td>9.419510</td>\n",
       "      <td>175.762646</td>\n",
       "      <td>33155.578218</td>\n",
       "      <td>7.350233</td>\n",
       "      <td>NaN</td>\n",
       "      <td>432.044783</td>\n",
       "      <td>11.039070</td>\n",
       "      <td>69.845400</td>\n",
       "      <td>3.298875</td>\n",
       "      <td>1</td>\n",
       "    </tr>\n",
       "    <tr>\n",
       "      <th>3274</th>\n",
       "      <td>5.126763</td>\n",
       "      <td>230.603758</td>\n",
       "      <td>11983.869376</td>\n",
       "      <td>6.303357</td>\n",
       "      <td>NaN</td>\n",
       "      <td>402.883113</td>\n",
       "      <td>11.168946</td>\n",
       "      <td>77.488213</td>\n",
       "      <td>4.708658</td>\n",
       "      <td>1</td>\n",
       "    </tr>\n",
       "    <tr>\n",
       "      <th>3275</th>\n",
       "      <td>7.874671</td>\n",
       "      <td>195.102299</td>\n",
       "      <td>17404.177061</td>\n",
       "      <td>7.509306</td>\n",
       "      <td>NaN</td>\n",
       "      <td>327.459760</td>\n",
       "      <td>16.140368</td>\n",
       "      <td>78.698446</td>\n",
       "      <td>2.309149</td>\n",
       "      <td>1</td>\n",
       "    </tr>\n",
       "  </tbody>\n",
       "</table>\n",
       "<p>3276 rows × 10 columns</p>\n",
       "</div>"
      ],
      "text/plain": [
       "            ph    Hardness        Solids  Chloramines     Sulfate  \\\n",
       "0          NaN  204.890455  20791.318981     7.300212  368.516441   \n",
       "1     3.716080  129.422921  18630.057858     6.635246         NaN   \n",
       "2     8.099124  224.236259  19909.541732     9.275884         NaN   \n",
       "3     8.316766  214.373394  22018.417441     8.059332  356.886136   \n",
       "4     9.092223  181.101509  17978.986339     6.546600  310.135738   \n",
       "...        ...         ...           ...          ...         ...   \n",
       "3271  4.668102  193.681735  47580.991603     7.166639  359.948574   \n",
       "3272  7.808856  193.553212  17329.802160     8.061362         NaN   \n",
       "3273  9.419510  175.762646  33155.578218     7.350233         NaN   \n",
       "3274  5.126763  230.603758  11983.869376     6.303357         NaN   \n",
       "3275  7.874671  195.102299  17404.177061     7.509306         NaN   \n",
       "\n",
       "      Conductivity  Organic_carbon  Trihalomethanes  Turbidity  Potability  \n",
       "0       564.308654       10.379783        86.990970   2.963135           0  \n",
       "1       592.885359       15.180013        56.329076   4.500656           0  \n",
       "2       418.606213       16.868637        66.420093   3.055934           0  \n",
       "3       363.266516       18.436524       100.341674   4.628771           0  \n",
       "4       398.410813       11.558279        31.997993   4.075075           0  \n",
       "...            ...             ...              ...        ...         ...  \n",
       "3271    526.424171       13.894419        66.687695   4.435821           1  \n",
       "3272    392.449580       19.903225              NaN   2.798243           1  \n",
       "3273    432.044783       11.039070        69.845400   3.298875           1  \n",
       "3274    402.883113       11.168946        77.488213   4.708658           1  \n",
       "3275    327.459760       16.140368        78.698446   2.309149           1  \n",
       "\n",
       "[3276 rows x 10 columns]"
      ]
     },
     "execution_count": 5,
     "metadata": {},
     "output_type": "execute_result"
    }
   ],
   "source": [
    "data"
   ]
  },
  {
   "cell_type": "code",
   "execution_count": 6,
   "id": "ccdd1242",
   "metadata": {
    "execution": {
     "iopub.execute_input": "2022-03-04T10:02:06.660248Z",
     "iopub.status.busy": "2022-03-04T10:02:06.658581Z",
     "iopub.status.idle": "2022-03-04T10:02:06.682448Z",
     "shell.execute_reply": "2022-03-04T10:02:06.681893Z",
     "shell.execute_reply.started": "2022-03-04T09:33:41.930643Z"
    },
    "papermill": {
     "duration": 0.063317,
     "end_time": "2022-03-04T10:02:06.682588",
     "exception": false,
     "start_time": "2022-03-04T10:02:06.619271",
     "status": "completed"
    },
    "tags": []
   },
   "outputs": [
    {
     "name": "stdout",
     "output_type": "stream",
     "text": [
      "<class 'pandas.core.frame.DataFrame'>\n",
      "RangeIndex: 3276 entries, 0 to 3275\n",
      "Data columns (total 10 columns):\n",
      " #   Column           Non-Null Count  Dtype  \n",
      "---  ------           --------------  -----  \n",
      " 0   ph               2785 non-null   float64\n",
      " 1   Hardness         3276 non-null   float64\n",
      " 2   Solids           3276 non-null   float64\n",
      " 3   Chloramines      3276 non-null   float64\n",
      " 4   Sulfate          2495 non-null   float64\n",
      " 5   Conductivity     3276 non-null   float64\n",
      " 6   Organic_carbon   3276 non-null   float64\n",
      " 7   Trihalomethanes  3114 non-null   float64\n",
      " 8   Turbidity        3276 non-null   float64\n",
      " 9   Potability       3276 non-null   int64  \n",
      "dtypes: float64(9), int64(1)\n",
      "memory usage: 256.1 KB\n"
     ]
    }
   ],
   "source": [
    "data.info()"
   ]
  },
  {
   "cell_type": "code",
   "execution_count": 7,
   "id": "8f6d74a4",
   "metadata": {
    "execution": {
     "iopub.execute_input": "2022-03-04T10:02:06.759186Z",
     "iopub.status.busy": "2022-03-04T10:02:06.758419Z",
     "iopub.status.idle": "2022-03-04T10:02:06.765409Z",
     "shell.execute_reply": "2022-03-04T10:02:06.765985Z",
     "shell.execute_reply.started": "2022-03-04T09:34:02.080895Z"
    },
    "papermill": {
     "duration": 0.04761,
     "end_time": "2022-03-04T10:02:06.766161",
     "exception": false,
     "start_time": "2022-03-04T10:02:06.718551",
     "status": "completed"
    },
    "tags": []
   },
   "outputs": [
    {
     "data": {
      "text/plain": [
       "ph                 491\n",
       "Hardness             0\n",
       "Solids               0\n",
       "Chloramines          0\n",
       "Sulfate            781\n",
       "Conductivity         0\n",
       "Organic_carbon       0\n",
       "Trihalomethanes    162\n",
       "Turbidity            0\n",
       "Potability           0\n",
       "dtype: int64"
      ]
     },
     "execution_count": 7,
     "metadata": {},
     "output_type": "execute_result"
    }
   ],
   "source": [
    "data.isna().sum()"
   ]
  },
  {
   "cell_type": "code",
   "execution_count": null,
   "id": "47ccb986",
   "metadata": {
    "papermill": {
     "duration": 0.035391,
     "end_time": "2022-03-04T10:02:06.838993",
     "exception": false,
     "start_time": "2022-03-04T10:02:06.803602",
     "status": "completed"
    },
    "tags": []
   },
   "outputs": [],
   "source": []
  },
  {
   "cell_type": "markdown",
   "id": "72fa90d8",
   "metadata": {
    "papermill": {
     "duration": 0.036033,
     "end_time": "2022-03-04T10:02:06.911768",
     "exception": false,
     "start_time": "2022-03-04T10:02:06.875735",
     "status": "completed"
    },
    "tags": []
   },
   "source": [
    "## Naive approach\n",
    "I will just simply replace the null value with 0, split the data, standardize them and try a logistic regression model"
   ]
  },
  {
   "cell_type": "code",
   "execution_count": 8,
   "id": "fbb54cf1",
   "metadata": {
    "execution": {
     "iopub.execute_input": "2022-03-04T10:02:06.988483Z",
     "iopub.status.busy": "2022-03-04T10:02:06.987490Z",
     "iopub.status.idle": "2022-03-04T10:02:06.992019Z",
     "shell.execute_reply": "2022-03-04T10:02:06.992567Z",
     "shell.execute_reply.started": "2022-03-04T09:37:24.219483Z"
    },
    "papermill": {
     "duration": 0.04431,
     "end_time": "2022-03-04T10:02:06.992755",
     "exception": false,
     "start_time": "2022-03-04T10:02:06.948445",
     "status": "completed"
    },
    "tags": []
   },
   "outputs": [],
   "source": [
    "data_filled = data.fillna(0)"
   ]
  },
  {
   "cell_type": "code",
   "execution_count": 9,
   "id": "44a6e28e",
   "metadata": {
    "execution": {
     "iopub.execute_input": "2022-03-04T10:02:07.068549Z",
     "iopub.status.busy": "2022-03-04T10:02:07.067544Z",
     "iopub.status.idle": "2022-03-04T10:02:07.075907Z",
     "shell.execute_reply": "2022-03-04T10:02:07.076446Z",
     "shell.execute_reply.started": "2022-03-04T09:37:53.935995Z"
    },
    "papermill": {
     "duration": 0.048321,
     "end_time": "2022-03-04T10:02:07.076633",
     "exception": false,
     "start_time": "2022-03-04T10:02:07.028312",
     "status": "completed"
    },
    "tags": []
   },
   "outputs": [
    {
     "data": {
      "text/plain": [
       "ph                 0\n",
       "Hardness           0\n",
       "Solids             0\n",
       "Chloramines        0\n",
       "Sulfate            0\n",
       "Conductivity       0\n",
       "Organic_carbon     0\n",
       "Trihalomethanes    0\n",
       "Turbidity          0\n",
       "Potability         0\n",
       "dtype: int64"
      ]
     },
     "execution_count": 9,
     "metadata": {},
     "output_type": "execute_result"
    }
   ],
   "source": [
    "data_filled.isna().sum()"
   ]
  },
  {
   "cell_type": "code",
   "execution_count": 10,
   "id": "fb1d050b",
   "metadata": {
    "execution": {
     "iopub.execute_input": "2022-03-04T10:02:07.155224Z",
     "iopub.status.busy": "2022-03-04T10:02:07.154255Z",
     "iopub.status.idle": "2022-03-04T10:02:07.161953Z",
     "shell.execute_reply": "2022-03-04T10:02:07.162570Z",
     "shell.execute_reply.started": "2022-03-04T09:39:27.045797Z"
    },
    "papermill": {
     "duration": 0.048597,
     "end_time": "2022-03-04T10:02:07.162765",
     "exception": false,
     "start_time": "2022-03-04T10:02:07.114168",
     "status": "completed"
    },
    "tags": []
   },
   "outputs": [
    {
     "data": {
      "text/plain": [
       "0    1998\n",
       "1    1278\n",
       "Name: Potability, dtype: int64"
      ]
     },
     "execution_count": 10,
     "metadata": {},
     "output_type": "execute_result"
    }
   ],
   "source": [
    "data_filled.Potability.value_counts()"
   ]
  },
  {
   "cell_type": "code",
   "execution_count": 11,
   "id": "556effdd",
   "metadata": {
    "execution": {
     "iopub.execute_input": "2022-03-04T10:02:07.242829Z",
     "iopub.status.busy": "2022-03-04T10:02:07.241758Z",
     "iopub.status.idle": "2022-03-04T10:02:07.243660Z",
     "shell.execute_reply": "2022-03-04T10:02:07.244269Z",
     "shell.execute_reply.started": "2022-03-04T09:39:38.044912Z"
    },
    "papermill": {
     "duration": 0.043817,
     "end_time": "2022-03-04T10:02:07.244433",
     "exception": false,
     "start_time": "2022-03-04T10:02:07.200616",
     "status": "completed"
    },
    "tags": []
   },
   "outputs": [],
   "source": [
    "y = data_filled['Potability']"
   ]
  },
  {
   "cell_type": "code",
   "execution_count": 12,
   "id": "4f037b2d",
   "metadata": {
    "execution": {
     "iopub.execute_input": "2022-03-04T10:02:07.321963Z",
     "iopub.status.busy": "2022-03-04T10:02:07.320951Z",
     "iopub.status.idle": "2022-03-04T10:02:07.327688Z",
     "shell.execute_reply": "2022-03-04T10:02:07.328268Z",
     "shell.execute_reply.started": "2022-03-04T09:40:26.949480Z"
    },
    "papermill": {
     "duration": 0.046633,
     "end_time": "2022-03-04T10:02:07.328446",
     "exception": false,
     "start_time": "2022-03-04T10:02:07.281813",
     "status": "completed"
    },
    "tags": []
   },
   "outputs": [],
   "source": [
    "x = data_filled.drop(columns=['Potability'])"
   ]
  },
  {
   "cell_type": "code",
   "execution_count": 13,
   "id": "5b628e56",
   "metadata": {
    "execution": {
     "iopub.execute_input": "2022-03-04T10:02:07.406032Z",
     "iopub.status.busy": "2022-03-04T10:02:07.404482Z",
     "iopub.status.idle": "2022-03-04T10:02:08.633539Z",
     "shell.execute_reply": "2022-03-04T10:02:08.632923Z",
     "shell.execute_reply.started": "2022-03-04T09:44:56.982796Z"
    },
    "papermill": {
     "duration": 1.268672,
     "end_time": "2022-03-04T10:02:08.633734",
     "exception": false,
     "start_time": "2022-03-04T10:02:07.365062",
     "status": "completed"
    },
    "tags": []
   },
   "outputs": [],
   "source": [
    "from sklearn.model_selection import train_test_split"
   ]
  },
  {
   "cell_type": "code",
   "execution_count": 14,
   "id": "094ab5c6",
   "metadata": {
    "execution": {
     "iopub.execute_input": "2022-03-04T10:02:08.716825Z",
     "iopub.status.busy": "2022-03-04T10:02:08.715985Z",
     "iopub.status.idle": "2022-03-04T10:02:08.722613Z",
     "shell.execute_reply": "2022-03-04T10:02:08.723154Z",
     "shell.execute_reply.started": "2022-03-04T09:46:15.083447Z"
    },
    "papermill": {
     "duration": 0.049693,
     "end_time": "2022-03-04T10:02:08.723324",
     "exception": false,
     "start_time": "2022-03-04T10:02:08.673631",
     "status": "completed"
    },
    "tags": []
   },
   "outputs": [],
   "source": [
    "train_x, test_x, train_y, test_y  = train_test_split(x, y, test_size=0.2, random_state=42)"
   ]
  },
  {
   "cell_type": "code",
   "execution_count": 15,
   "id": "f4b27e87",
   "metadata": {
    "execution": {
     "iopub.execute_input": "2022-03-04T10:02:08.801459Z",
     "iopub.status.busy": "2022-03-04T10:02:08.800379Z",
     "iopub.status.idle": "2022-03-04T10:02:08.802421Z",
     "shell.execute_reply": "2022-03-04T10:02:08.803055Z",
     "shell.execute_reply.started": "2022-03-04T09:47:30.531858Z"
    },
    "papermill": {
     "duration": 0.043546,
     "end_time": "2022-03-04T10:02:08.803228",
     "exception": false,
     "start_time": "2022-03-04T10:02:08.759682",
     "status": "completed"
    },
    "tags": []
   },
   "outputs": [],
   "source": [
    "from sklearn.preprocessing import StandardScaler"
   ]
  },
  {
   "cell_type": "code",
   "execution_count": 16,
   "id": "eff596f3",
   "metadata": {
    "execution": {
     "iopub.execute_input": "2022-03-04T10:02:08.879515Z",
     "iopub.status.busy": "2022-03-04T10:02:08.878512Z",
     "iopub.status.idle": "2022-03-04T10:02:08.893883Z",
     "shell.execute_reply": "2022-03-04T10:02:08.894355Z",
     "shell.execute_reply.started": "2022-03-04T09:48:24.788857Z"
    },
    "papermill": {
     "duration": 0.055314,
     "end_time": "2022-03-04T10:02:08.894537",
     "exception": false,
     "start_time": "2022-03-04T10:02:08.839223",
     "status": "completed"
    },
    "tags": []
   },
   "outputs": [
    {
     "data": {
      "text/html": [
       "<div>\n",
       "<style scoped>\n",
       "    .dataframe tbody tr th:only-of-type {\n",
       "        vertical-align: middle;\n",
       "    }\n",
       "\n",
       "    .dataframe tbody tr th {\n",
       "        vertical-align: top;\n",
       "    }\n",
       "\n",
       "    .dataframe thead th {\n",
       "        text-align: right;\n",
       "    }\n",
       "</style>\n",
       "<table border=\"1\" class=\"dataframe\">\n",
       "  <thead>\n",
       "    <tr style=\"text-align: right;\">\n",
       "      <th></th>\n",
       "      <th>ph</th>\n",
       "      <th>Hardness</th>\n",
       "      <th>Solids</th>\n",
       "      <th>Chloramines</th>\n",
       "      <th>Sulfate</th>\n",
       "      <th>Conductivity</th>\n",
       "      <th>Organic_carbon</th>\n",
       "      <th>Trihalomethanes</th>\n",
       "      <th>Turbidity</th>\n",
       "    </tr>\n",
       "  </thead>\n",
       "  <tbody>\n",
       "    <tr>\n",
       "      <th>233</th>\n",
       "      <td>6.623614</td>\n",
       "      <td>203.030141</td>\n",
       "      <td>17167.301297</td>\n",
       "      <td>6.049601</td>\n",
       "      <td>311.726288</td>\n",
       "      <td>410.243247</td>\n",
       "      <td>15.914500</td>\n",
       "      <td>65.021229</td>\n",
       "      <td>2.915166</td>\n",
       "    </tr>\n",
       "    <tr>\n",
       "      <th>831</th>\n",
       "      <td>6.684700</td>\n",
       "      <td>193.840931</td>\n",
       "      <td>34157.184474</td>\n",
       "      <td>9.876574</td>\n",
       "      <td>344.535407</td>\n",
       "      <td>498.063996</td>\n",
       "      <td>8.818757</td>\n",
       "      <td>66.659352</td>\n",
       "      <td>4.030660</td>\n",
       "    </tr>\n",
       "    <tr>\n",
       "      <th>2658</th>\n",
       "      <td>6.836060</td>\n",
       "      <td>205.667718</td>\n",
       "      <td>18321.327502</td>\n",
       "      <td>6.712854</td>\n",
       "      <td>297.837188</td>\n",
       "      <td>494.484249</td>\n",
       "      <td>13.808923</td>\n",
       "      <td>70.714225</td>\n",
       "      <td>4.952508</td>\n",
       "    </tr>\n",
       "    <tr>\n",
       "      <th>2495</th>\n",
       "      <td>0.000000</td>\n",
       "      <td>183.488839</td>\n",
       "      <td>12675.938962</td>\n",
       "      <td>9.777807</td>\n",
       "      <td>319.870584</td>\n",
       "      <td>482.445026</td>\n",
       "      <td>13.309723</td>\n",
       "      <td>46.853410</td>\n",
       "      <td>3.240419</td>\n",
       "    </tr>\n",
       "    <tr>\n",
       "      <th>2603</th>\n",
       "      <td>6.406798</td>\n",
       "      <td>182.885137</td>\n",
       "      <td>17851.064021</td>\n",
       "      <td>7.462758</td>\n",
       "      <td>332.486731</td>\n",
       "      <td>398.779746</td>\n",
       "      <td>17.301617</td>\n",
       "      <td>64.070236</td>\n",
       "      <td>4.573968</td>\n",
       "    </tr>\n",
       "  </tbody>\n",
       "</table>\n",
       "</div>"
      ],
      "text/plain": [
       "            ph    Hardness        Solids  Chloramines     Sulfate  \\\n",
       "233   6.623614  203.030141  17167.301297     6.049601  311.726288   \n",
       "831   6.684700  193.840931  34157.184474     9.876574  344.535407   \n",
       "2658  6.836060  205.667718  18321.327502     6.712854  297.837188   \n",
       "2495  0.000000  183.488839  12675.938962     9.777807  319.870584   \n",
       "2603  6.406798  182.885137  17851.064021     7.462758  332.486731   \n",
       "\n",
       "      Conductivity  Organic_carbon  Trihalomethanes  Turbidity  \n",
       "233     410.243247       15.914500        65.021229   2.915166  \n",
       "831     498.063996        8.818757        66.659352   4.030660  \n",
       "2658    494.484249       13.808923        70.714225   4.952508  \n",
       "2495    482.445026       13.309723        46.853410   3.240419  \n",
       "2603    398.779746       17.301617        64.070236   4.573968  "
      ]
     },
     "execution_count": 16,
     "metadata": {},
     "output_type": "execute_result"
    }
   ],
   "source": [
    "train_x.head()"
   ]
  },
  {
   "cell_type": "code",
   "execution_count": 17,
   "id": "92490354",
   "metadata": {
    "execution": {
     "iopub.execute_input": "2022-03-04T10:02:08.974002Z",
     "iopub.status.busy": "2022-03-04T10:02:08.973021Z",
     "iopub.status.idle": "2022-03-04T10:02:08.975859Z",
     "shell.execute_reply": "2022-03-04T10:02:08.975345Z",
     "shell.execute_reply.started": "2022-03-04T09:48:44.864818Z"
    },
    "papermill": {
     "duration": 0.044483,
     "end_time": "2022-03-04T10:02:08.976014",
     "exception": false,
     "start_time": "2022-03-04T10:02:08.931531",
     "status": "completed"
    },
    "tags": []
   },
   "outputs": [],
   "source": [
    "scl = StandardScaler()"
   ]
  },
  {
   "cell_type": "code",
   "execution_count": 18,
   "id": "7cd550d7",
   "metadata": {
    "execution": {
     "iopub.execute_input": "2022-03-04T10:02:09.065234Z",
     "iopub.status.busy": "2022-03-04T10:02:09.062997Z",
     "iopub.status.idle": "2022-03-04T10:02:09.068786Z",
     "shell.execute_reply": "2022-03-04T10:02:09.068206Z",
     "shell.execute_reply.started": "2022-03-04T09:49:18.051076Z"
    },
    "papermill": {
     "duration": 0.052998,
     "end_time": "2022-03-04T10:02:09.068942",
     "exception": false,
     "start_time": "2022-03-04T10:02:09.015944",
     "status": "completed"
    },
    "tags": []
   },
   "outputs": [],
   "source": [
    "train_x_scl = scl.fit_transform(train_x)"
   ]
  },
  {
   "cell_type": "code",
   "execution_count": 19,
   "id": "59ebd3e0",
   "metadata": {
    "execution": {
     "iopub.execute_input": "2022-03-04T10:02:09.153522Z",
     "iopub.status.busy": "2022-03-04T10:02:09.152839Z",
     "iopub.status.idle": "2022-03-04T10:02:09.154395Z",
     "shell.execute_reply": "2022-03-04T10:02:09.154990Z",
     "shell.execute_reply.started": "2022-03-04T09:50:13.692955Z"
    },
    "papermill": {
     "duration": 0.046911,
     "end_time": "2022-03-04T10:02:09.155159",
     "exception": false,
     "start_time": "2022-03-04T10:02:09.108248",
     "status": "completed"
    },
    "tags": []
   },
   "outputs": [],
   "source": [
    "test_x_scl = scl.transform(test_x)"
   ]
  },
  {
   "cell_type": "code",
   "execution_count": null,
   "id": "e5fc3b77",
   "metadata": {
    "papermill": {
     "duration": 0.036629,
     "end_time": "2022-03-04T10:02:09.229294",
     "exception": false,
     "start_time": "2022-03-04T10:02:09.192665",
     "status": "completed"
    },
    "tags": []
   },
   "outputs": [],
   "source": []
  },
  {
   "cell_type": "markdown",
   "id": "b0346a43",
   "metadata": {
    "papermill": {
     "duration": 0.038468,
     "end_time": "2022-03-04T10:02:09.304560",
     "exception": false,
     "start_time": "2022-03-04T10:02:09.266092",
     "status": "completed"
    },
    "tags": []
   },
   "source": [
    "## Lets's make a Logistic Regression model"
   ]
  },
  {
   "cell_type": "code",
   "execution_count": 20,
   "id": "fd0f1e1a",
   "metadata": {
    "execution": {
     "iopub.execute_input": "2022-03-04T10:02:09.384150Z",
     "iopub.status.busy": "2022-03-04T10:02:09.383461Z",
     "iopub.status.idle": "2022-03-04T10:02:09.571635Z",
     "shell.execute_reply": "2022-03-04T10:02:09.572219Z",
     "shell.execute_reply.started": "2022-03-04T09:54:46.931207Z"
    },
    "papermill": {
     "duration": 0.229296,
     "end_time": "2022-03-04T10:02:09.572434",
     "exception": false,
     "start_time": "2022-03-04T10:02:09.343138",
     "status": "completed"
    },
    "tags": []
   },
   "outputs": [],
   "source": [
    "from sklearn.tree import DecisionTreeClassifier"
   ]
  },
  {
   "cell_type": "code",
   "execution_count": 21,
   "id": "8c195f1b",
   "metadata": {
    "execution": {
     "iopub.execute_input": "2022-03-04T10:02:09.659966Z",
     "iopub.status.busy": "2022-03-04T10:02:09.659310Z",
     "iopub.status.idle": "2022-03-04T10:02:09.662998Z",
     "shell.execute_reply": "2022-03-04T10:02:09.662437Z",
     "shell.execute_reply.started": "2022-03-04T09:55:13.722058Z"
    },
    "papermill": {
     "duration": 0.051093,
     "end_time": "2022-03-04T10:02:09.663151",
     "exception": false,
     "start_time": "2022-03-04T10:02:09.612058",
     "status": "completed"
    },
    "tags": []
   },
   "outputs": [],
   "source": [
    "dtc = DecisionTreeClassifier(random_state=0)"
   ]
  },
  {
   "cell_type": "code",
   "execution_count": 22,
   "id": "dbfbee48",
   "metadata": {
    "execution": {
     "iopub.execute_input": "2022-03-04T10:02:09.741971Z",
     "iopub.status.busy": "2022-03-04T10:02:09.741221Z",
     "iopub.status.idle": "2022-03-04T10:02:09.779715Z",
     "shell.execute_reply": "2022-03-04T10:02:09.780316Z",
     "shell.execute_reply.started": "2022-03-04T09:55:18.853336Z"
    },
    "papermill": {
     "duration": 0.080092,
     "end_time": "2022-03-04T10:02:09.780504",
     "exception": false,
     "start_time": "2022-03-04T10:02:09.700412",
     "status": "completed"
    },
    "tags": []
   },
   "outputs": [
    {
     "data": {
      "text/plain": [
       "DecisionTreeClassifier(random_state=0)"
      ]
     },
     "execution_count": 22,
     "metadata": {},
     "output_type": "execute_result"
    }
   ],
   "source": [
    "dtc.fit(train_x_scl, train_y)"
   ]
  },
  {
   "cell_type": "code",
   "execution_count": null,
   "id": "d059aabe",
   "metadata": {
    "papermill": {
     "duration": 0.036849,
     "end_time": "2022-03-04T10:02:09.856212",
     "exception": false,
     "start_time": "2022-03-04T10:02:09.819363",
     "status": "completed"
    },
    "tags": []
   },
   "outputs": [],
   "source": []
  },
  {
   "cell_type": "markdown",
   "id": "3387fed5",
   "metadata": {
    "papermill": {
     "duration": 0.037073,
     "end_time": "2022-03-04T10:02:09.930511",
     "exception": false,
     "start_time": "2022-03-04T10:02:09.893438",
     "status": "completed"
    },
    "tags": []
   },
   "source": [
    "### Make some predictions and evaluate the model"
   ]
  },
  {
   "cell_type": "code",
   "execution_count": 23,
   "id": "a85cb40d",
   "metadata": {
    "execution": {
     "iopub.execute_input": "2022-03-04T10:02:10.009714Z",
     "iopub.status.busy": "2022-03-04T10:02:10.009031Z",
     "iopub.status.idle": "2022-03-04T10:02:10.011324Z",
     "shell.execute_reply": "2022-03-04T10:02:10.011822Z",
     "shell.execute_reply.started": "2022-03-04T09:55:26.456132Z"
    },
    "papermill": {
     "duration": 0.044263,
     "end_time": "2022-03-04T10:02:10.012001",
     "exception": false,
     "start_time": "2022-03-04T10:02:09.967738",
     "status": "completed"
    },
    "tags": []
   },
   "outputs": [],
   "source": [
    "predictions = dtc.predict(test_x_scl)"
   ]
  },
  {
   "cell_type": "code",
   "execution_count": 24,
   "id": "56b4da23",
   "metadata": {
    "execution": {
     "iopub.execute_input": "2022-03-04T10:02:10.090376Z",
     "iopub.status.busy": "2022-03-04T10:02:10.089662Z",
     "iopub.status.idle": "2022-03-04T10:02:10.093030Z",
     "shell.execute_reply": "2022-03-04T10:02:10.093585Z",
     "shell.execute_reply.started": "2022-03-04T09:56:46.170548Z"
    },
    "papermill": {
     "duration": 0.044082,
     "end_time": "2022-03-04T10:02:10.093783",
     "exception": false,
     "start_time": "2022-03-04T10:02:10.049701",
     "status": "completed"
    },
    "tags": []
   },
   "outputs": [],
   "source": [
    "from sklearn.metrics import confusion_matrix, classification_report"
   ]
  },
  {
   "cell_type": "code",
   "execution_count": 25,
   "id": "16f600ad",
   "metadata": {
    "execution": {
     "iopub.execute_input": "2022-03-04T10:02:10.174699Z",
     "iopub.status.busy": "2022-03-04T10:02:10.174008Z",
     "iopub.status.idle": "2022-03-04T10:02:10.181083Z",
     "shell.execute_reply": "2022-03-04T10:02:10.180422Z",
     "shell.execute_reply.started": "2022-03-04T09:57:13.989736Z"
    },
    "papermill": {
     "duration": 0.048813,
     "end_time": "2022-03-04T10:02:10.181225",
     "exception": false,
     "start_time": "2022-03-04T10:02:10.132412",
     "status": "completed"
    },
    "tags": []
   },
   "outputs": [
    {
     "data": {
      "text/plain": [
       "array([[272, 140],\n",
       "       [134, 110]])"
      ]
     },
     "execution_count": 25,
     "metadata": {},
     "output_type": "execute_result"
    }
   ],
   "source": [
    "confusion_matrix(test_y, predictions)"
   ]
  },
  {
   "cell_type": "code",
   "execution_count": 26,
   "id": "2177fce8",
   "metadata": {
    "execution": {
     "iopub.execute_input": "2022-03-04T10:02:10.262873Z",
     "iopub.status.busy": "2022-03-04T10:02:10.262174Z",
     "iopub.status.idle": "2022-03-04T10:02:10.271792Z",
     "shell.execute_reply": "2022-03-04T10:02:10.272667Z",
     "shell.execute_reply.started": "2022-03-04T09:57:40.163424Z"
    },
    "papermill": {
     "duration": 0.05279,
     "end_time": "2022-03-04T10:02:10.272910",
     "exception": false,
     "start_time": "2022-03-04T10:02:10.220120",
     "status": "completed"
    },
    "tags": []
   },
   "outputs": [
    {
     "name": "stdout",
     "output_type": "stream",
     "text": [
      "              precision    recall  f1-score   support\n",
      "\n",
      "           0       0.67      0.66      0.67       412\n",
      "           1       0.44      0.45      0.45       244\n",
      "\n",
      "    accuracy                           0.58       656\n",
      "   macro avg       0.55      0.56      0.56       656\n",
      "weighted avg       0.58      0.58      0.58       656\n",
      "\n"
     ]
    }
   ],
   "source": [
    "print(classification_report(test_y, predictions))"
   ]
  },
  {
   "cell_type": "code",
   "execution_count": null,
   "id": "d4ce2768",
   "metadata": {
    "papermill": {
     "duration": 0.03858,
     "end_time": "2022-03-04T10:02:10.351946",
     "exception": false,
     "start_time": "2022-03-04T10:02:10.313366",
     "status": "completed"
    },
    "tags": []
   },
   "outputs": [],
   "source": []
  },
  {
   "cell_type": "code",
   "execution_count": null,
   "id": "eaa3436a",
   "metadata": {
    "papermill": {
     "duration": 0.038083,
     "end_time": "2022-03-04T10:02:10.429877",
     "exception": false,
     "start_time": "2022-03-04T10:02:10.391794",
     "status": "completed"
    },
    "tags": []
   },
   "outputs": [],
   "source": []
  },
  {
   "cell_type": "code",
   "execution_count": null,
   "id": "dd5773c1",
   "metadata": {
    "papermill": {
     "duration": 0.038144,
     "end_time": "2022-03-04T10:02:10.506350",
     "exception": false,
     "start_time": "2022-03-04T10:02:10.468206",
     "status": "completed"
    },
    "tags": []
   },
   "outputs": [],
   "source": []
  },
  {
   "cell_type": "code",
   "execution_count": null,
   "id": "fd1457da",
   "metadata": {
    "papermill": {
     "duration": 0.040525,
     "end_time": "2022-03-04T10:02:10.584855",
     "exception": false,
     "start_time": "2022-03-04T10:02:10.544330",
     "status": "completed"
    },
    "tags": []
   },
   "outputs": [],
   "source": []
  }
 ],
 "metadata": {
  "kernelspec": {
   "display_name": "Python 3",
   "language": "python",
   "name": "python3"
  },
  "language_info": {
   "codemirror_mode": {
    "name": "ipython",
    "version": 3
   },
   "file_extension": ".py",
   "mimetype": "text/x-python",
   "name": "python",
   "nbconvert_exporter": "python",
   "pygments_lexer": "ipython3",
   "version": "3.7.12"
  },
  "papermill": {
   "default_parameters": {},
   "duration": 15.82139,
   "end_time": "2022-03-04T10:02:11.335263",
   "environment_variables": {},
   "exception": null,
   "input_path": "__notebook__.ipynb",
   "output_path": "__notebook__.ipynb",
   "parameters": {},
   "start_time": "2022-03-04T10:01:55.513873",
   "version": "2.3.3"
  }
 },
 "nbformat": 4,
 "nbformat_minor": 5
}
